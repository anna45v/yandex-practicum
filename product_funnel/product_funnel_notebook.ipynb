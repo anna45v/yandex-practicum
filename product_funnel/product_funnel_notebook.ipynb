{
 "cells": [
  {
   "cell_type": "markdown",
   "metadata": {},
   "source": [
    "# 0. Импорты и определения"
   ]
  },
  {
   "cell_type": "code",
   "execution_count": 1,
   "metadata": {},
   "outputs": [],
   "source": [
    "import pandas as pd\n",
    "import numpy as np\n",
    "import math as mth\n",
    "import scipy.stats as stats\n",
    "import random\n",
    "from matplotlib import pyplot as plt\n",
    "import seaborn as sns\n",
    "from datetime import datetime as dt"
   ]
  },
  {
   "cell_type": "code",
   "execution_count": 2,
   "metadata": {},
   "outputs": [],
   "source": [
    "sns.set_style('darkgrid')"
   ]
  },
  {
   "cell_type": "code",
   "execution_count": 4,
   "metadata": {},
   "outputs": [],
   "source": [
    "# Функция для создания гистограммы\n",
    "\n",
    "def create_histplot(df, \n",
    "                    x, \n",
    "                    bins=10, \n",
    "                    title='', \n",
    "                    xlabel='', \n",
    "                    ylabel='', \n",
    "                    vline=None, \n",
    "                    figsize=(14, 6)):\n",
    "    \n",
    "    fig, ax = plt.subplots(figsize=figsize)    \n",
    "    sns.histplot(data=df, \n",
    "                 x=x, \n",
    "                 bins=bins,\n",
    "                 ax=ax)    \n",
    "    if vline:\n",
    "        ax.axvline(x=vline, color='black')        \n",
    "    ax.set(title=title, \n",
    "           xlabel=xlabel, \n",
    "           ylabel=ylabel) \n",
    "    plt.show();"
   ]
  },
  {
   "cell_type": "code",
   "execution_count": 5,
   "metadata": {},
   "outputs": [],
   "source": [
    "# Функция для создания нескольких боксплотов с разбивкой по категориальному признаку\n",
    "\n",
    "def create_boxplots(df, \n",
    "                    x, \n",
    "                    y, \n",
    "                    title='', \n",
    "                    xlabel='', \n",
    "                    ylabel='', \n",
    "                    figsize=(14, 6)):\n",
    "    \n",
    "    fig, ax = plt.subplots(figsize=figsize)   \n",
    "    sns.boxplot(data=df, \n",
    "                x=x, \n",
    "                y=y,\n",
    "                color='#1f77b4',\n",
    "                ax=ax)   \n",
    "    ax.set(title=title, \n",
    "           xlabel=xlabel, \n",
    "           ylabel=ylabel)   \n",
    "    plt.show();"
   ]
  },
  {
   "cell_type": "code",
   "execution_count": 6,
   "metadata": {},
   "outputs": [],
   "source": [
    "# Функция для создания барчарта\n",
    "\n",
    "def create_barchart(df, \n",
    "                    x, \n",
    "                    y, \n",
    "                    xlabel, \n",
    "                    ylabel, \n",
    "                    title, \n",
    "                    vline_x=0, \n",
    "                    figsize=(14, 6)): \n",
    "\n",
    "    fig, ax = plt.subplots(figsize=figsize)  \n",
    "    sns.barplot(data=df, \n",
    "                x=x, \n",
    "                y=y,\n",
    "                color='#1f77b4',\n",
    "                ax=ax)  \n",
    "    ax.set(title=title, \n",
    "           xlabel=xlabel, \n",
    "           ylabel=ylabel)\n",
    "    ax.bar_label(ax.containers[0], \n",
    "                 fmt='%.0f', \n",
    "                 label_type='edge',\n",
    "                 padding=1)\n",
    "    if vline_x != 0:       \n",
    "        plt.axvline(x=vline_x, \n",
    "                    color = 'black', \n",
    "                    linewidth=2, \n",
    "                    linestyle='dotted')\n",
    "    plt.show();"
   ]
  },
  {
   "cell_type": "code",
   "execution_count": 7,
   "metadata": {},
   "outputs": [],
   "source": [
    "# Функция для создания линейного графика\n",
    "\n",
    "def lineplot(df, \n",
    "             x, \n",
    "             y, \n",
    "             xlabel, \n",
    "             ylabel, \n",
    "             title, \n",
    "             hue=None, \n",
    "             figsize=(12, 6)): \n",
    "\n",
    "    fig, ax = plt.subplots(figsize=figsize)\n",
    "    if hue:\n",
    "        sns.lineplot(data=df,\n",
    "                     x=x,\n",
    "                     y=y,\n",
    "                     hue=hue,\n",
    "                     ax=ax)\n",
    "    else:\n",
    "        sns.lineplot(data=df,\n",
    "                     x=x,\n",
    "                     y=y,\n",
    "                     ax=ax)   \n",
    "    ax.set(title=title, \n",
    "           xlabel=xlabel, \n",
    "           ylabel=ylabel)    \n",
    "    plt.show();"
   ]
  },
  {
   "cell_type": "code",
   "execution_count": 8,
   "metadata": {},
   "outputs": [],
   "source": [
    "# Функция для конкатенации непустых значений в столбцах датафрейма\n",
    "\n",
    "def concat_columns_values(values_list):\n",
    "    \n",
    "    s = ''\n",
    "    for value in values_list:\n",
    "        if value != '':\n",
    "            s = s + value + ', '\n",
    "   \n",
    "    if s[-2:] == ', ':\n",
    "        s = s[:-2]        \n",
    "    return s"
   ]
  },
  {
   "cell_type": "code",
   "execution_count": 9,
   "metadata": {},
   "outputs": [],
   "source": [
    "# Функция для расчета z-статистики\n",
    "\n",
    "def z_test(sample_a, sample_b, two_sided=True):\n",
    "    \n",
    "    # Считаем доли пользователей, совершивших событие, для каждой выборки    \n",
    "    p_a = sample_a.mean()\n",
    "    p_b = sample_b.mean()\n",
    "    \n",
    "    # Считаем разницу в долях между выборками\n",
    "    difference = p_a - p_b\n",
    "    \n",
    "    # Считаем доли пользователей, совершивших событие, для объединенной выборки\n",
    "    p = pd.concat([sample_a, sample_b]).mean()    \n",
    "    \n",
    "    # Считаем статистику\n",
    "    z_value = difference / mth.sqrt(p * (1 - p) * (1/len(sample_a) + 1/len(sample_b)))\n",
    "    \n",
    "    # Задаем нормальное распределение\n",
    "    distribution = stats.norm(0, 1)\n",
    "    \n",
    "    # Считаем p-value\n",
    "    if two_sided:\n",
    "        p_value = (1 - distribution.cdf(abs(z_value))) * 2\n",
    "    else:\n",
    "        p_value = (1 - distribution.cdf(abs(z_value)))\n",
    "    \n",
    "    return difference, p_value"
   ]
  },
  {
   "cell_type": "code",
   "execution_count": 10,
   "metadata": {},
   "outputs": [],
   "source": [
    "# Функция для фильтрации выборки из датасета\n",
    "\n",
    "def get_sample(df, group_name, event_name_short):\n",
    "    \n",
    "    events_number = (\n",
    "        df.query('group in @group_name and event_name_short in @event_name_short')\n",
    "        ['user_id'].nunique()\n",
    "    )\n",
    "        \n",
    "    users_number = (\n",
    "        df.query('group in @group_name')\n",
    "        ['user_id'].nunique()\n",
    "    )\n",
    "    \n",
    "    sample = [0] * (users_number - events_number)\n",
    "    sample.extend([1] * events_number)\n",
    "    sample = pd.Series(sample)\n",
    "    \n",
    "    return sample"
   ]
  },
  {
   "cell_type": "code",
   "execution_count": 11,
   "metadata": {},
   "outputs": [],
   "source": [
    "# Функция для условного форматирования текста\n",
    "def color_thresh_red(val):\n",
    "    color = 'red' if val >= 0.05 else 'black'\n",
    "    return 'color: %s' % color"
   ]
  },
  {
   "cell_type": "markdown",
   "metadata": {},
   "source": [
    "# 1. Загрузка и подготовка данных\n",
    "\n",
    "На этом этапе мы загрузим данные логов, изучим общую информацию, проверим пропуски и типы данных. На выходе мы должны получить датасет, готовый к исследовательскому анализу."
   ]
  },
  {
   "cell_type": "code",
   "execution_count": 12,
   "metadata": {},
   "outputs": [
    {
     "data": {
      "text/html": [
       "<div>\n",
       "<style scoped>\n",
       "    .dataframe tbody tr th:only-of-type {\n",
       "        vertical-align: middle;\n",
       "    }\n",
       "\n",
       "    .dataframe tbody tr th {\n",
       "        vertical-align: top;\n",
       "    }\n",
       "\n",
       "    .dataframe thead th {\n",
       "        text-align: right;\n",
       "    }\n",
       "</style>\n",
       "<table border=\"1\" class=\"dataframe\">\n",
       "  <thead>\n",
       "    <tr style=\"text-align: right;\">\n",
       "      <th></th>\n",
       "      <th>EventName</th>\n",
       "      <th>DeviceIDHash</th>\n",
       "      <th>EventTimestamp</th>\n",
       "      <th>ExpId</th>\n",
       "    </tr>\n",
       "  </thead>\n",
       "  <tbody>\n",
       "    <tr>\n",
       "      <th>0</th>\n",
       "      <td>MainScreenAppear</td>\n",
       "      <td>4575588528974610257</td>\n",
       "      <td>1564029816</td>\n",
       "      <td>246</td>\n",
       "    </tr>\n",
       "    <tr>\n",
       "      <th>1</th>\n",
       "      <td>MainScreenAppear</td>\n",
       "      <td>7416695313311560658</td>\n",
       "      <td>1564053102</td>\n",
       "      <td>246</td>\n",
       "    </tr>\n",
       "    <tr>\n",
       "      <th>2</th>\n",
       "      <td>PaymentScreenSuccessful</td>\n",
       "      <td>3518123091307005509</td>\n",
       "      <td>1564054127</td>\n",
       "      <td>248</td>\n",
       "    </tr>\n",
       "    <tr>\n",
       "      <th>3</th>\n",
       "      <td>CartScreenAppear</td>\n",
       "      <td>3518123091307005509</td>\n",
       "      <td>1564054127</td>\n",
       "      <td>248</td>\n",
       "    </tr>\n",
       "    <tr>\n",
       "      <th>4</th>\n",
       "      <td>PaymentScreenSuccessful</td>\n",
       "      <td>6217807653094995999</td>\n",
       "      <td>1564055322</td>\n",
       "      <td>248</td>\n",
       "    </tr>\n",
       "  </tbody>\n",
       "</table>\n",
       "</div>"
      ],
      "text/plain": [
       "                 EventName         DeviceIDHash  EventTimestamp  ExpId\n",
       "0         MainScreenAppear  4575588528974610257      1564029816    246\n",
       "1         MainScreenAppear  7416695313311560658      1564053102    246\n",
       "2  PaymentScreenSuccessful  3518123091307005509      1564054127    248\n",
       "3         CartScreenAppear  3518123091307005509      1564054127    248\n",
       "4  PaymentScreenSuccessful  6217807653094995999      1564055322    248"
      ]
     },
     "execution_count": 12,
     "metadata": {},
     "output_type": "execute_result"
    }
   ],
   "source": [
    "logs_raw = pd.read_csv('')\n",
    "\n",
    "logs_raw.head()"
   ]
  },
  {
   "cell_type": "code",
   "execution_count": 13,
   "metadata": {},
   "outputs": [
    {
     "name": "stdout",
     "output_type": "stream",
     "text": [
      "<class 'pandas.core.frame.DataFrame'>\n",
      "RangeIndex: 244126 entries, 0 to 244125\n",
      "Data columns (total 4 columns):\n",
      " #   Column          Non-Null Count   Dtype \n",
      "---  ------          --------------   ----- \n",
      " 0   EventName       244126 non-null  object\n",
      " 1   DeviceIDHash    244126 non-null  int64 \n",
      " 2   EventTimestamp  244126 non-null  int64 \n",
      " 3   ExpId           244126 non-null  int64 \n",
      "dtypes: int64(3), object(1)\n",
      "memory usage: 7.5+ MB\n"
     ]
    }
   ],
   "source": [
    "logs_raw.info()"
   ]
  },
  {
   "cell_type": "code",
   "execution_count": 14,
   "metadata": {},
   "outputs": [
    {
     "name": "stdout",
     "output_type": "stream",
     "text": [
      "В датафрейме 413 дублированных записей. Это 0.17% от всего датафрейма\n"
     ]
    }
   ],
   "source": [
    "print(\n",
    "    'В датафрейме {0} дублированных записей. Это {1}% от всего датафрейма'\n",
    "    .format(logs_raw[logs_raw.duplicated()].shape[0], \n",
    "           round(100 * logs_raw[logs_raw.duplicated()].shape[0] / logs_raw.shape[0], 2))\n",
    ")"
   ]
  },
  {
   "cell_type": "markdown",
   "metadata": {},
   "source": [
    "Всего в датафрейме 244126 записей, пропусков нет. Есть 413 дублированных строк, скорее всего ошибка сбора данных, это немного относительно всего датафрейма (0.17%), поэтому можем их безопасно удалить.\n",
    "\n",
    "Сохраним данные в отдельный датафрейм, далее будем работать с ним. В датафрейме переименуем столбцы, удалим дубликаты."
   ]
  },
  {
   "cell_type": "code",
   "execution_count": 15,
   "metadata": {},
   "outputs": [],
   "source": [
    "logs = logs_raw.copy()\n",
    "\n",
    "logs.columns = ['event_name', 'user_id', 'event_timestamp', 'group']\n",
    "\n",
    "logs = logs.drop_duplicates().reset_index(drop=True)"
   ]
  },
  {
   "cell_type": "markdown",
   "metadata": {},
   "source": [
    "В наших даных есть столбец *event_timestamp* типа int64, содержащий таймстэмпы событий. Из него мы извлечем дату и время событий.\n",
    "\n",
    "Столбец с группой A/B-теста сделаем строковым."
   ]
  },
  {
   "cell_type": "code",
   "execution_count": 16,
   "metadata": {},
   "outputs": [],
   "source": [
    "logs['event_datetime'] = pd.to_datetime(logs['event_timestamp'], unit='s')\n",
    "logs['event_date'] = pd.to_datetime(logs['event_datetime'].dt.date).dt.date\n",
    "\n",
    "logs['group'] = logs['group'].astype(str)"
   ]
  },
  {
   "cell_type": "markdown",
   "metadata": {},
   "source": [
    "Сразу проверим, что между пользователями разных групп нет пересечений: каждый пользователей должен попасть только в одну группу."
   ]
  },
  {
   "cell_type": "code",
   "execution_count": 17,
   "metadata": {},
   "outputs": [
    {
     "name": "stdout",
     "output_type": "stream",
     "text": [
      "Между группами 246 и 247 нет пересечения пользователей\n",
      "\n",
      "Между группами 246 и 248 нет пересечения пользователей\n",
      "\n",
      "Между группами 247 и 248 нет пересечения пользователей\n",
      "\n"
     ]
    }
   ],
   "source": [
    "for groups in ((246, 247), (246, 248), (247, 248)):\n",
    "    group_a_users = logs.loc[logs['group']==groups[0], 'user_id'].unique()\n",
    "    group_b_users = logs.loc[logs['group']==groups[1], 'user_id'].unique()\n",
    "    groups_intersection = np.intersect1d(group_a_users, group_b_users)\n",
    "    if len(groups_intersection) > 0:\n",
    "        print('Между группами {0} и {1} есть пересечение пользователей'.format(groups[0], groups[1]))\n",
    "        print()\n",
    "    else:\n",
    "        print('Между группами {0} и {1} нет пересечения пользователей'.format(groups[0], groups[1]))\n",
    "        print()"
   ]
  },
  {
   "cell_type": "code",
   "execution_count": 18,
   "metadata": {},
   "outputs": [
    {
     "name": "stdout",
     "output_type": "stream",
     "text": [
      "<class 'pandas.core.frame.DataFrame'>\n",
      "RangeIndex: 243713 entries, 0 to 243712\n",
      "Data columns (total 6 columns):\n",
      " #   Column           Non-Null Count   Dtype         \n",
      "---  ------           --------------   -----         \n",
      " 0   event_name       243713 non-null  object        \n",
      " 1   user_id          243713 non-null  int64         \n",
      " 2   event_timestamp  243713 non-null  int64         \n",
      " 3   group            243713 non-null  object        \n",
      " 4   event_datetime   243713 non-null  datetime64[ns]\n",
      " 5   event_date       243713 non-null  object        \n",
      "dtypes: datetime64[ns](1), int64(2), object(3)\n",
      "memory usage: 11.2+ MB\n"
     ]
    }
   ],
   "source": [
    "logs.info()"
   ]
  },
  {
   "cell_type": "markdown",
   "metadata": {},
   "source": [
    "Теперь у нас есть датафрейм без дубликатов, с верными типами данных и с двумя столбцами дат, которые пригодятся нам в дальнейшем анализе. Пользователи верно распределены по группам: каждый человек попал только в одну группу."
   ]
  },
  {
   "cell_type": "markdown",
   "metadata": {},
   "source": [
    "# 2. Исследовательский анализ\n",
    "\n",
    "На этом этапе изучим наши данные подробнее, ответим на основные вопросы о них:\n",
    "\n",
    "- сколько всего событий в логе?\n",
    "- сколько всего пользователей в логе?\n",
    "- как распределено количество событий на пользователя?\n",
    "- данными за какой период мы располагаем? \n",
    "- равномерно ли экспериментальные группы представлены в данных?\n",
    "\n",
    "## 2.1. Анализ распределения количества событий и пользователей\n",
    "Посмотрим, сколько всего в логах событий, пользователей и как распределено число событий на пользователя."
   ]
  },
  {
   "cell_type": "code",
   "execution_count": 19,
   "metadata": {},
   "outputs": [
    {
     "name": "stdout",
     "output_type": "stream",
     "text": [
      "Общее число событий в логах: 243713\n",
      "Общее число пользователей в логах: 7551\n"
     ]
    }
   ],
   "source": [
    "print(\n",
    "    'Общее число событий в логах: {}'.format(logs.shape[0])\n",
    ")\n",
    "\n",
    "print(\n",
    "    'Общее число пользователей в логах: {}'.format(len(logs['user_id'].unique()))\n",
    ")"
   ]
  },
  {
   "cell_type": "code",
   "execution_count": 20,
   "metadata": {},
   "outputs": [],
   "source": [
    "events_per_user = (\n",
    "    logs.groupby(['user_id'], \n",
    "                 as_index=False)\n",
    "    .agg(event_count=('event_name', 'count'))\n",
    ")"
   ]
  },
  {
   "cell_type": "code",
   "execution_count": 21,
   "metadata": {},
   "outputs": [
    {
     "data": {
      "image/png": "[encoded data removed]",
      "text/plain": [
       "<Figure size 1200x600 with 1 Axes>"
      ]
     },
     "metadata": {},
     "output_type": "display_data"
    }
   ],
   "source": [
    "create_histplot(events_per_user,\n",
    "                x='event_count',\n",
    "                title='Распределение количества событий на пользователя',\n",
    "                xlabel='Количество событий',\n",
    "                bins=50,\n",
    "                figsize=(12, 6))"
   ]
  },
  {
   "cell_type": "code",
   "execution_count": 22,
   "metadata": {},
   "outputs": [
    {
     "data": {
      "text/plain": [
       "count    7551.000000\n",
       "mean       32.275593\n",
       "std        65.154219\n",
       "min         1.000000\n",
       "25%         9.000000\n",
       "50%        20.000000\n",
       "75%        37.000000\n",
       "max      2307.000000\n",
       "Name: event_count, dtype: float64"
      ]
     },
     "execution_count": 22,
     "metadata": {},
     "output_type": "execute_result"
    }
   ],
   "source": [
    "events_per_user['event_count'].describe()"
   ]
  },
  {
   "cell_type": "markdown",
   "metadata": {},
   "source": [
    "В среднем пользователь совершает 32 события, медианное значение - 20. У распределения есть длинный хвост вправо, а также выбросы - аномальные значения. Максимальное значение количества событий - 2307.\n",
    "\n",
    "Добавим в датафрейм столбец-признак аномального пользователя - пользователя с аномальным количеством событий (возьмем как ориентир 95 квантиль распределения)."
   ]
  },
  {
   "cell_type": "code",
   "execution_count": 23,
   "metadata": {},
   "outputs": [
    {
     "name": "stdout",
     "output_type": "stream",
     "text": [
      "Количество аномальных пользователей равно 385 (5.0% всех пользователей)\n"
     ]
    }
   ],
   "source": [
    "q95 = events_per_user['event_count'].quantile(0.95)\n",
    "anomaly_user_ids = events_per_user.query('event_count >= @q95')['user_id'].unique()\n",
    "anomaly_pct = 100 * round(len(anomaly_user_ids) / logs.user_id.nunique(), 2)\n",
    "\n",
    "print(\n",
    "    f'Количество аномальных пользователей равно {len(anomaly_user_ids)}'\\\n",
    "    f' ({anomaly_pct}% всех пользователей)')"
   ]
  },
  {
   "cell_type": "code",
   "execution_count": 24,
   "metadata": {},
   "outputs": [],
   "source": [
    "logs['user_type'] = np.where(logs['user_id'].isin(anomaly_user_ids), 'anomaly', 'regular')"
   ]
  },
  {
   "cell_type": "markdown",
   "metadata": {},
   "source": [
    "Кроме того, нам нужно будет убедиться, что это распределение имеет похожую форму во всех группах эксперимента. Это мы сделаем на этапе анализа представленности групп."
   ]
  },
  {
   "cell_type": "markdown",
   "metadata": {},
   "source": [
    "## 2.2. Анализ динамики количества событий\n",
    "\n",
    "Сначала посмотрим, какие даты событий у нас в датафрейме."
   ]
  },
  {
   "cell_type": "code",
   "execution_count": 25,
   "metadata": {},
   "outputs": [
    {
     "name": "stdout",
     "output_type": "stream",
     "text": [
      "Первая дата событий в логах: 2019-07-25\n",
      "Последняя дата событий в логах: 2019-08-07\n"
     ]
    }
   ],
   "source": [
    "print(\n",
    "    'Первая дата событий в логах: {}'.format(logs['event_date'].min())\n",
    ")\n",
    "\n",
    "print(\n",
    "    'Последняя дата событий в логах: {}'.format(logs['event_date'].max())\n",
    ")"
   ]
  },
  {
   "cell_type": "markdown",
   "metadata": {},
   "source": [
    "Данные у нас за период с 25 июля до 7 августа, т.е. две недели. Оценим, насколько равномерно распределены события по датам:"
   ]
  },
  {
   "cell_type": "code",
   "execution_count": 26,
   "metadata": {
    "scrolled": true
   },
   "outputs": [],
   "source": [
    "events_by_date = (\n",
    "    logs.groupby('event_date', as_index=False)\n",
    "    .agg(event_count=('event_name', 'count'))\n",
    ")"
   ]
  },
  {
   "cell_type": "code",
   "execution_count": 27,
   "metadata": {},
   "outputs": [
    {
     "data": {
      "image/png": "[encoded data removed]",
      "text/plain": [
       "<Figure size 1200x600 with 1 Axes>"
      ]
     },
     "metadata": {},
     "output_type": "display_data"
    }
   ],
   "source": [
    "lineplot(events_by_date, \n",
    "         x='event_date', \n",
    "         y='event_count', \n",
    "         xlabel='', \n",
    "         ylabel='', \n",
    "         title='Количество событий по датам', \n",
    "         figsize=(12, 6))"
   ]
  },
  {
   "cell_type": "markdown",
   "metadata": {},
   "source": [
    "По графику видим, что данных за первую неделю очень мало. Вероятная причина этого в том, что в логи новых дней по некоторым пользователям могут «доезжать» события из прошлого. Это будет искажать картину, поэтому мы уберем из датасета данные до 1 августа. Таким образом, период наших данных сократится до одной недели."
   ]
  },
  {
   "cell_type": "code",
   "execution_count": 28,
   "metadata": {},
   "outputs": [
    {
     "name": "stdout",
     "output_type": "stream",
     "text": [
      "При фильтрации по дате мы удалили 796 записей (0.33% от полного датасета)\n",
      "При фильтрации по дате мы удалили 9 пользователей (0.12% от полного датасета)\n"
     ]
    }
   ],
   "source": [
    "n_records_full = logs.shape[0]\n",
    "n_users_full = logs['user_id'].nunique()\n",
    "\n",
    "logs = logs.loc[logs['event_datetime'] > '2019-07-31']\n",
    "\n",
    "n_records_filtered = logs.shape[0]\n",
    "n_users_filtered = logs['user_id'].nunique()\n",
    "\n",
    "n_records_diff = round(100 * (n_records_full - n_records_filtered) / n_records_full, 2)\n",
    "n_users_diff = round(100 * (n_users_full - n_users_filtered) / n_users_full, 2)\n",
    "\n",
    "print(\n",
    "    'При фильтрации по дате мы удалили {0} записей ({1}% от полного датасета)'\n",
    "    .format(n_records_full - n_records_filtered, n_records_diff)\n",
    ")\n",
    "    \n",
    "print(\n",
    "    'При фильтрации по дате мы удалили {0} пользователей ({1}% от полного датасета)'\n",
    "    .format(n_users_full - n_users_filtered, n_users_diff)\n",
    ")"
   ]
  },
  {
   "cell_type": "markdown",
   "metadata": {},
   "source": [
    "Получается, что при сокращении периода анализа мы потеряли 17 пользователей и почти 3 тысячи событий. В относительном выражении это незначительные потери (чуть больше 1% событий и меньше процента пользователей). Так что такое сокращение датасета не повредит нашему анализу."
   ]
  },
  {
   "cell_type": "code",
   "execution_count": 29,
   "metadata": {},
   "outputs": [
    {
     "data": {
      "image/png": "[encoded data removed]",
      "text/plain": [
       "<Figure size 1200x600 with 1 Axes>"
      ]
     },
     "metadata": {},
     "output_type": "display_data"
    }
   ],
   "source": [
    "events_by_date = (\n",
    "    logs.groupby('event_date', as_index=False)\n",
    "    .agg(event_count=('event_name', 'count'))\n",
    ")\n",
    "\n",
    "lineplot(events_by_date, \n",
    "         x='event_date', \n",
    "         y='event_count', \n",
    "         xlabel='', \n",
    "         ylabel='', \n",
    "         title='Количество событий по датам', \n",
    "         figsize=(12, 6))"
   ]
  },
  {
   "cell_type": "markdown",
   "metadata": {},
   "source": [
    "Теперь распределение событий по датам выглядит более равномерным. Можем отметить, что есть колебания количества событий: снижение в течение первых 4 дней, затем восстановление до значений первого дня, и снижение в последний день."
   ]
  },
  {
   "cell_type": "code",
   "execution_count": 30,
   "metadata": {},
   "outputs": [
    {
     "data": {
      "image/png": "[encoded data removed]",
      "text/plain": [
       "<Figure size 1200x600 with 1 Axes>"
      ]
     },
     "metadata": {},
     "output_type": "display_data"
    }
   ],
   "source": [
    "events_by_date_user_type = (\n",
    "    logs.groupby(['event_date', 'user_type'], \n",
    "                 as_index=False)\n",
    "    .agg(event_count=('event_name', 'count'))\n",
    ")\n",
    "\n",
    "lineplot(events_by_date_user_type, \n",
    "         x='event_date', \n",
    "         y='event_count', \n",
    "         hue='user_type',\n",
    "         xlabel='', \n",
    "         ylabel='', \n",
    "         title='Количество событий по датам (аномальные и обычные пользователи)', \n",
    "         figsize=(12, 6))"
   ]
  },
  {
   "cell_type": "markdown",
   "metadata": {},
   "source": [
    "Аномальные пользователи ежедневно совершают гораздо больше событий, чем обычные пользователи. \n",
    "\n",
    "При этом у аномальных пользователей более изменчивая динамика: видно падение количества событий в течение первых 4 дней, а затем рост до прежних значений. Это похоже на ту картину, что мы наблюдали на предыдущем графике по датасету в целом. Значит аномальные пользователи вносят большой вклад в общую картину.\n",
    "\n",
    "У обычных пользователей другой характер динамики: ко второму дню количество событий растет, затем чуть снижается и выходит на плато, а после 5 дня снижается более резко."
   ]
  },
  {
   "cell_type": "code",
   "execution_count": 31,
   "metadata": {},
   "outputs": [
    {
     "data": {
      "image/png": "[encoded data removed]",
      "text/plain": [
       "<Figure size 1200x600 with 1 Axes>"
      ]
     },
     "metadata": {},
     "output_type": "display_data"
    }
   ],
   "source": [
    "events_by_date_event_type = (\n",
    "    logs.groupby(['event_date', 'event_name'], \n",
    "                 as_index=False)\n",
    "    .agg(event_count=('event_name', 'count'))\n",
    ")\n",
    "\n",
    "lineplot(events_by_date_event_type, \n",
    "         x='event_date', \n",
    "         y='event_count', \n",
    "         hue='event_name',\n",
    "         xlabel='', \n",
    "         ylabel='', \n",
    "         title='Количество событий по датам (типы событий)', \n",
    "         figsize=(12, 6))"
   ]
  },
  {
   "cell_type": "markdown",
   "metadata": {},
   "source": [
    "Все типы событий распределены по датам довольно равномерно. \n",
    "\n",
    "Скачки видны только у события Main Screen - снижение в течение первых двух дней, затем рост до прежних значений (такую же динамику мы видели и на общем графике по событиям, и в разбивке по аномальным пользователям, теперь мы значем, что это вклад именно события Main Screen и аномальных пользователей). \n",
    "\n",
    "Количество событий Main Screen заметно превышает количество всех остальных событий, что интуитивно понятно - пользователи чаще всего оказываются именно на главном экране приложения.\n",
    "\n",
    "Меньше всего событий Tutorial."
   ]
  },
  {
   "cell_type": "markdown",
   "metadata": {},
   "source": [
    "## 2.3. Анализ представленности групп\n",
    "\n",
    "Важная часть проекта - это анализ результатов A/B-теста. На этапе подготовки данных мы уже проверили, что пересечений между группами нет. Теперь проверим, как экспериментальные группы представлены в данных:\n",
    "- посчитаем, сколько событий в каждой группе\n",
    "- сколько пользователей в каждой группе\n",
    "- каково среднее количество событий на человека по группам"
   ]
  },
  {
   "cell_type": "code",
   "execution_count": 32,
   "metadata": {},
   "outputs": [],
   "source": [
    "group_stat = (\n",
    "    logs.pivot_table(index='group',\n",
    "                     values='user_id',\n",
    "                     aggfunc=['count', pd.Series.nunique])\n",
    ")\n",
    "\n",
    "group_stat.columns = ['event_count', 'user_count']\n",
    "group_stat = group_stat.reset_index()\n",
    "\n",
    "group_stat['events_per_user'] = (\n",
    "    round(group_stat['event_count'] / group_stat['user_count'])\n",
    ")\n",
    "group_stat['event_share'] = (\n",
    "    round(100 * group_stat['event_count'] / group_stat['event_count'].sum(), 2)\n",
    ")\n",
    "group_stat['user_share'] = (\n",
    "    round(100 * group_stat['user_count'] / group_stat['user_count'].sum(), 2)\n",
    ")\n",
    "\n",
    "group_stat = group_stat.sort_values(by='group', ascending=False)"
   ]
  },
  {
   "cell_type": "code",
   "execution_count": 33,
   "metadata": {},
   "outputs": [
    {
     "data": {
      "image/png": "[encoded data removed]",
      "text/plain": [
       "<Figure size 1200x300 with 2 Axes>"
      ]
     },
     "metadata": {},
     "output_type": "display_data"
    }
   ],
   "source": [
    "fig, (ax1, ax2) = plt.subplots(1, 2, figsize=(12, 3), sharey=True)\n",
    "\n",
    "ax_range=range(1,len(group_stat.index)+1)\n",
    "\n",
    "ax1.plot(group_stat['user_count'], \n",
    "         ax_range, \n",
    "         'o', \n",
    "         markersize=10.0)\n",
    "ax1.hlines(y=ax_range, \n",
    "           xmin=0, \n",
    "           xmax=group_stat['user_count'],\n",
    "           linewidths=3.0)\n",
    "\n",
    "ax2.plot(group_stat['event_count'], \n",
    "         ax_range, \n",
    "         'o', \n",
    "         markersize=10.0)\n",
    "ax2.hlines(y=ax_range, \n",
    "           xmin=0, \n",
    "           xmax=group_stat['event_count'],\n",
    "           linewidths=3.0)\n",
    "\n",
    "plt.yticks(ax_range, group_stat['group'])\n",
    "\n",
    "ax1.set(title='Количество пользователей в группах',\n",
    "        xlabel='Количество пользователей',\n",
    "        ylabel='')\n",
    "\n",
    "ax2.set(title='Количество событий в группах',\n",
    "        xlabel='Количество событий',\n",
    "        ylabel='')\n",
    "\n",
    "plt.show();"
   ]
  },
  {
   "cell_type": "code",
   "execution_count": 34,
   "metadata": {},
   "outputs": [
    {
     "data": {
      "text/html": [
       "<style type=\"text/css\">\n",
       "#T_af40f_row0_col1, #T_af40f_row1_col2 {\n",
       "  background-color: #f7fbff;\n",
       "  color: #000000;\n",
       "}\n",
       "#T_af40f_row0_col2 {\n",
       "  background-color: #b8d5ea;\n",
       "  color: #000000;\n",
       "}\n",
       "#T_af40f_row1_col1 {\n",
       "  background-color: #529dcc;\n",
       "  color: #f1f1f1;\n",
       "}\n",
       "#T_af40f_row2_col1, #T_af40f_row2_col2 {\n",
       "  background-color: #08306b;\n",
       "  color: #f1f1f1;\n",
       "}\n",
       "</style>\n",
       "<table id=\"T_af40f\">\n",
       "  <thead>\n",
       "    <tr>\n",
       "      <th id=\"T_af40f_level0_col0\" class=\"col_heading level0 col0\" >group</th>\n",
       "      <th id=\"T_af40f_level0_col1\" class=\"col_heading level0 col1\" >user_share</th>\n",
       "      <th id=\"T_af40f_level0_col2\" class=\"col_heading level0 col2\" >event_share</th>\n",
       "    </tr>\n",
       "  </thead>\n",
       "  <tbody>\n",
       "    <tr>\n",
       "      <td id=\"T_af40f_row0_col0\" class=\"data row0 col0\" >246</td>\n",
       "      <td id=\"T_af40f_row0_col1\" class=\"data row0 col1\" >32.95%</td>\n",
       "      <td id=\"T_af40f_row0_col2\" class=\"data row0 col2\" >32.90%</td>\n",
       "    </tr>\n",
       "    <tr>\n",
       "      <td id=\"T_af40f_row1_col0\" class=\"data row1 col0\" >247</td>\n",
       "      <td id=\"T_af40f_row1_col1\" class=\"data row1 col1\" >33.37%</td>\n",
       "      <td id=\"T_af40f_row1_col2\" class=\"data row1 col2\" >31.98%</td>\n",
       "    </tr>\n",
       "    <tr>\n",
       "      <td id=\"T_af40f_row2_col0\" class=\"data row2 col0\" >248</td>\n",
       "      <td id=\"T_af40f_row2_col1\" class=\"data row2 col1\" >33.68%</td>\n",
       "      <td id=\"T_af40f_row2_col2\" class=\"data row2 col2\" >35.12%</td>\n",
       "    </tr>\n",
       "  </tbody>\n",
       "</table>\n"
      ],
      "text/plain": [
       "<pandas.io.formats.style.Styler at 0x177b8e950>"
      ]
     },
     "execution_count": 34,
     "metadata": {},
     "output_type": "execute_result"
    }
   ],
   "source": [
    "(\n",
    "    group_stat[['group', 'user_share', 'event_share']]\n",
    "    .sort_values(by='group')\n",
    "    .style\n",
    "    .hide()\n",
    "    .format({'event_share': '{:.2f}%',\n",
    "             'user_share': '{:.2f}%'})\n",
    "    .background_gradient(cmap='Blues', \n",
    "                         subset=['event_share', 'user_share'])\n",
    ")"
   ]
  },
  {
   "cell_type": "markdown",
   "metadata": {},
   "source": [
    "Из сводной таблицы и графиков видим, что пользователи распределены по группам довольно равномерно, хотя небольшие различия есть. В группу 246 попало 32.95% пользователей, в группу 247 - 33.37%, в группу 248 - 33.68%. В каждой группе примерно 2500 пользователей.\n",
    "\n",
    "В количестве событий видим разницу: на группу 246 приходится 32.9% всех событий, на группу 247 - 31.98%, на группу 248 - 35.12% событий. Какова природа этих различий и являются ли эти различия случайными, мы высяним далее в разделе Анализ результатов A/B-теста.\n",
    "\n",
    "Нам осталось посмотреть на распределение количества событий на одного пользователя в разрезе групп. Суммируем количество событий для пользователя и построим боксплоты по группам."
   ]
  },
  {
   "cell_type": "code",
   "execution_count": 35,
   "metadata": {},
   "outputs": [],
   "source": [
    "events_group_distribution = (\n",
    "    logs.groupby(['user_id', 'group'], \n",
    "                 as_index=False)\n",
    "    .agg(event_count=('event_name', 'count'))\n",
    ")"
   ]
  },
  {
   "cell_type": "code",
   "execution_count": 36,
   "metadata": {},
   "outputs": [
    {
     "data": {
      "image/png": "[encoded data removed]",
      "text/plain": [
       "<Figure size 1200x300 with 1 Axes>"
      ]
     },
     "metadata": {},
     "output_type": "display_data"
    }
   ],
   "source": [
    "create_boxplots(events_group_distribution, \n",
    "                x='event_count', \n",
    "                y='group', \n",
    "                title='Распределение количества событий на одного пользователя по группам', \n",
    "                xlabel='Количество событий на пользователя', \n",
    "                ylabel='', \n",
    "                figsize=(12, 3))"
   ]
  },
  {
   "cell_type": "markdown",
   "metadata": {},
   "source": [
    "Отдельно выведем распределение без аномальных пользователей, чтобы было лучше видно основную часть."
   ]
  },
  {
   "cell_type": "code",
   "execution_count": 37,
   "metadata": {},
   "outputs": [
    {
     "data": {
      "image/png": "[encoded data removed]",
      "text/plain": [
       "<Figure size 1200x300 with 1 Axes>"
      ]
     },
     "metadata": {},
     "output_type": "display_data"
    }
   ],
   "source": [
    "create_boxplots(events_group_distribution.query('user_id not in @anomaly_user_ids'), \n",
    "                x='event_count', \n",
    "                y='group', \n",
    "                title='Распределение количества событий на одного пользователя по группам', \n",
    "                xlabel='Количество событий на пользователя', \n",
    "                ylabel='', \n",
    "                figsize=(12, 3))"
   ]
  },
  {
   "cell_type": "code",
   "execution_count": 38,
   "metadata": {},
   "outputs": [
    {
     "data": {
      "text/html": [
       "<style type=\"text/css\">\n",
       "#T_9c39b_row0_col0, #T_9c39b_row0_col3, #T_9c39b_row0_col4, #T_9c39b_row0_col5, #T_9c39b_row0_col6, #T_9c39b_row1_col1, #T_9c39b_row1_col2, #T_9c39b_row1_col3, #T_9c39b_row1_col4, #T_9c39b_row1_col5, #T_9c39b_row1_col6, #T_9c39b_row1_col7, #T_9c39b_row2_col3, #T_9c39b_row2_col4 {\n",
       "  background-color: #f7fbff;\n",
       "  color: #000000;\n",
       "}\n",
       "#T_9c39b_row0_col1 {\n",
       "  background-color: #74b3d8;\n",
       "  color: #000000;\n",
       "}\n",
       "#T_9c39b_row0_col2 {\n",
       "  background-color: #61a7d2;\n",
       "  color: #f1f1f1;\n",
       "}\n",
       "#T_9c39b_row0_col7 {\n",
       "  background-color: #89bedc;\n",
       "  color: #000000;\n",
       "}\n",
       "#T_9c39b_row1_col0 {\n",
       "  background-color: #519ccc;\n",
       "  color: #f1f1f1;\n",
       "}\n",
       "#T_9c39b_row2_col0, #T_9c39b_row2_col1, #T_9c39b_row2_col2, #T_9c39b_row2_col5, #T_9c39b_row2_col6, #T_9c39b_row2_col7 {\n",
       "  background-color: #08306b;\n",
       "  color: #f1f1f1;\n",
       "}\n",
       "</style>\n",
       "<table id=\"T_9c39b\">\n",
       "  <thead>\n",
       "    <tr>\n",
       "      <th class=\"blank level0\" >&nbsp;</th>\n",
       "      <th id=\"T_9c39b_level0_col0\" class=\"col_heading level0 col0\" >count</th>\n",
       "      <th id=\"T_9c39b_level0_col1\" class=\"col_heading level0 col1\" >mean</th>\n",
       "      <th id=\"T_9c39b_level0_col2\" class=\"col_heading level0 col2\" >std</th>\n",
       "      <th id=\"T_9c39b_level0_col3\" class=\"col_heading level0 col3\" >min</th>\n",
       "      <th id=\"T_9c39b_level0_col4\" class=\"col_heading level0 col4\" >25%</th>\n",
       "      <th id=\"T_9c39b_level0_col5\" class=\"col_heading level0 col5\" >50%</th>\n",
       "      <th id=\"T_9c39b_level0_col6\" class=\"col_heading level0 col6\" >75%</th>\n",
       "      <th id=\"T_9c39b_level0_col7\" class=\"col_heading level0 col7\" >max</th>\n",
       "    </tr>\n",
       "  </thead>\n",
       "  <tbody>\n",
       "    <tr>\n",
       "      <th id=\"T_9c39b_level0_row0\" class=\"row_heading level0 row0\" >246</th>\n",
       "      <td id=\"T_9c39b_row0_col0\" class=\"data row0 col0\" >2485</td>\n",
       "      <td id=\"T_9c39b_row0_col1\" class=\"data row0 col1\" >32.16</td>\n",
       "      <td id=\"T_9c39b_row0_col2\" class=\"data row0 col2\" >65.14</td>\n",
       "      <td id=\"T_9c39b_row0_col3\" class=\"data row0 col3\" >1</td>\n",
       "      <td id=\"T_9c39b_row0_col4\" class=\"data row0 col4\" >9</td>\n",
       "      <td id=\"T_9c39b_row0_col5\" class=\"data row0 col5\" >19</td>\n",
       "      <td id=\"T_9c39b_row0_col6\" class=\"data row0 col6\" >37</td>\n",
       "      <td id=\"T_9c39b_row0_col7\" class=\"data row0 col7\" >1998</td>\n",
       "    </tr>\n",
       "    <tr>\n",
       "      <th id=\"T_9c39b_level0_row1\" class=\"row_heading level0 row1\" >247</th>\n",
       "      <td id=\"T_9c39b_row1_col0\" class=\"data row1 col0\" >2517</td>\n",
       "      <td id=\"T_9c39b_row1_col1\" class=\"data row1 col1\" >30.86</td>\n",
       "      <td id=\"T_9c39b_row1_col2\" class=\"data row1 col2\" >56.33</td>\n",
       "      <td id=\"T_9c39b_row1_col3\" class=\"data row1 col3\" >1</td>\n",
       "      <td id=\"T_9c39b_row1_col4\" class=\"data row1 col4\" >9</td>\n",
       "      <td id=\"T_9c39b_row1_col5\" class=\"data row1 col5\" >19</td>\n",
       "      <td id=\"T_9c39b_row1_col6\" class=\"data row1 col6\" >37</td>\n",
       "      <td id=\"T_9c39b_row1_col7\" class=\"data row1 col7\" >1768</td>\n",
       "    </tr>\n",
       "    <tr>\n",
       "      <th id=\"T_9c39b_level0_row2\" class=\"row_heading level0 row2\" >248</th>\n",
       "      <td id=\"T_9c39b_row2_col0\" class=\"data row2 col0\" >2540</td>\n",
       "      <td id=\"T_9c39b_row2_col1\" class=\"data row2 col1\" >33.59</td>\n",
       "      <td id=\"T_9c39b_row2_col2\" class=\"data row2 col2\" >72.96</td>\n",
       "      <td id=\"T_9c39b_row2_col3\" class=\"data row2 col3\" >1</td>\n",
       "      <td id=\"T_9c39b_row2_col4\" class=\"data row2 col4\" >9</td>\n",
       "      <td id=\"T_9c39b_row2_col5\" class=\"data row2 col5\" >20</td>\n",
       "      <td id=\"T_9c39b_row2_col6\" class=\"data row2 col6\" >38</td>\n",
       "      <td id=\"T_9c39b_row2_col7\" class=\"data row2 col7\" >2307</td>\n",
       "    </tr>\n",
       "  </tbody>\n",
       "</table>\n"
      ],
      "text/plain": [
       "<pandas.io.formats.style.Styler at 0x177e89ed0>"
      ]
     },
     "execution_count": 38,
     "metadata": {},
     "output_type": "execute_result"
    }
   ],
   "source": [
    "groups_describe = pd.DataFrame()\n",
    "\n",
    "for group in events_group_distribution['group'].unique():\n",
    "    \n",
    "    groups_describe[group]  = (\n",
    "        events_group_distribution.query('group == @group')['event_count']\n",
    "        .describe()\n",
    "    )\n",
    "    \n",
    "(\n",
    "    groups_describe.T\n",
    "    .style\n",
    "    .format({'count': '{:.0f}',\n",
    "             'mean': '{:.2f}',\n",
    "             'std': '{:.2f}',\n",
    "             'min': '{:.0f}',\n",
    "             '25%': '{:.0f}',\n",
    "             '50%': '{:.0f}',\n",
    "             '75%': '{:.0f}',\n",
    "             'max': '{:.0f}',}\n",
    "           )\n",
    "    .background_gradient(cmap='Blues')\n",
    ")"
   ]
  },
  {
   "cell_type": "markdown",
   "metadata": {},
   "source": [
    "Основные части распределений у групп похожи: минимум у всех 1 событие на пользователя, медиана 19-20 событий, 75 персентиль - 37-38 событий. Однако среднее количество событий, стандартное отклонение и максимум у группы 248 выше, чем у групп 246 и 247. Это видно и на графике - выбросы у группы 248 расположены правее, чем у других групп."
   ]
  },
  {
   "cell_type": "markdown",
   "metadata": {},
   "source": [
    "# 3. Воронка событий\n",
    "\n",
    "После подготовки и исследовательского анализа мы наконец можем построить воронку событий. Для этого мы:\n",
    "- изучим, какие события есть в логах, рассчитаем их частотность\n",
    "- изучим, сколько пользователей совершали каждое из событий, только одно событие\n",
    "- выстроим события в последовательную цепочку, ведущую к конверсии\n",
    "- посчитаем воронку: какая доля пользователей переходит с одного шага на другой, какая доля пользователей совершает покупку\n",
    "- определим, на каком шаге мы теряем больше всего пользователей"
   ]
  },
  {
   "cell_type": "markdown",
   "metadata": {},
   "source": [
    "## 3.1. Типы событий и их частота\n",
    "\n",
    "Частично мы уже изучали этот вопрос, когда строили график динамики количества событий. Теперь же посмотрим более подробно, какие типы событий есть в логах, как часто они встречаются."
   ]
  },
  {
   "cell_type": "code",
   "execution_count": 39,
   "metadata": {},
   "outputs": [
    {
     "name": "stdout",
     "output_type": "stream",
     "text": [
      "В логах 5 типов событий\n"
     ]
    }
   ],
   "source": [
    "print(\n",
    "    'В логах {} типов событий'.format(len(logs['event_name'].unique()))\n",
    ")"
   ]
  },
  {
   "cell_type": "markdown",
   "metadata": {},
   "source": [
    "Расшифруем типы событий:\n",
    "\n",
    "|Значение *event_name*|Описание события|\n",
    "|---|---|\n",
    "|MainScreenAppear|Пользователь попал на главный экран приложения|\n",
    "|PaymentScreenSuccessful|Пользователю открылся экран удачного платежа|\n",
    "|CartScreenAppear|Пользователь попал на экран Корзины|\n",
    "|OffersScreenAppear|Пользователь попал на экран товаров|\n",
    "|Tutorial|Пользователь попал в туториал|"
   ]
  },
  {
   "cell_type": "code",
   "execution_count": 40,
   "metadata": {},
   "outputs": [],
   "source": [
    "# Сократим названия событий, чтобы они более понятно смотрелись при визуализации\n",
    "\n",
    "events_names_short = {'MainScreenAppear': 'Main Screen',\n",
    "                          'PaymentScreenSuccessful': 'Payment',\n",
    "                          'CartScreenAppear': 'Cart',\n",
    "                          'OffersScreenAppear': 'Offers',\n",
    "                          'Tutorial': 'Tutorial'}\n",
    "\n",
    "logs['event_name_short'] = logs['event_name'].apply(lambda x: events_names_short[x])"
   ]
  },
  {
   "cell_type": "markdown",
   "metadata": {},
   "source": [
    "Сгруппируем события по типу и посмотрим на частотность."
   ]
  },
  {
   "cell_type": "code",
   "execution_count": 41,
   "metadata": {},
   "outputs": [],
   "source": [
    "events_stat = (\n",
    "    logs.pivot_table(index='event_name_short',\n",
    "                     values='user_id',\n",
    "                     aggfunc='count')\n",
    "    .rename(columns={'user_id': 'count'})\n",
    "    .sort_values(by='count', ascending=False)\n",
    ")\n",
    "\n",
    "events_stat['share'] = round((100 \n",
    "                                 * events_stat['count'] \n",
    "                                 / events_stat['count'].sum()), \n",
    "                                2)\n",
    "\n",
    "events_stat = events_stat.reset_index()"
   ]
  },
  {
   "cell_type": "code",
   "execution_count": 42,
   "metadata": {},
   "outputs": [
    {
     "data": {
      "image/png": "[encoded data removed]",
      "text/plain": [
       "<Figure size 1200x500 with 1 Axes>"
      ]
     },
     "metadata": {},
     "output_type": "display_data"
    }
   ],
   "source": [
    "create_barchart(events_stat, \n",
    "                x='count', \n",
    "                y='event_name_short', \n",
    "                xlabel='Количество событий', \n",
    "                ylabel='', \n",
    "                title='Количество событий по типу',  \n",
    "                figsize=(12, 5))"
   ]
  },
  {
   "cell_type": "code",
   "execution_count": 43,
   "metadata": {},
   "outputs": [
    {
     "data": {
      "image/png": "[encoded data removed]",
      "text/plain": [
       "<Figure size 1200x500 with 1 Axes>"
      ]
     },
     "metadata": {},
     "output_type": "display_data"
    }
   ],
   "source": [
    "create_barchart(events_stat, \n",
    "                y='count', \n",
    "                x='event_name_short', \n",
    "                xlabel='Количество событий', \n",
    "                ylabel='', \n",
    "                title='Количество событий по типу',  \n",
    "                figsize=(12, 5))"
   ]
  },
  {
   "cell_type": "code",
   "execution_count": 44,
   "metadata": {},
   "outputs": [
    {
     "data": {
      "text/html": [
       "<style type=\"text/css\">\n",
       "#T_1ae3c_row0_col1, #T_1ae3c_row0_col2 {\n",
       "  background-color: #08306b;\n",
       "  color: #f1f1f1;\n",
       "}\n",
       "#T_1ae3c_row1_col1, #T_1ae3c_row1_col2 {\n",
       "  background-color: #99c7e0;\n",
       "  color: #000000;\n",
       "}\n",
       "#T_1ae3c_row2_col1, #T_1ae3c_row2_col2 {\n",
       "  background-color: #a5cde3;\n",
       "  color: #000000;\n",
       "}\n",
       "#T_1ae3c_row3_col1, #T_1ae3c_row3_col2 {\n",
       "  background-color: #bdd7ec;\n",
       "  color: #000000;\n",
       "}\n",
       "#T_1ae3c_row4_col1, #T_1ae3c_row4_col2 {\n",
       "  background-color: #f7fbff;\n",
       "  color: #000000;\n",
       "}\n",
       "</style>\n",
       "<table id=\"T_1ae3c\">\n",
       "  <thead>\n",
       "    <tr>\n",
       "      <th id=\"T_1ae3c_level0_col0\" class=\"col_heading level0 col0\" >event_name_short</th>\n",
       "      <th id=\"T_1ae3c_level0_col1\" class=\"col_heading level0 col1\" >count</th>\n",
       "      <th id=\"T_1ae3c_level0_col2\" class=\"col_heading level0 col2\" >share</th>\n",
       "    </tr>\n",
       "  </thead>\n",
       "  <tbody>\n",
       "    <tr>\n",
       "      <td id=\"T_1ae3c_row0_col0\" class=\"data row0 col0\" >Main Screen</td>\n",
       "      <td id=\"T_1ae3c_row0_col1\" class=\"data row0 col1\" >118578</td>\n",
       "      <td id=\"T_1ae3c_row0_col2\" class=\"data row0 col2\" >48.81%</td>\n",
       "    </tr>\n",
       "    <tr>\n",
       "      <td id=\"T_1ae3c_row1_col0\" class=\"data row1 col0\" >Offers</td>\n",
       "      <td id=\"T_1ae3c_row1_col1\" class=\"data row1 col1\" >46707</td>\n",
       "      <td id=\"T_1ae3c_row1_col2\" class=\"data row1 col2\" >19.23%</td>\n",
       "    </tr>\n",
       "    <tr>\n",
       "      <td id=\"T_1ae3c_row2_col0\" class=\"data row2 col0\" >Cart</td>\n",
       "      <td id=\"T_1ae3c_row2_col1\" class=\"data row2 col1\" >42560</td>\n",
       "      <td id=\"T_1ae3c_row2_col2\" class=\"data row2 col2\" >17.52%</td>\n",
       "    </tr>\n",
       "    <tr>\n",
       "      <td id=\"T_1ae3c_row3_col0\" class=\"data row3 col0\" >Payment</td>\n",
       "      <td id=\"T_1ae3c_row3_col1\" class=\"data row3 col1\" >34058</td>\n",
       "      <td id=\"T_1ae3c_row3_col2\" class=\"data row3 col2\" >14.02%</td>\n",
       "    </tr>\n",
       "    <tr>\n",
       "      <td id=\"T_1ae3c_row4_col0\" class=\"data row4 col0\" >Tutorial</td>\n",
       "      <td id=\"T_1ae3c_row4_col1\" class=\"data row4 col1\" >1014</td>\n",
       "      <td id=\"T_1ae3c_row4_col2\" class=\"data row4 col2\" >0.42%</td>\n",
       "    </tr>\n",
       "  </tbody>\n",
       "</table>\n"
      ],
      "text/plain": [
       "<pandas.io.formats.style.Styler at 0x177c25810>"
      ]
     },
     "execution_count": 44,
     "metadata": {},
     "output_type": "execute_result"
    }
   ],
   "source": [
    "(\n",
    "    events_stat.style\n",
    "    .hide()\n",
    "    .format({'share': '{:.2f}%'})\n",
    "    .background_gradient(cmap='Blues', \n",
    "                         subset=['count', 'share'])\n",
    ")"
   ]
  },
  {
   "cell_type": "markdown",
   "metadata": {},
   "source": [
    "Из сводной таблицы и графика видим, что самым частым событием является *Main Screen* - появление главного экрана, оно составляет почти половину всех событий. На втором месте *Offers* - появление экрана выбора продуктов (19% всех событий), далее идут *Cart* - появление экрана корзины (17% всех событий) и *Payment* (14% всех событий) - появление экрана успешного платежа. Самым редким событием является *Tutorial* (меньше 1% от всех событий)."
   ]
  },
  {
   "cell_type": "markdown",
   "metadata": {},
   "source": [
    "## 3.2. Комбинации типов событий и их частота\n",
    "\n",
    "Очевидно, что путь пользователя в приложении не является строго заданным: ему не обязательно выполнять все 5 шагов в определенном порядке, у него есть свобода действий. Поэтому нам нужно проверить, каковы самые распространенные комбинации событий для пользователей, сколько пользователей совершили каждое из этих 5 событий, сколько пользователей совершили лишь одно событие."
   ]
  },
  {
   "cell_type": "code",
   "execution_count": 45,
   "metadata": {},
   "outputs": [],
   "source": [
    "user_events_stat = (\n",
    "    logs.pivot_table(index='user_id', \n",
    "                     values='event_name_short', \n",
    "                     aggfunc=pd.Series.nunique)\n",
    "    .reset_index()\n",
    "    .rename(columns={'event_name_short': 'event_count_unique'})\n",
    ")"
   ]
  },
  {
   "cell_type": "code",
   "execution_count": 46,
   "metadata": {},
   "outputs": [],
   "source": [
    "user_events_stat_pct = (\n",
    "    user_events_stat.groupby(by='event_count_unique', as_index=False)\n",
    "    .agg({'user_id': 'count'})\n",
    "    .rename(columns={'user_id': 'user_count'})\n",
    ")\n",
    "\n",
    "user_events_stat_pct['user_pct'] = (\n",
    "    round(100 * user_events_stat_pct['user_count'] / user_events_stat_pct['user_count'].sum(), 2)\n",
    ")"
   ]
  },
  {
   "cell_type": "code",
   "execution_count": 47,
   "metadata": {},
   "outputs": [
    {
     "data": {
      "image/png": "[encoded data removed]",
      "text/plain": [
       "<Figure size 1200x500 with 1 Axes>"
      ]
     },
     "metadata": {},
     "output_type": "display_data"
    }
   ],
   "source": [
    "create_barchart(user_events_stat_pct, \n",
    "                x='event_count_unique', \n",
    "                y='user_count', \n",
    "                xlabel='Количество уникальных типов событий', \n",
    "                ylabel='', \n",
    "                title='Количество уникальных типов событий на пользователя',  \n",
    "                figsize=(12, 5))"
   ]
  },
  {
   "cell_type": "code",
   "execution_count": 48,
   "metadata": {},
   "outputs": [
    {
     "data": {
      "text/html": [
       "<style type=\"text/css\">\n",
       "#T_48234_row0_col1, #T_48234_row0_col2 {\n",
       "  background-color: #084f99;\n",
       "  color: #f1f1f1;\n",
       "}\n",
       "#T_48234_row1_col1, #T_48234_row1_col2 {\n",
       "  background-color: #c4daee;\n",
       "  color: #000000;\n",
       "}\n",
       "#T_48234_row2_col1, #T_48234_row2_col2 {\n",
       "  background-color: #f7fbff;\n",
       "  color: #000000;\n",
       "}\n",
       "#T_48234_row3_col1, #T_48234_row3_col2 {\n",
       "  background-color: #08306b;\n",
       "  color: #f1f1f1;\n",
       "}\n",
       "#T_48234_row4_col1, #T_48234_row4_col2 {\n",
       "  background-color: #ecf4fb;\n",
       "  color: #000000;\n",
       "}\n",
       "</style>\n",
       "<table id=\"T_48234\">\n",
       "  <thead>\n",
       "    <tr>\n",
       "      <th id=\"T_48234_level0_col0\" class=\"col_heading level0 col0\" >event_count_unique</th>\n",
       "      <th id=\"T_48234_level0_col1\" class=\"col_heading level0 col1\" >user_count</th>\n",
       "      <th id=\"T_48234_level0_col2\" class=\"col_heading level0 col2\" >user_pct</th>\n",
       "    </tr>\n",
       "  </thead>\n",
       "  <tbody>\n",
       "    <tr>\n",
       "      <td id=\"T_48234_row0_col0\" class=\"data row0 col0\" >1</td>\n",
       "      <td id=\"T_48234_row0_col1\" class=\"data row0 col1\" >2709</td>\n",
       "      <td id=\"T_48234_row0_col2\" class=\"data row0 col2\" >35.92%</td>\n",
       "    </tr>\n",
       "    <tr>\n",
       "      <td id=\"T_48234_row1_col0\" class=\"data row1 col0\" >2</td>\n",
       "      <td id=\"T_48234_row1_col1\" class=\"data row1 col1\" >1015</td>\n",
       "      <td id=\"T_48234_row1_col2\" class=\"data row1 col2\" >13.46%</td>\n",
       "    </tr>\n",
       "    <tr>\n",
       "      <td id=\"T_48234_row2_col0\" class=\"data row2 col0\" >3</td>\n",
       "      <td id=\"T_48234_row2_col1\" class=\"data row2 col1\" >317</td>\n",
       "      <td id=\"T_48234_row2_col2\" class=\"data row2 col2\" >4.20%</td>\n",
       "    </tr>\n",
       "    <tr>\n",
       "      <td id=\"T_48234_row3_col0\" class=\"data row3 col0\" >4</td>\n",
       "      <td id=\"T_48234_row3_col1\" class=\"data row3 col1\" >3031</td>\n",
       "      <td id=\"T_48234_row3_col2\" class=\"data row3 col2\" >40.19%</td>\n",
       "    </tr>\n",
       "    <tr>\n",
       "      <td id=\"T_48234_row4_col0\" class=\"data row4 col0\" >5</td>\n",
       "      <td id=\"T_48234_row4_col1\" class=\"data row4 col1\" >470</td>\n",
       "      <td id=\"T_48234_row4_col2\" class=\"data row4 col2\" >6.23%</td>\n",
       "    </tr>\n",
       "  </tbody>\n",
       "</table>\n"
      ],
      "text/plain": [
       "<pandas.io.formats.style.Styler at 0x16bb354d0>"
      ]
     },
     "execution_count": 48,
     "metadata": {},
     "output_type": "execute_result"
    }
   ],
   "source": [
    "(\n",
    "    user_events_stat_pct.style\n",
    "    .hide()\n",
    "    .format({'user_pct': '{:.2f}%'})\n",
    "    .background_gradient(cmap='Blues', \n",
    "                         subset=['user_count', 'user_pct'])\n",
    ")"
   ]
  },
  {
   "cell_type": "markdown",
   "metadata": {},
   "source": [
    "Только 6% пользователей совершали все 5 событий. Самый распространенный вариант: это 4 события (40%) или 1 событие (36% пользователей). Остается понять, какие именно 4 события совершают 40% наших пользователей."
   ]
  },
  {
   "cell_type": "code",
   "execution_count": 49,
   "metadata": {},
   "outputs": [],
   "source": [
    "# Соберем в отдельную колонку комбинации событий, совершенных каждым пользователем \n",
    "\n",
    "user_events_table = (\n",
    "    logs.pivot_table(index='user_id', \n",
    "                 columns='event_name_short', \n",
    "                 values='event_date', \n",
    "                 aggfunc=lambda x: '+', \n",
    "                 fill_value='')\n",
    ")\n",
    "\n",
    "for column in user_events_table.columns:\n",
    "    user_events_table[column] = user_events_table[column].str.replace('+', column, regex=False)\n",
    "    \n",
    "user_events_table['combination'] = user_events_table.apply(concat_columns_values, axis=1)\n",
    "\n",
    "user_events_table = user_events_table.reset_index()\n",
    "\n",
    "# Для каждой полученной комбинации посчитаем, количество пользователей\n",
    "\n",
    "user_events_table = (\n",
    "    user_events_table.groupby('combination', as_index=False)\n",
    "    .agg({'user_id': 'count'})\n",
    "    .sort_values(by='user_id', ascending=False)\n",
    "    .reset_index(drop=True)\n",
    "    .rename(columns={'user_id': 'count'})\n",
    ")"
   ]
  },
  {
   "cell_type": "code",
   "execution_count": 50,
   "metadata": {},
   "outputs": [
    {
     "data": {
      "text/html": [
       "<style type=\"text/css\">\n",
       "</style>\n",
       "<table id=\"T_a7c0e\">\n",
       "  <thead>\n",
       "    <tr>\n",
       "      <th id=\"T_a7c0e_level0_col0\" class=\"col_heading level0 col0\" >combination</th>\n",
       "      <th id=\"T_a7c0e_level0_col1\" class=\"col_heading level0 col1\" >count</th>\n",
       "    </tr>\n",
       "  </thead>\n",
       "  <tbody>\n",
       "    <tr>\n",
       "      <td id=\"T_a7c0e_row0_col0\" class=\"data row0 col0\" >Cart, Main Screen, Offers, Payment</td>\n",
       "      <td id=\"T_a7c0e_row0_col1\" class=\"data row0 col1\" >2964</td>\n",
       "    </tr>\n",
       "    <tr>\n",
       "      <td id=\"T_a7c0e_row1_col0\" class=\"data row1 col0\" >Main Screen</td>\n",
       "      <td id=\"T_a7c0e_row1_col1\" class=\"data row1 col1\" >2695</td>\n",
       "    </tr>\n",
       "    <tr>\n",
       "      <td id=\"T_a7c0e_row2_col0\" class=\"data row2 col0\" >Main Screen, Offers</td>\n",
       "      <td id=\"T_a7c0e_row2_col1\" class=\"data row2 col1\" >792</td>\n",
       "    </tr>\n",
       "    <tr>\n",
       "      <td id=\"T_a7c0e_row3_col0\" class=\"data row3 col0\" >Cart, Main Screen, Offers, Payment, Tutorial</td>\n",
       "      <td id=\"T_a7c0e_row3_col1\" class=\"data row3 col1\" >470</td>\n",
       "    </tr>\n",
       "    <tr>\n",
       "      <td id=\"T_a7c0e_row4_col0\" class=\"data row4 col0\" >Main Screen, Tutorial</td>\n",
       "      <td id=\"T_a7c0e_row4_col1\" class=\"data row4 col1\" >180</td>\n",
       "    </tr>\n",
       "    <tr>\n",
       "      <td id=\"T_a7c0e_row5_col0\" class=\"data row5 col0\" >Main Screen, Offers, Tutorial</td>\n",
       "      <td id=\"T_a7c0e_row5_col1\" class=\"data row5 col1\" >114</td>\n",
       "    </tr>\n",
       "    <tr>\n",
       "      <td id=\"T_a7c0e_row6_col0\" class=\"data row6 col0\" >Cart, Offers, Payment</td>\n",
       "      <td id=\"T_a7c0e_row6_col1\" class=\"data row6 col1\" >96</td>\n",
       "    </tr>\n",
       "    <tr>\n",
       "      <td id=\"T_a7c0e_row7_col0\" class=\"data row7 col0\" >Cart, Main Screen, Offers</td>\n",
       "      <td id=\"T_a7c0e_row7_col1\" class=\"data row7 col1\" >86</td>\n",
       "    </tr>\n",
       "    <tr>\n",
       "      <td id=\"T_a7c0e_row8_col0\" class=\"data row8 col0\" >Cart, Main Screen, Offers, Tutorial</td>\n",
       "      <td id=\"T_a7c0e_row8_col1\" class=\"data row8 col1\" >66</td>\n",
       "    </tr>\n",
       "    <tr>\n",
       "      <td id=\"T_a7c0e_row9_col0\" class=\"data row9 col0\" >Cart, Main Screen</td>\n",
       "      <td id=\"T_a7c0e_row9_col1\" class=\"data row9 col1\" >40</td>\n",
       "    </tr>\n",
       "    <tr>\n",
       "      <td id=\"T_a7c0e_row10_col0\" class=\"data row10 col0\" >Offers</td>\n",
       "      <td id=\"T_a7c0e_row10_col1\" class=\"data row10 col1\" >10</td>\n",
       "    </tr>\n",
       "    <tr>\n",
       "      <td id=\"T_a7c0e_row11_col0\" class=\"data row11 col0\" >Cart, Main Screen, Tutorial</td>\n",
       "      <td id=\"T_a7c0e_row11_col1\" class=\"data row11 col1\" >10</td>\n",
       "    </tr>\n",
       "    <tr>\n",
       "      <td id=\"T_a7c0e_row12_col0\" class=\"data row12 col0\" >Cart, Main Screen, Payment</td>\n",
       "      <td id=\"T_a7c0e_row12_col1\" class=\"data row12 col1\" >6</td>\n",
       "    </tr>\n",
       "    <tr>\n",
       "      <td id=\"T_a7c0e_row13_col0\" class=\"data row13 col0\" >Main Screen, Offers, Payment</td>\n",
       "      <td id=\"T_a7c0e_row13_col1\" class=\"data row13 col1\" >5</td>\n",
       "    </tr>\n",
       "    <tr>\n",
       "      <td id=\"T_a7c0e_row14_col0\" class=\"data row14 col0\" >Tutorial</td>\n",
       "      <td id=\"T_a7c0e_row14_col1\" class=\"data row14 col1\" >4</td>\n",
       "    </tr>\n",
       "    <tr>\n",
       "      <td id=\"T_a7c0e_row15_col0\" class=\"data row15 col0\" >Cart, Offers</td>\n",
       "      <td id=\"T_a7c0e_row15_col1\" class=\"data row15 col1\" >3</td>\n",
       "    </tr>\n",
       "    <tr>\n",
       "      <td id=\"T_a7c0e_row16_col0\" class=\"data row16 col0\" >Cart, Main Screen, Payment, Tutorial</td>\n",
       "      <td id=\"T_a7c0e_row16_col1\" class=\"data row16 col1\" >1</td>\n",
       "    </tr>\n",
       "  </tbody>\n",
       "</table>\n"
      ],
      "text/plain": [
       "<pandas.io.formats.style.Styler at 0x28130ee10>"
      ]
     },
     "execution_count": 50,
     "metadata": {},
     "output_type": "execute_result"
    }
   ],
   "source": [
    "user_events_table.style.hide()"
   ]
  },
  {
   "cell_type": "code",
   "execution_count": 51,
   "metadata": {},
   "outputs": [
    {
     "data": {
      "image/png": "[encoded data removed]",
      "text/plain": [
       "<Figure size 800x1000 with 1 Axes>"
      ]
     },
     "metadata": {},
     "output_type": "display_data"
    }
   ],
   "source": [
    "create_barchart(user_events_table,\n",
    "               x='count',\n",
    "               y='combination',\n",
    "                xlabel='',\n",
    "                ylabel='',\n",
    "               title='Самые популярные сочетания событий',\n",
    "               figsize=(8, 10))"
   ]
  },
  {
   "cell_type": "markdown",
   "metadata": {},
   "source": [
    "Видим, что наиболее частой комбинацией событий является '*Cart, Main Screen, Offers, Payment*', она встречается у 2964 человек. Из этих событий выстраивается распространенный пользовательский путь, на основе которого мы уже можем сформировать продуктовую воронку:\n",
    "\n",
    "1. Заход в приложение на главный экран\n",
    "2. Переход на страницу с товарами (+ добавление товара в корзину, но это событие у нас не отслеживается)\n",
    "3. Переход в корзину\n",
    "4. Платеж\n",
    "\n",
    "На втором месте по распространенности событий - просто посещение главного экрана *Main Screen*, 2695 пользователи совершили только это событие. Это не очень хороший показатель: потенциальный клиент даже не доходит до страницы с товарами, а сразу покидает приложение. Вероятно, главный экран - это узкое место нашего приложения, что-то на нем отпугивает пользователей.\n",
    "\n",
    "Остальные варианты комбинаций намного менее распространенные, они охватывают менее 1000 пользователей. Например, полный набор событий '*Cart, Main Screen, Offers, Payment, Tutorial*' прошли лишь 470 человек."
   ]
  },
  {
   "cell_type": "markdown",
   "metadata": {},
   "source": [
    "## 3.3. Воронка событий\n",
    "\n",
    "На предыдущем этапе мы выяснили, какая комбинация событий является самой частой: *Cart, Main Screen, Offers, Payment*, и предположили, что эти события и являются нашей воронкой.\n",
    "\n",
    "Таким образом, в продуктовую воронку мы не включаем событие *Tutorial* - оно встречается очень редко (скорее всего только для новых пользователей и при внедрении каких-то изменений на интерфейсе или новых фич) и не является обязательным в пользовательском пути.\n",
    "\n",
    "Теперь мы можем рассчитать нашу воронку и выяснить, где у нас узкие места, сколько пользователей мы теряем и на каком шаге."
   ]
  },
  {
   "cell_type": "code",
   "execution_count": 52,
   "metadata": {},
   "outputs": [],
   "source": [
    "# Определяем список всех событий воронки\n",
    "product_funnel = ['Main Screen', 'Offers', 'Cart', 'Payment']\n",
    "\n",
    "# Фильтруем датафрейм так, чтобы в него входили только интересующие нас события\n",
    "logs_funnel = logs[logs['event_name_short'].isin(product_funnel)]\n",
    "\n",
    "# Строим воронку\n",
    "product_funnel = (\n",
    "    logs_funnel.groupby(by='event_name_short')\n",
    "    .agg({'user_id': pd.Series.nunique})\n",
    "    .rename(columns={'user_id': 'user_count'})\n",
    "    .sort_values(by='user_count', ascending=False)\n",
    "    .reset_index()\n",
    "    .assign(user_share=lambda x: round(100 * x['user_count'] / logs_funnel['user_id'].nunique(),\n",
    "                                      2),\n",
    "            \n",
    "            percent_from_previous_step=lambda x: round(\n",
    "               100 * x['user_count'] / x['user_count'].shift(1, fill_value=x.loc[0, 'user_count']),\n",
    "            2),\n",
    "            percent_from_first_step=lambda x: round(\n",
    "               100 * x['user_count'] / x.loc[0, 'user_count'], \n",
    "            2)\n",
    "           )\n",
    ")"
   ]
  },
  {
   "cell_type": "code",
   "execution_count": 53,
   "metadata": {},
   "outputs": [
    {
     "data": {
      "text/html": [
       "<style type=\"text/css\">\n",
       "#T_cf250_row0_col0, #T_cf250_row0_col1, #T_cf250_row0_col2 {\n",
       "  background-color: #08306b;\n",
       "  color: #f1f1f1;\n",
       "}\n",
       "#T_cf250_row1_col0, #T_cf250_row1_col2 {\n",
       "  background-color: #bed8ec;\n",
       "  color: #000000;\n",
       "}\n",
       "#T_cf250_row1_col1, #T_cf250_row3_col0, #T_cf250_row3_col2 {\n",
       "  background-color: #f7fbff;\n",
       "  color: #000000;\n",
       "}\n",
       "#T_cf250_row2_col0, #T_cf250_row2_col2 {\n",
       "  background-color: #edf4fc;\n",
       "  color: #000000;\n",
       "}\n",
       "#T_cf250_row2_col1 {\n",
       "  background-color: #69add5;\n",
       "  color: #f1f1f1;\n",
       "}\n",
       "#T_cf250_row3_col1 {\n",
       "  background-color: #0a549e;\n",
       "  color: #f1f1f1;\n",
       "}\n",
       "</style>\n",
       "<table id=\"T_cf250\">\n",
       "  <thead>\n",
       "    <tr>\n",
       "      <th id=\"T_cf250_level0_col0\" class=\"col_heading level0 col0\" >user_count</th>\n",
       "      <th id=\"T_cf250_level0_col1\" class=\"col_heading level0 col1\" >percent_from_previous_step</th>\n",
       "      <th id=\"T_cf250_level0_col2\" class=\"col_heading level0 col2\" >percent_from_first_step</th>\n",
       "    </tr>\n",
       "  </thead>\n",
       "  <tbody>\n",
       "    <tr>\n",
       "      <td id=\"T_cf250_row0_col0\" class=\"data row0 col0\" >7429</td>\n",
       "      <td id=\"T_cf250_row0_col1\" class=\"data row0 col1\" >100.00%</td>\n",
       "      <td id=\"T_cf250_row0_col2\" class=\"data row0 col2\" >100.00%</td>\n",
       "    </tr>\n",
       "    <tr>\n",
       "      <td id=\"T_cf250_row1_col0\" class=\"data row1 col0\" >4606</td>\n",
       "      <td id=\"T_cf250_row1_col1\" class=\"data row1 col1\" >62.00%</td>\n",
       "      <td id=\"T_cf250_row1_col2\" class=\"data row1 col2\" >62.00%</td>\n",
       "    </tr>\n",
       "    <tr>\n",
       "      <td id=\"T_cf250_row2_col0\" class=\"data row2 col0\" >3742</td>\n",
       "      <td id=\"T_cf250_row2_col1\" class=\"data row2 col1\" >81.24%</td>\n",
       "      <td id=\"T_cf250_row2_col2\" class=\"data row2 col2\" >50.37%</td>\n",
       "    </tr>\n",
       "    <tr>\n",
       "      <td id=\"T_cf250_row3_col0\" class=\"data row3 col0\" >3542</td>\n",
       "      <td id=\"T_cf250_row3_col1\" class=\"data row3 col1\" >94.66%</td>\n",
       "      <td id=\"T_cf250_row3_col2\" class=\"data row3 col2\" >47.68%</td>\n",
       "    </tr>\n",
       "  </tbody>\n",
       "</table>\n"
      ],
      "text/plain": [
       "<pandas.io.formats.style.Styler at 0x28130ff90>"
      ]
     },
     "execution_count": 53,
     "metadata": {},
     "output_type": "execute_result"
    }
   ],
   "source": [
    "(\n",
    "    product_funnel[['user_count', \n",
    "                    'percent_from_previous_step', \n",
    "                    'percent_from_first_step']]\n",
    "    .style\n",
    "    .hide()\n",
    "    .format({'user_count': '{:.0f}',\n",
    "             'percent_from_previous_step': '{:.2f}%',\n",
    "             'percent_from_first_step': '{:.2f}%'})\n",
    "    .background_gradient('Blues')\n",
    ")"
   ]
  },
  {
   "cell_type": "code",
   "execution_count": 54,
   "metadata": {},
   "outputs": [
    {
     "data": {
      "image/png": "[encoded data removed]",
      "text/plain": [
       "<Figure size 1200x500 with 1 Axes>"
      ]
     },
     "metadata": {},
     "output_type": "display_data"
    }
   ],
   "source": [
    "fig = plt.figure(figsize=(12, 5))\n",
    "\n",
    "plt.fill_betweenx(y=[12,14], x1=[18,18], x2=[0,0], color='#1f77b4');\n",
    "plt.fill_betweenx(y=[11,12], x1=[16,18], x2=[2,0], color='#1f77b4', alpha=0.3);\n",
    "plt.fill_betweenx(y=[9,11], x1=[16,16], x2=[2,2], color='#1f77b4');\n",
    "plt.fill_betweenx(y=[8,9], x1=[14,16], x2=[4,2], color='#1f77b4', alpha=0.3);\n",
    "plt.fill_betweenx(y=[6,8], x1=[14,14], x2=[4,4], color='#1f77b4');\n",
    "plt.fill_betweenx(y=[5,6], x1=[12,14], x2=[6,4], color='#1f77b4', alpha=0.3);\n",
    "plt.fill_betweenx(y=[3,5], x1=[12,12], x2=[6,6], color='#1f77b4');\n",
    "\n",
    "plt.yticks([4,7,10,13], product_funnel['event_name_short'][::-1]);\n",
    "plt.xticks([],[]);\n",
    "\n",
    "for y, val in zip([4,7,10,13],product_funnel['user_count'][::-1]):\n",
    "    plt.text(9, y, val, ha='center', fontsize=12, color=\"white\")\n",
    "\n",
    "plt.grid(visible=False);\n",
    "plt.title('Воронка событий', loc='center', fontsize=14);"
   ]
  },
  {
   "cell_type": "markdown",
   "metadata": {},
   "source": [
    "На первом шаге (при переходе с главного экрана на экран с товарами) мы теряем почти 40% пользователей, на следующем шаге (при переходе с экрана товаров в корзину) мы теряем 19%, на последнем шаге (при совершении платежа) мы теряем около 5%.\n",
    "\n",
    "То есть больше всего мы теряем пользователей с главного экрана, почти половина из них не идет дальше. Это подтверждает предположение, которое мы делали на этапе анализа комбинаций событий: главный экран является узким местом нашего приложения.\n",
    "\n",
    "В целом, до оплаты доходит 48% пользователей, которые зашли в приложение. Несмотря на потери на первом шаге, пользователи довольно хорошо конвертируются в покупку."
   ]
  },
  {
   "cell_type": "markdown",
   "metadata": {},
   "source": [
    "# 4. A/B-тест\n",
    "\n",
    "Был проведен эксперимент по изменению шрифтов в приложении: пользователям контрольных групп показывали старый вариант, а пользователям тестовой группы - приложение с новыми шрифтами. Цель теста - убедиться, что изменение интерфейса не повлияет негативно на поведение пользователей. То есть, пользователи не станут менее активно пользоваться приложением, а главное - не станут меньше покупать.\n",
    "\n",
    "Интересующий нас показатель - это доля пользователей, совершивших то или иное событие нашей воронки. Посмотрев в совокупности на эти доли в тестовой группе, мы будем делать выводы о влиянии новых шрифтов на нашу воронку."
   ]
  },
  {
   "cell_type": "code",
   "execution_count": 55,
   "metadata": {},
   "outputs": [],
   "source": [
    "# Посчитаем количество пользователей в каждой группе, совершивших событие\n",
    "group_events_stat = (\n",
    "    logs.pivot_table(index='event_name_short', \n",
    "                     columns='group', \n",
    "                     values='user_id',\n",
    "                     margins=True,\n",
    "                     aggfunc=pd.Series.nunique)\n",
    ")\n",
    "\n",
    "del(group_events_stat['All'])\n",
    "\n",
    "# Посчитаем доли пользователей, совершивших событие, в каждой группе\n",
    "for column in group_events_stat.columns:\n",
    "    column_name = f'{column}_share'\n",
    "    group_events_stat[column_name] = (\n",
    "        group_events_stat[column] / group_events_stat.loc['All', column]\n",
    "    )"
   ]
  },
  {
   "cell_type": "code",
   "execution_count": 56,
   "metadata": {},
   "outputs": [
    {
     "data": {
      "text/html": [
       "<style type=\"text/css\">\n",
       "#T_2ed9c_row0_col0 {\n",
       "  background-color: #7db8da;\n",
       "  color: #000000;\n",
       "}\n",
       "#T_2ed9c_row0_col1 {\n",
       "  background-color: #85bcdc;\n",
       "  color: #000000;\n",
       "}\n",
       "#T_2ed9c_row0_col2 {\n",
       "  background-color: #87bddc;\n",
       "  color: #000000;\n",
       "}\n",
       "#T_2ed9c_row1_col0, #T_2ed9c_row1_col1, #T_2ed9c_row1_col2 {\n",
       "  background-color: #08306b;\n",
       "  color: #f1f1f1;\n",
       "}\n",
       "#T_2ed9c_row2_col0 {\n",
       "  background-color: #4f9bcb;\n",
       "  color: #f1f1f1;\n",
       "}\n",
       "#T_2ed9c_row2_col1, #T_2ed9c_row2_col2 {\n",
       "  background-color: #56a0ce;\n",
       "  color: #f1f1f1;\n",
       "}\n",
       "#T_2ed9c_row3_col0 {\n",
       "  background-color: #8abfdd;\n",
       "  color: #000000;\n",
       "}\n",
       "#T_2ed9c_row3_col1 {\n",
       "  background-color: #95c5df;\n",
       "  color: #000000;\n",
       "}\n",
       "#T_2ed9c_row3_col2 {\n",
       "  background-color: #91c3de;\n",
       "  color: #000000;\n",
       "}\n",
       "#T_2ed9c_row4_col0, #T_2ed9c_row4_col1, #T_2ed9c_row4_col2 {\n",
       "  background-color: #f7fbff;\n",
       "  color: #000000;\n",
       "}\n",
       "</style>\n",
       "<table id=\"T_2ed9c\">\n",
       "  <thead>\n",
       "    <tr>\n",
       "      <th class=\"index_name level0\" >group</th>\n",
       "      <th id=\"T_2ed9c_level0_col0\" class=\"col_heading level0 col0\" >246_share</th>\n",
       "      <th id=\"T_2ed9c_level0_col1\" class=\"col_heading level0 col1\" >247_share</th>\n",
       "      <th id=\"T_2ed9c_level0_col2\" class=\"col_heading level0 col2\" >248_share</th>\n",
       "    </tr>\n",
       "    <tr>\n",
       "      <th class=\"index_name level0\" >event_name_short</th>\n",
       "      <th class=\"blank col0\" >&nbsp;</th>\n",
       "      <th class=\"blank col1\" >&nbsp;</th>\n",
       "      <th class=\"blank col2\" >&nbsp;</th>\n",
       "    </tr>\n",
       "  </thead>\n",
       "  <tbody>\n",
       "    <tr>\n",
       "      <th id=\"T_2ed9c_level0_row0\" class=\"row_heading level0 row0\" >Cart</th>\n",
       "      <td id=\"T_2ed9c_row0_col0\" class=\"data row0 col0\" >0.51</td>\n",
       "      <td id=\"T_2ed9c_row0_col1\" class=\"data row0 col1\" >0.49</td>\n",
       "      <td id=\"T_2ed9c_row0_col2\" class=\"data row0 col2\" >0.49</td>\n",
       "    </tr>\n",
       "    <tr>\n",
       "      <th id=\"T_2ed9c_level0_row1\" class=\"row_heading level0 row1\" >Main Screen</th>\n",
       "      <td id=\"T_2ed9c_row1_col0\" class=\"data row1 col0\" >0.99</td>\n",
       "      <td id=\"T_2ed9c_row1_col1\" class=\"data row1 col1\" >0.98</td>\n",
       "      <td id=\"T_2ed9c_row1_col2\" class=\"data row1 col2\" >0.98</td>\n",
       "    </tr>\n",
       "    <tr>\n",
       "      <th id=\"T_2ed9c_level0_row2\" class=\"row_heading level0 row2\" >Offers</th>\n",
       "      <td id=\"T_2ed9c_row2_col0\" class=\"data row2 col0\" >0.62</td>\n",
       "      <td id=\"T_2ed9c_row2_col1\" class=\"data row2 col1\" >0.61</td>\n",
       "      <td id=\"T_2ed9c_row2_col2\" class=\"data row2 col2\" >0.60</td>\n",
       "    </tr>\n",
       "    <tr>\n",
       "      <th id=\"T_2ed9c_level0_row3\" class=\"row_heading level0 row3\" >Payment</th>\n",
       "      <td id=\"T_2ed9c_row3_col0\" class=\"data row3 col0\" >0.48</td>\n",
       "      <td id=\"T_2ed9c_row3_col1\" class=\"data row3 col1\" >0.46</td>\n",
       "      <td id=\"T_2ed9c_row3_col2\" class=\"data row3 col2\" >0.47</td>\n",
       "    </tr>\n",
       "    <tr>\n",
       "      <th id=\"T_2ed9c_level0_row4\" class=\"row_heading level0 row4\" >Tutorial</th>\n",
       "      <td id=\"T_2ed9c_row4_col0\" class=\"data row4 col0\" >0.11</td>\n",
       "      <td id=\"T_2ed9c_row4_col1\" class=\"data row4 col1\" >0.11</td>\n",
       "      <td id=\"T_2ed9c_row4_col2\" class=\"data row4 col2\" >0.11</td>\n",
       "    </tr>\n",
       "  </tbody>\n",
       "</table>\n"
      ],
      "text/plain": [
       "<pandas.io.formats.style.Styler at 0x28130f2d0>"
      ]
     },
     "execution_count": 56,
     "metadata": {},
     "output_type": "execute_result"
    }
   ],
   "source": [
    "(\n",
    "    group_events_stat[['246_share', '247_share', '248_share']]\n",
    "    .drop('All', axis=0)\n",
    "    .style\n",
    "    .format('{:.2f}')\n",
    "    .background_gradient('Blues', axis=0)\n",
    ")"
   ]
  },
  {
   "cell_type": "markdown",
   "metadata": {},
   "source": [
    "На первый взгляд доли пользователей, совершивших события, не сильно различаются по группам:\n",
    "- по событию Main Screen доля равна 0.99 для группы 246 и 0.98 для групп 247 и 248\n",
    "- по событию Offers доля равна 0.62 для группы 246, 0.61 для группы 247, и 0.6 для группы 248\n",
    "- по событию Cart доля равна 0.51 для группы 246 и 0.49 для групп 247 и 248\n",
    "- по событию Payment доля равна 0.48 для группы 246, 0.46 для группы 247, и 0.48 для группы 248\n",
    "- по событию Tutorial доля равна 0.11 для всех групп.\n",
    "\n",
    "Но все же отличия между группами есть. Насколько они значимы или являются просто случайностью, нам предстоит выяснить с помощью статистических тестов."
   ]
  },
  {
   "cell_type": "markdown",
   "metadata": {},
   "source": [
    "## 4.1. A/A-тест\n",
    "\n",
    "Прежде чем приступить к анализу результатов нужно выяснить, корректно ли будет работать механизм A/B-тестирования. Для этого мы посмотрим, находят ли статистические критерии разницу между двумя контрольными выборками: группой 246 и группой 247.\n",
    "\n",
    "Проверку будем проводить на всех типах событий:\n",
    "- в каждой группе рассчитаем долю пользователей, совершивших это событие\n",
    "- с помощью z-теста проверим, является ли разница в долях между группами статистически значимой\n",
    "\n",
    "Если разница будет статистически значимой, то наше разбиение некорректно, так как две контрольные группы не должны иметь различий между собой.\n",
    "\n",
    "Сформулируем гипотезы для проверки:\n",
    "- $H_{0}$: между группами 246 и 247 нет различий в доле пользователей, совершивших событие.\n",
    "- $H_{1}$: между группами 246 и 247 есть различие в доле пользователей, совершивших событие.\n",
    "\n",
    "Разница между долями, наблюдаемыми в группах 246 и 247, будет нашей статистикой. \n",
    "\n",
    "$$\n",
    "Z \\approx \\frac{(P_{1} - P_{2}) - (\\pi_{1} - \\pi_{2})}{\\sqrt{P (1 - P) (1/n_{1} + 1/n_{2})}}\n",
    "$$\n",
    "\n",
    "где \n",
    "- $n_{1}$ - количество наблюдений в выборке 1\n",
    "- $n_{2}$ - количество наблюдений в выборке 2\n",
    "- $P_{1}$ - доля пользователей, совершивших событие, в выборке 1\n",
    "- $P_{2}$ - доля пользователей, совершивших событие, в выборке 2\n",
    "- $\\pi_{1}$ - доля пользователей, совершивших событие, в генеральной совокупности 1\n",
    "- $\\pi_{2}$ - доля пользователей, совершивших событие, в генеральной совокупности 2"
   ]
  },
  {
   "cell_type": "code",
   "execution_count": 57,
   "metadata": {},
   "outputs": [],
   "source": [
    "aa_test_dict = {}\n",
    "\n",
    "for event in events_names_short.values():\n",
    "    \n",
    "    test_sample_a = get_sample(logs, '246', event)\n",
    "    test_sample_b = get_sample(logs, '247', event)\n",
    "    \n",
    "    aa_test_dict[event] = z_test(test_sample_a, test_sample_b, two_sided=True)\n",
    "\n",
    "aa_test_df = pd.DataFrame(aa_test_dict, index=['group_difference', 'p_value'])"
   ]
  },
  {
   "cell_type": "code",
   "execution_count": 58,
   "metadata": {},
   "outputs": [
    {
     "data": {
      "text/html": [
       "<style type=\"text/css\">\n",
       "#T_38721_row1_col0, #T_38721_row1_col1, #T_38721_row1_col2, #T_38721_row1_col3, #T_38721_row1_col4 {\n",
       "  color: red;\n",
       "}\n",
       "</style>\n",
       "<table id=\"T_38721\">\n",
       "  <caption>p_value для групп 246 и 247</caption>\n",
       "  <thead>\n",
       "    <tr>\n",
       "      <th class=\"blank level0\" >&nbsp;</th>\n",
       "      <th id=\"T_38721_level0_col0\" class=\"col_heading level0 col0\" >Main Screen</th>\n",
       "      <th id=\"T_38721_level0_col1\" class=\"col_heading level0 col1\" >Payment</th>\n",
       "      <th id=\"T_38721_level0_col2\" class=\"col_heading level0 col2\" >Cart</th>\n",
       "      <th id=\"T_38721_level0_col3\" class=\"col_heading level0 col3\" >Offers</th>\n",
       "      <th id=\"T_38721_level0_col4\" class=\"col_heading level0 col4\" >Tutorial</th>\n",
       "    </tr>\n",
       "  </thead>\n",
       "  <tbody>\n",
       "    <tr>\n",
       "      <th id=\"T_38721_level0_row0\" class=\"row_heading level0 row0\" >group_difference</th>\n",
       "      <td id=\"T_38721_row0_col0\" class=\"data row0 col0\" >0.0018</td>\n",
       "      <td id=\"T_38721_row0_col1\" class=\"data row0 col1\" >0.0224</td>\n",
       "      <td id=\"T_38721_row0_col2\" class=\"data row0 col2\" >0.0176</td>\n",
       "      <td id=\"T_38721_row0_col3\" class=\"data row0 col3\" >0.0151</td>\n",
       "      <td id=\"T_38721_row0_col4\" class=\"data row0 col4\" >-0.0014</td>\n",
       "    </tr>\n",
       "    <tr>\n",
       "      <th id=\"T_38721_level0_row1\" class=\"row_heading level0 row1\" >p_value</th>\n",
       "      <td id=\"T_38721_row1_col0\" class=\"data row1 col0\" >0.5869</td>\n",
       "      <td id=\"T_38721_row1_col1\" class=\"data row1 col1\" >0.1121</td>\n",
       "      <td id=\"T_38721_row1_col2\" class=\"data row1 col2\" >0.2131</td>\n",
       "      <td id=\"T_38721_row1_col3\" class=\"data row1 col3\" >0.2744</td>\n",
       "      <td id=\"T_38721_row1_col4\" class=\"data row1 col4\" >0.8792</td>\n",
       "    </tr>\n",
       "  </tbody>\n",
       "</table>\n"
      ],
      "text/plain": [
       "<pandas.io.formats.style.Styler at 0x176a81e90>"
      ]
     },
     "execution_count": 58,
     "metadata": {},
     "output_type": "execute_result"
    }
   ],
   "source": [
    "(\n",
    "    aa_test_df.style\n",
    "    .format('{:.4f}')\n",
    "    .applymap(color_thresh_red,\n",
    "              subset=pd.IndexSlice['p_value', :])\n",
    "    .set_caption('p_value для групп 246 и 247')\n",
    ")"
   ]
  },
  {
   "cell_type": "markdown",
   "metadata": {},
   "source": [
    "Результаты теста по всем событиям одинаковы: p_value больше уровня значимости 0.05. Значит у нас не получается отвергнуть нулевую гипотезу, т.е. доли пользователей, соершивших событие, в выборках 246 и 247 равны. Отсюда делаем вывод, что разбиение работает корректно, и мы можем продолжать анализ A/B-теста."
   ]
  },
  {
   "cell_type": "markdown",
   "metadata": {},
   "source": [
    "## 4.2. A/B-тест\n",
    "Проведем z-тест, сравнивая контрольные группы и тестовую:\n",
    "\n",
    "- группу 246 с группой 248\n",
    "- группу 247 с группой 248\n",
    "- объединенную группу 246+247 с группой 248\n",
    "\n",
    "### 4.2.1. Группа 246 и группа 248"
   ]
  },
  {
   "cell_type": "code",
   "execution_count": 59,
   "metadata": {},
   "outputs": [
    {
     "data": {
      "text/html": [
       "<style type=\"text/css\">\n",
       "#T_c5522_row1_col0, #T_c5522_row1_col1, #T_c5522_row1_col2, #T_c5522_row1_col3, #T_c5522_row1_col4 {\n",
       "  color: red;\n",
       "}\n",
       "</style>\n",
       "<table id=\"T_c5522\">\n",
       "  <caption>p_value для групп 246 и 248</caption>\n",
       "  <thead>\n",
       "    <tr>\n",
       "      <th class=\"blank level0\" >&nbsp;</th>\n",
       "      <th id=\"T_c5522_level0_col0\" class=\"col_heading level0 col0\" >Main Screen</th>\n",
       "      <th id=\"T_c5522_level0_col1\" class=\"col_heading level0 col1\" >Payment</th>\n",
       "      <th id=\"T_c5522_level0_col2\" class=\"col_heading level0 col2\" >Cart</th>\n",
       "      <th id=\"T_c5522_level0_col3\" class=\"col_heading level0 col3\" >Offers</th>\n",
       "      <th id=\"T_c5522_level0_col4\" class=\"col_heading level0 col4\" >Tutorial</th>\n",
       "    </tr>\n",
       "  </thead>\n",
       "  <tbody>\n",
       "    <tr>\n",
       "      <th id=\"T_c5522_level0_row0\" class=\"row_heading level0 row0\" >group_difference</th>\n",
       "      <td id=\"T_c5522_row0_col0\" class=\"data row0 col0\" >0.0033</td>\n",
       "      <td id=\"T_c5522_row0_col1\" class=\"data row0 col1\" >0.0171</td>\n",
       "      <td id=\"T_c5522_row0_col2\" class=\"data row0 col2\" >0.0232</td>\n",
       "      <td id=\"T_c5522_row0_col3\" class=\"data row0 col3\" >0.0166</td>\n",
       "      <td id=\"T_c5522_row0_col4\" class=\"data row0 col4\" >0.0008</td>\n",
       "    </tr>\n",
       "    <tr>\n",
       "      <th id=\"T_c5522_level0_row1\" class=\"row_heading level0 row1\" >p_value</th>\n",
       "      <td id=\"T_c5522_row1_col0\" class=\"data row1 col0\" >0.3413</td>\n",
       "      <td id=\"T_c5522_row1_col1\" class=\"data row1 col1\" >0.2235</td>\n",
       "      <td id=\"T_c5522_row1_col2\" class=\"data row1 col2\" >0.0994</td>\n",
       "      <td id=\"T_c5522_row1_col3\" class=\"data row1 col3\" >0.2270</td>\n",
       "      <td id=\"T_c5522_row1_col4\" class=\"data row1 col4\" >0.9239</td>\n",
       "    </tr>\n",
       "  </tbody>\n",
       "</table>\n"
      ],
      "text/plain": [
       "<pandas.io.formats.style.Styler at 0x177a8aa50>"
      ]
     },
     "execution_count": 59,
     "metadata": {},
     "output_type": "execute_result"
    }
   ],
   "source": [
    "test_dict_246_248 = {}\n",
    "\n",
    "for event in events_names_short.values():\n",
    "    \n",
    "    test_sample_a = get_sample(logs, '246', event)\n",
    "    test_sample_b = get_sample(logs, '248', event)\n",
    "    \n",
    "    test_dict_246_248[event] = z_test(test_sample_a, test_sample_b, two_sided=True)\n",
    "\n",
    "test_df_246_248 = pd.DataFrame(test_dict_246_248, index=['group_difference', 'p_value'])\n",
    "\n",
    "(\n",
    "    test_df_246_248.style\n",
    "    .format('{:.4f}')\n",
    "    .applymap(color_thresh_red,\n",
    "              subset=pd.IndexSlice['p_value', :])\n",
    "    .set_caption('p_value для групп 246 и 248')\n",
    ")"
   ]
  },
  {
   "cell_type": "markdown",
   "metadata": {},
   "source": [
    "В группах 246 и 248 по всем событиям не удалось отвергнуть нулевую гипотезу. p_value по всем тестам оказался выше уровня значимости $\\alpha$ = 0.05."
   ]
  },
  {
   "cell_type": "markdown",
   "metadata": {},
   "source": [
    "### 4.2.2. Группа 247 и группа 248"
   ]
  },
  {
   "cell_type": "code",
   "execution_count": 60,
   "metadata": {},
   "outputs": [
    {
     "data": {
      "text/html": [
       "<style type=\"text/css\">\n",
       "#T_28a7c_row1_col0, #T_28a7c_row1_col1, #T_28a7c_row1_col2, #T_28a7c_row1_col3, #T_28a7c_row1_col4 {\n",
       "  color: red;\n",
       "}\n",
       "</style>\n",
       "<table id=\"T_28a7c\">\n",
       "  <caption>p_value для групп 247 и 248</caption>\n",
       "  <thead>\n",
       "    <tr>\n",
       "      <th class=\"blank level0\" >&nbsp;</th>\n",
       "      <th id=\"T_28a7c_level0_col0\" class=\"col_heading level0 col0\" >Main Screen</th>\n",
       "      <th id=\"T_28a7c_level0_col1\" class=\"col_heading level0 col1\" >Payment</th>\n",
       "      <th id=\"T_28a7c_level0_col2\" class=\"col_heading level0 col2\" >Cart</th>\n",
       "      <th id=\"T_28a7c_level0_col3\" class=\"col_heading level0 col3\" >Offers</th>\n",
       "      <th id=\"T_28a7c_level0_col4\" class=\"col_heading level0 col4\" >Tutorial</th>\n",
       "    </tr>\n",
       "  </thead>\n",
       "  <tbody>\n",
       "    <tr>\n",
       "      <th id=\"T_28a7c_level0_row0\" class=\"row_heading level0 row0\" >group_difference</th>\n",
       "      <td id=\"T_28a7c_row0_col0\" class=\"data row0 col0\" >0.0014</td>\n",
       "      <td id=\"T_28a7c_row0_col1\" class=\"data row0 col1\" >-0.0053</td>\n",
       "      <td id=\"T_28a7c_row0_col2\" class=\"data row0 col2\" >0.0056</td>\n",
       "      <td id=\"T_28a7c_row0_col3\" class=\"data row0 col3\" >0.0016</td>\n",
       "      <td id=\"T_28a7c_row0_col4\" class=\"data row0 col4\" >0.0022</td>\n",
       "    </tr>\n",
       "    <tr>\n",
       "      <th id=\"T_28a7c_level0_row1\" class=\"row_heading level0 row1\" >p_value</th>\n",
       "      <td id=\"T_28a7c_row1_col0\" class=\"data row1 col0\" >0.6820</td>\n",
       "      <td id=\"T_28a7c_row1_col1\" class=\"data row1 col1\" >0.7066</td>\n",
       "      <td id=\"T_28a7c_row1_col2\" class=\"data row1 col2\" >0.6884</td>\n",
       "      <td id=\"T_28a7c_row1_col3\" class=\"data row1 col3\" >0.9101</td>\n",
       "      <td id=\"T_28a7c_row1_col4\" class=\"data row1 col4\" >0.8036</td>\n",
       "    </tr>\n",
       "  </tbody>\n",
       "</table>\n"
      ],
      "text/plain": [
       "<pandas.io.formats.style.Styler at 0x177d9efd0>"
      ]
     },
     "execution_count": 60,
     "metadata": {},
     "output_type": "execute_result"
    }
   ],
   "source": [
    "test_dict_247_248 = {}\n",
    "\n",
    "for event in events_names_short.values():\n",
    "    \n",
    "    test_sample_a = get_sample(logs, '247', event)\n",
    "    test_sample_b = get_sample(logs, '248', event)\n",
    "    \n",
    "    test_dict_247_248[event] = z_test(test_sample_a, test_sample_b, two_sided=True)\n",
    "\n",
    "test_df_247_248 = pd.DataFrame(test_dict_247_248, index=['group_difference', 'p_value'])\n",
    "\n",
    "(\n",
    "    test_df_247_248.style\n",
    "    .format('{:.4f}')\n",
    "    .applymap(color_thresh_red,\n",
    "              subset=pd.IndexSlice['p_value', :])\n",
    "    .set_caption('p_value для групп 247 и 248')\n",
    ")"
   ]
  },
  {
   "cell_type": "markdown",
   "metadata": {},
   "source": [
    "В группах 247 и 248 по всем событиям не удалось отвергнуть нулевую гипотезу. p_value по всем тестам оказался выше уровня значимости $\\alpha$ = 0.05."
   ]
  },
  {
   "cell_type": "markdown",
   "metadata": {},
   "source": [
    "### 4.2.3. Группа 246+247 и группа 248"
   ]
  },
  {
   "cell_type": "code",
   "execution_count": 61,
   "metadata": {},
   "outputs": [
    {
     "data": {
      "text/html": [
       "<style type=\"text/css\">\n",
       "#T_34c51_row1_col0, #T_34c51_row1_col1, #T_34c51_row1_col2, #T_34c51_row1_col3, #T_34c51_row1_col4 {\n",
       "  color: red;\n",
       "}\n",
       "</style>\n",
       "<table id=\"T_34c51\">\n",
       "  <caption>p_value для групп 246+247 и 248</caption>\n",
       "  <thead>\n",
       "    <tr>\n",
       "      <th class=\"blank level0\" >&nbsp;</th>\n",
       "      <th id=\"T_34c51_level0_col0\" class=\"col_heading level0 col0\" >Main Screen</th>\n",
       "      <th id=\"T_34c51_level0_col1\" class=\"col_heading level0 col1\" >Payment</th>\n",
       "      <th id=\"T_34c51_level0_col2\" class=\"col_heading level0 col2\" >Cart</th>\n",
       "      <th id=\"T_34c51_level0_col3\" class=\"col_heading level0 col3\" >Offers</th>\n",
       "      <th id=\"T_34c51_level0_col4\" class=\"col_heading level0 col4\" >Tutorial</th>\n",
       "    </tr>\n",
       "  </thead>\n",
       "  <tbody>\n",
       "    <tr>\n",
       "      <th id=\"T_34c51_level0_row0\" class=\"row_heading level0 row0\" >group_difference</th>\n",
       "      <td id=\"T_34c51_row0_col0\" class=\"data row0 col0\" >0.0023</td>\n",
       "      <td id=\"T_34c51_row0_col1\" class=\"data row0 col1\" >0.0059</td>\n",
       "      <td id=\"T_34c51_row0_col2\" class=\"data row0 col2\" >0.0144</td>\n",
       "      <td id=\"T_34c51_row0_col3\" class=\"data row0 col3\" >0.0090</td>\n",
       "      <td id=\"T_34c51_row0_col4\" class=\"data row0 col4\" >0.0015</td>\n",
       "    </tr>\n",
       "    <tr>\n",
       "      <th id=\"T_34c51_level0_row1\" class=\"row_heading level0 row1\" >p_value</th>\n",
       "      <td id=\"T_34c51_row1_col0\" class=\"data row1 col0\" >0.4290</td>\n",
       "      <td id=\"T_34c51_row1_col1\" class=\"data row1 col1\" >0.6297</td>\n",
       "      <td id=\"T_34c51_row1_col2\" class=\"data row1 col2\" >0.2376</td>\n",
       "      <td id=\"T_34c51_row1_col3\" class=\"data row1 col3\" >0.4472</td>\n",
       "      <td id=\"T_34c51_row1_col4\" class=\"data row1 col4\" >0.8421</td>\n",
       "    </tr>\n",
       "  </tbody>\n",
       "</table>\n"
      ],
      "text/plain": [
       "<pandas.io.formats.style.Styler at 0x176a0d4d0>"
      ]
     },
     "execution_count": 61,
     "metadata": {},
     "output_type": "execute_result"
    }
   ],
   "source": [
    "test_dict_24_248 = {}\n",
    "\n",
    "for event in events_names_short.values():\n",
    "    \n",
    "    test_sample_a = get_sample(logs, ['247', '246'], event)\n",
    "    test_sample_b = get_sample(logs, '248', event)\n",
    "    \n",
    "    test_dict_24_248[event] = z_test(test_sample_a, test_sample_b, two_sided=True)\n",
    "\n",
    "test_df_24_248 = pd.DataFrame(test_dict_24_248, index=['group_difference', 'p_value'])\n",
    "\n",
    "(\n",
    "    test_df_24_248.style\n",
    "    .format('{:.4f}')\n",
    "    .applymap(color_thresh_red,\n",
    "              subset=pd.IndexSlice['p_value', :])\n",
    "    .set_caption('p_value для групп 246+247 и 248')\n",
    ")"
   ]
  },
  {
   "cell_type": "markdown",
   "metadata": {},
   "source": [
    "В группах 246+247 и 248 по всем событиям не удалось отвергнуть нулевую гипотезу."
   ]
  },
  {
   "cell_type": "markdown",
   "metadata": {},
   "source": [
    "## 4.4. Вывод по A/B-тесту\n",
    "\n",
    "Таким образом, ни один из наших тестов не нашел статистически значимой разницы между группами. Мы можем сделать предварительный вывод о том, что изменение шрифта в приложении никак не повлияло на поведение наших пользователей.\n",
    "\n",
    "Заметим, что у нас проверяется несколько гипотез на одних и тех же данных: мы сравниваем группы 4 раза (246 и 247, 246 и 248, 247 и 248, 246+247 и 248), проверяя 5 различных типов событий. Таким образом, мы проводим на наших данных 20 тестов.\n",
    "\n",
    "При единичной проверке уровень значимости $\\alpha$ = 0.05 будет означать, что мы допускаем 5%-вероятность ошибки первого рода (ложноположительного результата - отвергнем гипотезу H0, хотя ее не нужно было отвергать). При 20 проверках $\\alpha$ = 0.05 будет означать, что мы допускаем 64%-вероятность ошибки:\n",
    "\n",
    "$$\n",
    "1 - (1 - \\alpha)^k = 1 - (1 - 0.05)^{20} \\approx 0.64\n",
    "$$\n",
    "\n",
    "Существуют различные способы уменьшить вероятность этой ошибки за счет снижения уровня значимости. Но для нашего случая они не актуальны: у нас во всех тестах значение p-value значительно превосходит уровень значимости $\\alpha$, мы ни разу не отвергли нулевую гипотезу, а значит снижение $\\alpha$ никак не повлияет на результат."
   ]
  },
  {
   "cell_type": "markdown",
   "metadata": {},
   "source": [
    "# 5. Вывод\n",
    "\n",
    "В ходе проекта мы изучили данные логов приложения по заказу продуктов. Основными задачами анализа были:\n",
    "- построение воронки событий\n",
    "- анализ резульатов проведенного A/B-теста\n",
    "\n",
    "В ходе подготовки данных к анализу были удалены дубликаты, созданы столбцы с датами событий. \n",
    "\n",
    "При исследовательском анализе данных, были отфильтрованы неполные данные (данные до 1 августа). При удалении каких-либо данных из датасета, мы проводили проверку того, что потери будут несущественны и не причинят вреда нашему анализу.\n",
    "\n",
    "Анализ представленности групп показал, что разбиение проведено корректно: доли групп в датасете равны и нет пересекающихся пользователей.\n",
    "\n",
    "Изучение частоты событий показало, что самым частым событием является *Заход на главный экран приложения*, оно занимает почти половину всего датасета. Самым редким событием является *Туториал*, что объясняется самой природой этого события - оно необходимо пользователю один раз в течение работы с приложением для знакомства с его функциями.\n",
    "\n",
    "При построении воронки мы выделили 4 основных события, которые покрывают пользовательский путь: *Заход на главный экран, Экран выбора продуктов, Корзина* и *Платеж*. Анализ долей пользователей, совершавших эти события показал, что наибольшие потери приходятся на первый шаг воронки: 40% пользователей отваливается после главного экрана. Очевидно, что или главный экран приложения, или процесс перехода на страницу товаров являются узким местом приложения. Возможно, дело в неудобной навигации, либо в этом месте есть какие-то баги. В любом случае, необходимо обратить на это внимание и исследовать причины такого поведения пользователей.\n",
    "\n",
    "В ходе анализа A/B-теста (тест заключался в изменении шрифтов в приложении; одной части пользователей показывали старую версию, другой части - новую) мы пришли к выводу, что данное изменение никак не повлияло на поведение пользователей. Доли пользователей, заходящих на главный экран, на страницу товаров, в корзину, и совершающих платеж, никак не изменились. Так что переход на новые шрифты можно считать вполне безопасным: это не отпугнет пользователей."
   ]
  },
  {
   "cell_type": "code",
   "execution_count": null,
   "metadata": {},
   "outputs": [],
   "source": []
  }
 ],
 "metadata": {
  "ExecuteTimeLog": [
   {
    "duration": 1376,
    "start_time": "2023-05-04T10:52:40.558Z"
   },
   {
    "duration": 3,
    "start_time": "2023-05-04T10:52:41.937Z"
   },
   {
    "duration": 18,
    "start_time": "2023-05-04T10:52:41.942Z"
   },
   {
    "duration": 880,
    "start_time": "2023-05-04T10:52:41.962Z"
   },
   {
    "duration": 21,
    "start_time": "2023-05-04T10:52:42.845Z"
   },
   {
    "duration": 89,
    "start_time": "2023-05-04T10:52:42.868Z"
   },
   {
    "duration": 99,
    "start_time": "2023-05-04T10:52:42.959Z"
   },
   {
    "duration": 145,
    "start_time": "2023-05-04T10:52:43.060Z"
   },
   {
    "duration": 29,
    "start_time": "2023-05-04T10:52:43.209Z"
   },
   {
    "duration": 13,
    "start_time": "2023-05-04T10:52:43.241Z"
   },
   {
    "duration": 6,
    "start_time": "2023-05-04T10:52:43.256Z"
   },
   {
    "duration": 453,
    "start_time": "2023-05-04T11:03:55.750Z"
   },
   {
    "duration": 11,
    "start_time": "2023-05-04T11:04:54.640Z"
   },
   {
    "duration": 7,
    "start_time": "2023-05-04T11:05:11.209Z"
   },
   {
    "duration": 14781,
    "start_time": "2023-05-04T11:05:35.042Z"
   },
   {
    "duration": 314,
    "start_time": "2023-05-04T11:05:49.825Z"
   },
   {
    "duration": 8,
    "start_time": "2023-05-04T11:05:59.306Z"
   },
   {
    "duration": 8,
    "start_time": "2023-05-04T11:06:27.814Z"
   },
   {
    "duration": 355,
    "start_time": "2023-05-04T11:07:26.525Z"
   },
   {
    "duration": 225,
    "start_time": "2023-05-04T11:07:35.221Z"
   },
   {
    "duration": 275,
    "start_time": "2023-05-04T11:07:41.254Z"
   },
   {
    "duration": 265,
    "start_time": "2023-05-04T11:07:45.722Z"
   },
   {
    "duration": 36,
    "start_time": "2023-05-04T11:08:20.814Z"
   },
   {
    "duration": 8,
    "start_time": "2023-05-04T11:08:26.719Z"
   },
   {
    "duration": 321,
    "start_time": "2023-05-04T11:08:47.187Z"
   },
   {
    "duration": 268,
    "start_time": "2023-05-04T11:10:13.021Z"
   },
   {
    "duration": 261,
    "start_time": "2023-05-04T11:10:32.522Z"
   },
   {
    "duration": 287,
    "start_time": "2023-05-04T11:10:45.646Z"
   },
   {
    "duration": 351,
    "start_time": "2023-05-04T11:10:53.374Z"
   },
   {
    "duration": 317,
    "start_time": "2023-05-04T11:10:57.681Z"
   },
   {
    "duration": 1329,
    "start_time": "2023-05-04T11:11:45.047Z"
   },
   {
    "duration": 4,
    "start_time": "2023-05-04T11:11:46.378Z"
   },
   {
    "duration": 7,
    "start_time": "2023-05-04T11:11:46.393Z"
   },
   {
    "duration": 621,
    "start_time": "2023-05-04T11:11:46.404Z"
   },
   {
    "duration": 26,
    "start_time": "2023-05-04T11:11:47.028Z"
   },
   {
    "duration": 88,
    "start_time": "2023-05-04T11:11:47.057Z"
   },
   {
    "duration": 83,
    "start_time": "2023-05-04T11:11:47.148Z"
   },
   {
    "duration": 142,
    "start_time": "2023-05-04T11:11:47.232Z"
   },
   {
    "duration": 19,
    "start_time": "2023-05-04T11:11:47.376Z"
   },
   {
    "duration": 21,
    "start_time": "2023-05-04T11:11:47.397Z"
   },
   {
    "duration": 6,
    "start_time": "2023-05-04T11:11:47.420Z"
   },
   {
    "duration": 623,
    "start_time": "2023-05-04T11:11:47.428Z"
   },
   {
    "duration": 16,
    "start_time": "2023-05-04T11:11:48.054Z"
   },
   {
    "duration": 29,
    "start_time": "2023-05-04T11:11:48.073Z"
   },
   {
    "duration": 523,
    "start_time": "2023-05-04T11:11:48.104Z"
   },
   {
    "duration": 12,
    "start_time": "2023-05-04T11:12:21.909Z"
   },
   {
    "duration": 1479,
    "start_time": "2023-05-04T11:12:36.555Z"
   },
   {
    "duration": 6,
    "start_time": "2023-05-04T11:12:38.037Z"
   },
   {
    "duration": 9,
    "start_time": "2023-05-04T11:12:38.045Z"
   },
   {
    "duration": 481,
    "start_time": "2023-05-04T11:12:38.056Z"
   },
   {
    "duration": 20,
    "start_time": "2023-05-04T11:12:38.541Z"
   },
   {
    "duration": 91,
    "start_time": "2023-05-04T11:12:38.563Z"
   },
   {
    "duration": 88,
    "start_time": "2023-05-04T11:12:38.656Z"
   },
   {
    "duration": 131,
    "start_time": "2023-05-04T11:12:38.746Z"
   },
   {
    "duration": 31,
    "start_time": "2023-05-04T11:12:38.879Z"
   },
   {
    "duration": 13,
    "start_time": "2023-05-04T11:12:38.913Z"
   },
   {
    "duration": 6,
    "start_time": "2023-05-04T11:12:38.927Z"
   },
   {
    "duration": 583,
    "start_time": "2023-05-04T11:12:38.935Z"
   },
   {
    "duration": 16,
    "start_time": "2023-05-04T11:12:39.521Z"
   },
   {
    "duration": 9,
    "start_time": "2023-05-04T11:12:39.539Z"
   },
   {
    "duration": 446,
    "start_time": "2023-05-04T11:12:39.550Z"
   },
   {
    "duration": 458,
    "start_time": "2023-05-04T11:13:52.486Z"
   },
   {
    "duration": 60,
    "start_time": "2023-05-04T11:24:43.907Z"
   },
   {
    "duration": 354,
    "start_time": "2023-05-04T11:37:24.347Z"
   },
   {
    "duration": 267,
    "start_time": "2023-05-04T11:39:18.540Z"
   },
   {
    "duration": 1383,
    "start_time": "2023-05-04T12:44:11.841Z"
   },
   {
    "duration": 3,
    "start_time": "2023-05-04T12:44:13.226Z"
   },
   {
    "duration": 6,
    "start_time": "2023-05-04T12:44:13.232Z"
   },
   {
    "duration": 400,
    "start_time": "2023-05-04T12:44:13.240Z"
   },
   {
    "duration": 22,
    "start_time": "2023-05-04T12:44:13.643Z"
   },
   {
    "duration": 90,
    "start_time": "2023-05-04T12:44:13.667Z"
   },
   {
    "duration": 103,
    "start_time": "2023-05-04T12:44:13.760Z"
   },
   {
    "duration": 160,
    "start_time": "2023-05-04T12:44:13.865Z"
   },
   {
    "duration": 22,
    "start_time": "2023-05-04T12:44:14.027Z"
   },
   {
    "duration": 8,
    "start_time": "2023-05-04T12:44:14.051Z"
   },
   {
    "duration": 42,
    "start_time": "2023-05-04T12:44:14.061Z"
   },
   {
    "duration": 624,
    "start_time": "2023-05-04T12:44:14.108Z"
   },
   {
    "duration": 18,
    "start_time": "2023-05-04T12:44:14.734Z"
   },
   {
    "duration": 9,
    "start_time": "2023-05-04T12:44:14.755Z"
   },
   {
    "duration": 480,
    "start_time": "2023-05-04T12:44:14.765Z"
   },
   {
    "duration": 75,
    "start_time": "2023-05-04T12:44:15.247Z"
   },
   {
    "duration": 317,
    "start_time": "2023-05-04T12:44:15.323Z"
   },
   {
    "duration": 18,
    "start_time": "2023-05-04T12:46:33.240Z"
   },
   {
    "duration": 37,
    "start_time": "2023-05-04T12:47:45.301Z"
   },
   {
    "duration": 223,
    "start_time": "2023-05-04T12:49:29.486Z"
   },
   {
    "duration": 50,
    "start_time": "2023-05-04T12:49:41.538Z"
   },
   {
    "duration": 40,
    "start_time": "2023-05-04T12:50:43.033Z"
   },
   {
    "duration": 4,
    "start_time": "2023-05-04T12:57:16.078Z"
   },
   {
    "duration": 289,
    "start_time": "2023-05-04T12:57:34.120Z"
   },
   {
    "duration": 38,
    "start_time": "2023-05-04T12:57:45.927Z"
   },
   {
    "duration": 380,
    "start_time": "2023-05-04T12:57:46.559Z"
   },
   {
    "duration": 1234,
    "start_time": "2023-05-04T13:21:20.981Z"
   },
   {
    "duration": 376,
    "start_time": "2023-05-04T13:21:24.735Z"
   },
   {
    "duration": 347,
    "start_time": "2023-05-04T13:21:50.238Z"
   },
   {
    "duration": 378,
    "start_time": "2023-05-04T13:23:35.609Z"
   },
   {
    "duration": 521,
    "start_time": "2023-05-04T13:23:58.725Z"
   },
   {
    "duration": 487,
    "start_time": "2023-05-04T13:24:05.425Z"
   },
   {
    "duration": 12,
    "start_time": "2023-05-04T13:30:06.518Z"
   },
   {
    "duration": 4,
    "start_time": "2023-05-04T13:30:14.835Z"
   },
   {
    "duration": 328,
    "start_time": "2023-05-04T13:30:19.520Z"
   },
   {
    "duration": 5,
    "start_time": "2023-05-04T13:30:57.279Z"
   },
   {
    "duration": 390,
    "start_time": "2023-05-04T13:31:17.704Z"
   },
   {
    "duration": 541,
    "start_time": "2023-05-04T13:32:14.109Z"
   },
   {
    "duration": 1545,
    "start_time": "2023-05-04T13:32:56.713Z"
   },
   {
    "duration": 5,
    "start_time": "2023-05-04T13:32:58.261Z"
   },
   {
    "duration": 10,
    "start_time": "2023-05-04T13:32:58.268Z"
   },
   {
    "duration": 17,
    "start_time": "2023-05-04T13:32:58.293Z"
   },
   {
    "duration": 23,
    "start_time": "2023-05-04T13:32:58.313Z"
   },
   {
    "duration": 811,
    "start_time": "2023-05-04T13:32:58.337Z"
   },
   {
    "duration": 25,
    "start_time": "2023-05-04T13:32:59.150Z"
   },
   {
    "duration": 86,
    "start_time": "2023-05-04T13:32:59.191Z"
   },
   {
    "duration": 78,
    "start_time": "2023-05-04T13:32:59.280Z"
   },
   {
    "duration": 156,
    "start_time": "2023-05-04T13:32:59.362Z"
   },
   {
    "duration": 25,
    "start_time": "2023-05-04T13:32:59.520Z"
   },
   {
    "duration": 9,
    "start_time": "2023-05-04T13:32:59.547Z"
   },
   {
    "duration": 42,
    "start_time": "2023-05-04T13:32:59.558Z"
   },
   {
    "duration": 624,
    "start_time": "2023-05-04T13:32:59.606Z"
   },
   {
    "duration": 17,
    "start_time": "2023-05-04T13:33:00.232Z"
   },
   {
    "duration": 33,
    "start_time": "2023-05-04T13:33:00.251Z"
   },
   {
    "duration": 604,
    "start_time": "2023-05-04T13:33:00.285Z"
   },
   {
    "duration": 64,
    "start_time": "2023-05-04T13:33:00.893Z"
   },
   {
    "duration": 342,
    "start_time": "2023-05-04T13:33:00.958Z"
   },
   {
    "duration": 25,
    "start_time": "2023-05-04T13:33:01.303Z"
   },
   {
    "duration": 108,
    "start_time": "2023-05-04T13:33:01.331Z"
   },
   {
    "duration": 43,
    "start_time": "2023-05-04T13:33:01.441Z"
   },
   {
    "duration": 330,
    "start_time": "2023-05-04T13:33:01.486Z"
   },
   {
    "duration": 1267,
    "start_time": "2023-05-04T13:33:01.818Z"
   },
   {
    "duration": 380,
    "start_time": "2023-05-04T13:33:03.087Z"
   },
   {
    "duration": 66,
    "start_time": "2023-05-04T14:20:57.006Z"
   },
   {
    "duration": 1484,
    "start_time": "2023-05-04T14:21:11.571Z"
   },
   {
    "duration": 4,
    "start_time": "2023-05-04T14:21:13.057Z"
   },
   {
    "duration": 16,
    "start_time": "2023-05-04T14:21:13.062Z"
   },
   {
    "duration": 13,
    "start_time": "2023-05-04T14:21:13.080Z"
   },
   {
    "duration": 16,
    "start_time": "2023-05-04T14:21:13.101Z"
   },
   {
    "duration": 4,
    "start_time": "2023-05-04T14:21:13.125Z"
   },
   {
    "duration": 589,
    "start_time": "2023-05-04T14:21:13.131Z"
   },
   {
    "duration": 28,
    "start_time": "2023-05-04T14:21:13.721Z"
   },
   {
    "duration": 108,
    "start_time": "2023-05-04T14:21:13.751Z"
   },
   {
    "duration": 105,
    "start_time": "2023-05-04T14:21:13.863Z"
   },
   {
    "duration": 141,
    "start_time": "2023-05-04T14:21:13.969Z"
   },
   {
    "duration": 24,
    "start_time": "2023-05-04T14:21:14.113Z"
   },
   {
    "duration": 11,
    "start_time": "2023-05-04T14:21:14.138Z"
   },
   {
    "duration": 18,
    "start_time": "2023-05-04T14:21:14.151Z"
   },
   {
    "duration": 687,
    "start_time": "2023-05-04T14:21:14.171Z"
   },
   {
    "duration": 20,
    "start_time": "2023-05-04T14:21:14.864Z"
   },
   {
    "duration": 21,
    "start_time": "2023-05-04T14:21:14.887Z"
   },
   {
    "duration": 503,
    "start_time": "2023-05-04T14:21:14.910Z"
   },
   {
    "duration": 61,
    "start_time": "2023-05-04T14:21:15.417Z"
   },
   {
    "duration": 325,
    "start_time": "2023-05-04T14:21:15.480Z"
   },
   {
    "duration": 24,
    "start_time": "2023-05-04T14:21:15.812Z"
   },
   {
    "duration": 84,
    "start_time": "2023-05-04T14:21:15.838Z"
   },
   {
    "duration": 41,
    "start_time": "2023-05-04T14:21:15.929Z"
   },
   {
    "duration": 350,
    "start_time": "2023-05-04T14:21:15.972Z"
   },
   {
    "duration": 1329,
    "start_time": "2023-05-04T14:21:16.325Z"
   },
   {
    "duration": 447,
    "start_time": "2023-05-04T14:21:17.657Z"
   },
   {
    "duration": 391,
    "start_time": "2023-05-04T14:21:18.106Z"
   },
   {
    "duration": 493,
    "start_time": "2023-05-04T14:25:46.721Z"
   },
   {
    "duration": 17,
    "start_time": "2023-05-04T14:26:31.485Z"
   },
   {
    "duration": 75,
    "start_time": "2023-05-04T14:27:36.085Z"
   },
   {
    "duration": 8,
    "start_time": "2023-05-04T14:30:35.875Z"
   },
   {
    "duration": 280,
    "start_time": "2023-05-04T14:30:41.112Z"
   },
   {
    "duration": 216,
    "start_time": "2023-05-04T14:31:11.011Z"
   },
   {
    "duration": 1394,
    "start_time": "2023-05-05T07:22:24.498Z"
   },
   {
    "duration": 4,
    "start_time": "2023-05-05T07:22:25.894Z"
   },
   {
    "duration": 9,
    "start_time": "2023-05-05T07:22:25.900Z"
   },
   {
    "duration": 15,
    "start_time": "2023-05-05T07:22:25.911Z"
   },
   {
    "duration": 10,
    "start_time": "2023-05-05T07:22:25.929Z"
   },
   {
    "duration": 9,
    "start_time": "2023-05-05T07:22:25.941Z"
   },
   {
    "duration": 17,
    "start_time": "2023-05-05T07:22:25.952Z"
   },
   {
    "duration": 551,
    "start_time": "2023-05-05T07:22:25.971Z"
   },
   {
    "duration": 21,
    "start_time": "2023-05-05T07:22:26.523Z"
   },
   {
    "duration": 76,
    "start_time": "2023-05-05T07:22:26.555Z"
   },
   {
    "duration": 73,
    "start_time": "2023-05-05T07:22:26.632Z"
   },
   {
    "duration": 116,
    "start_time": "2023-05-05T07:22:26.707Z"
   },
   {
    "duration": 19,
    "start_time": "2023-05-05T07:22:26.825Z"
   },
   {
    "duration": 8,
    "start_time": "2023-05-05T07:22:26.855Z"
   },
   {
    "duration": 21,
    "start_time": "2023-05-05T07:22:26.864Z"
   },
   {
    "duration": 312,
    "start_time": "2023-05-05T07:22:26.887Z"
   },
   {
    "duration": 18,
    "start_time": "2023-05-05T07:22:27.201Z"
   },
   {
    "duration": 7,
    "start_time": "2023-05-05T07:22:27.221Z"
   },
   {
    "duration": 240,
    "start_time": "2023-05-05T07:22:27.230Z"
   },
   {
    "duration": 56,
    "start_time": "2023-05-05T07:22:27.472Z"
   },
   {
    "duration": 184,
    "start_time": "2023-05-05T07:22:27.530Z"
   },
   {
    "duration": 17,
    "start_time": "2023-05-05T07:22:27.716Z"
   },
   {
    "duration": 48,
    "start_time": "2023-05-05T07:22:27.735Z"
   },
   {
    "duration": 35,
    "start_time": "2023-05-05T07:22:27.785Z"
   },
   {
    "duration": 169,
    "start_time": "2023-05-05T07:22:27.822Z"
   },
   {
    "duration": 1182,
    "start_time": "2023-05-05T07:22:27.993Z"
   },
   {
    "duration": 264,
    "start_time": "2023-05-05T07:22:29.177Z"
   },
   {
    "duration": 260,
    "start_time": "2023-05-05T07:22:29.446Z"
   },
   {
    "duration": 9,
    "start_time": "2023-05-05T07:22:29.708Z"
   },
   {
    "duration": 301,
    "start_time": "2023-05-05T07:22:29.719Z"
   },
   {
    "duration": 255,
    "start_time": "2023-05-05T07:22:30.022Z"
   },
   {
    "duration": 205,
    "start_time": "2023-05-05T07:22:30.278Z"
   },
   {
    "duration": 23,
    "start_time": "2023-05-05T07:23:41.354Z"
   },
   {
    "duration": 9,
    "start_time": "2023-05-05T07:24:15.574Z"
   },
   {
    "duration": 5,
    "start_time": "2023-05-05T07:34:23.741Z"
   },
   {
    "duration": 6,
    "start_time": "2023-05-05T08:12:28.514Z"
   },
   {
    "duration": 166,
    "start_time": "2023-05-05T08:13:43.772Z"
   },
   {
    "duration": 5,
    "start_time": "2023-05-05T08:14:02.015Z"
   },
   {
    "duration": 5,
    "start_time": "2023-05-05T08:35:45.796Z"
   },
   {
    "duration": 10,
    "start_time": "2023-05-05T08:36:58.803Z"
   },
   {
    "duration": 12,
    "start_time": "2023-05-05T08:42:16.703Z"
   },
   {
    "duration": 10,
    "start_time": "2023-05-05T08:43:39.117Z"
   },
   {
    "duration": 10,
    "start_time": "2023-05-05T08:44:01.061Z"
   },
   {
    "duration": 11,
    "start_time": "2023-05-05T08:44:21.178Z"
   },
   {
    "duration": 13,
    "start_time": "2023-05-05T08:48:48.074Z"
   },
   {
    "duration": 1101,
    "start_time": "2023-05-05T08:58:54.071Z"
   },
   {
    "duration": 3,
    "start_time": "2023-05-05T08:58:55.174Z"
   },
   {
    "duration": 8,
    "start_time": "2023-05-05T08:58:55.178Z"
   },
   {
    "duration": 20,
    "start_time": "2023-05-05T08:58:55.188Z"
   },
   {
    "duration": 4,
    "start_time": "2023-05-05T08:58:55.210Z"
   },
   {
    "duration": 4,
    "start_time": "2023-05-05T08:58:55.215Z"
   },
   {
    "duration": 8,
    "start_time": "2023-05-05T08:58:55.221Z"
   },
   {
    "duration": 10,
    "start_time": "2023-05-05T08:58:55.231Z"
   },
   {
    "duration": 550,
    "start_time": "2023-05-05T08:58:55.243Z"
   },
   {
    "duration": 21,
    "start_time": "2023-05-05T08:58:55.795Z"
   },
   {
    "duration": 76,
    "start_time": "2023-05-05T08:58:55.818Z"
   },
   {
    "duration": 78,
    "start_time": "2023-05-05T08:58:55.895Z"
   },
   {
    "duration": 107,
    "start_time": "2023-05-05T08:58:55.974Z"
   },
   {
    "duration": 20,
    "start_time": "2023-05-05T08:58:56.084Z"
   },
   {
    "duration": 17,
    "start_time": "2023-05-05T08:58:56.106Z"
   },
   {
    "duration": 26,
    "start_time": "2023-05-05T08:58:56.124Z"
   },
   {
    "duration": 312,
    "start_time": "2023-05-05T08:58:56.151Z"
   },
   {
    "duration": 16,
    "start_time": "2023-05-05T08:58:56.465Z"
   },
   {
    "duration": 31,
    "start_time": "2023-05-05T08:58:56.482Z"
   },
   {
    "duration": 229,
    "start_time": "2023-05-05T08:58:56.515Z"
   },
   {
    "duration": 57,
    "start_time": "2023-05-05T08:58:56.746Z"
   },
   {
    "duration": 169,
    "start_time": "2023-05-05T08:58:56.805Z"
   },
   {
    "duration": 15,
    "start_time": "2023-05-05T08:58:56.976Z"
   },
   {
    "duration": 39,
    "start_time": "2023-05-05T08:58:56.993Z"
   },
   {
    "duration": 53,
    "start_time": "2023-05-05T08:58:57.033Z"
   },
   {
    "duration": 136,
    "start_time": "2023-05-05T08:58:57.087Z"
   },
   {
    "duration": 1022,
    "start_time": "2023-05-05T08:58:57.225Z"
   },
   {
    "duration": 234,
    "start_time": "2023-05-05T08:58:58.249Z"
   },
   {
    "duration": 256,
    "start_time": "2023-05-05T08:58:58.485Z"
   },
   {
    "duration": 9,
    "start_time": "2023-05-05T08:58:58.742Z"
   },
   {
    "duration": 297,
    "start_time": "2023-05-05T08:58:58.756Z"
   },
   {
    "duration": 235,
    "start_time": "2023-05-05T08:58:59.056Z"
   },
   {
    "duration": 172,
    "start_time": "2023-05-05T08:58:59.292Z"
   },
   {
    "duration": 234,
    "start_time": "2023-05-05T08:58:59.466Z"
   },
   {
    "duration": 7,
    "start_time": "2023-05-05T08:58:59.702Z"
   },
   {
    "duration": 19,
    "start_time": "2023-05-05T08:58:59.711Z"
   },
   {
    "duration": 33,
    "start_time": "2023-05-05T08:58:59.733Z"
   },
   {
    "duration": 16,
    "start_time": "2023-05-05T08:58:59.768Z"
   },
   {
    "duration": 26,
    "start_time": "2023-05-05T08:58:59.786Z"
   },
   {
    "duration": 16,
    "start_time": "2023-05-05T08:58:59.813Z"
   },
   {
    "duration": 9,
    "start_time": "2023-05-05T09:03:42.664Z"
   },
   {
    "duration": 7,
    "start_time": "2023-05-05T09:04:16.883Z"
   },
   {
    "duration": 11,
    "start_time": "2023-05-05T09:06:45.134Z"
   },
   {
    "duration": 7,
    "start_time": "2023-05-05T09:07:52.269Z"
   },
   {
    "duration": 8,
    "start_time": "2023-05-05T09:07:56.161Z"
   },
   {
    "duration": 13,
    "start_time": "2023-05-05T09:08:20.100Z"
   },
   {
    "duration": 1136,
    "start_time": "2023-05-05T09:16:33.111Z"
   },
   {
    "duration": 3,
    "start_time": "2023-05-05T09:16:34.249Z"
   },
   {
    "duration": 4,
    "start_time": "2023-05-05T09:16:34.255Z"
   },
   {
    "duration": 8,
    "start_time": "2023-05-05T09:16:34.261Z"
   },
   {
    "duration": 27,
    "start_time": "2023-05-05T09:16:34.270Z"
   },
   {
    "duration": 6,
    "start_time": "2023-05-05T09:16:34.298Z"
   },
   {
    "duration": 9,
    "start_time": "2023-05-05T09:16:34.306Z"
   },
   {
    "duration": 10,
    "start_time": "2023-05-05T09:16:34.317Z"
   },
   {
    "duration": 679,
    "start_time": "2023-05-05T09:16:34.329Z"
   },
   {
    "duration": 19,
    "start_time": "2023-05-05T09:16:35.011Z"
   },
   {
    "duration": 68,
    "start_time": "2023-05-05T09:16:35.031Z"
   },
   {
    "duration": 80,
    "start_time": "2023-05-05T09:16:35.100Z"
   },
   {
    "duration": 104,
    "start_time": "2023-05-05T09:16:35.181Z"
   },
   {
    "duration": 19,
    "start_time": "2023-05-05T09:16:35.287Z"
   },
   {
    "duration": 9,
    "start_time": "2023-05-05T09:16:35.308Z"
   },
   {
    "duration": 12,
    "start_time": "2023-05-05T09:16:35.319Z"
   },
   {
    "duration": 312,
    "start_time": "2023-05-05T09:16:35.333Z"
   },
   {
    "duration": 22,
    "start_time": "2023-05-05T09:16:35.647Z"
   },
   {
    "duration": 6,
    "start_time": "2023-05-05T09:16:35.671Z"
   },
   {
    "duration": 229,
    "start_time": "2023-05-05T09:16:35.678Z"
   },
   {
    "duration": 64,
    "start_time": "2023-05-05T09:16:35.909Z"
   },
   {
    "duration": 156,
    "start_time": "2023-05-05T09:16:35.975Z"
   },
   {
    "duration": 24,
    "start_time": "2023-05-05T09:16:36.132Z"
   },
   {
    "duration": 37,
    "start_time": "2023-05-05T09:16:36.157Z"
   },
   {
    "duration": 36,
    "start_time": "2023-05-05T09:16:36.196Z"
   },
   {
    "duration": 141,
    "start_time": "2023-05-05T09:16:36.234Z"
   },
   {
    "duration": 995,
    "start_time": "2023-05-05T09:16:36.376Z"
   },
   {
    "duration": 11,
    "start_time": "2023-05-05T09:16:37.374Z"
   },
   {
    "duration": 223,
    "start_time": "2023-05-05T09:16:37.387Z"
   },
   {
    "duration": 228,
    "start_time": "2023-05-05T09:16:37.612Z"
   },
   {
    "duration": 7,
    "start_time": "2023-05-05T09:16:37.842Z"
   },
   {
    "duration": 253,
    "start_time": "2023-05-05T09:16:37.851Z"
   },
   {
    "duration": 220,
    "start_time": "2023-05-05T09:16:38.106Z"
   },
   {
    "duration": 158,
    "start_time": "2023-05-05T09:16:38.328Z"
   },
   {
    "duration": 209,
    "start_time": "2023-05-05T09:16:38.488Z"
   },
   {
    "duration": 5,
    "start_time": "2023-05-05T09:16:38.698Z"
   },
   {
    "duration": 11,
    "start_time": "2023-05-05T09:16:38.705Z"
   },
   {
    "duration": 15,
    "start_time": "2023-05-05T09:16:38.718Z"
   },
   {
    "duration": 11,
    "start_time": "2023-05-05T09:16:38.755Z"
   },
   {
    "duration": 12,
    "start_time": "2023-05-05T09:16:38.767Z"
   },
   {
    "duration": 12,
    "start_time": "2023-05-05T09:16:38.780Z"
   },
   {
    "duration": 1195,
    "start_time": "2023-05-05T10:04:56.436Z"
   },
   {
    "duration": 4,
    "start_time": "2023-05-05T10:04:57.633Z"
   },
   {
    "duration": 4,
    "start_time": "2023-05-05T10:04:57.639Z"
   },
   {
    "duration": 33,
    "start_time": "2023-05-05T10:04:57.645Z"
   },
   {
    "duration": 5,
    "start_time": "2023-05-05T10:04:57.680Z"
   },
   {
    "duration": 9,
    "start_time": "2023-05-05T10:04:57.687Z"
   },
   {
    "duration": 13,
    "start_time": "2023-05-05T10:04:57.698Z"
   },
   {
    "duration": 6,
    "start_time": "2023-05-05T10:04:57.713Z"
   },
   {
    "duration": 396,
    "start_time": "2023-05-05T10:04:57.720Z"
   },
   {
    "duration": 28,
    "start_time": "2023-05-05T10:04:58.119Z"
   },
   {
    "duration": 91,
    "start_time": "2023-05-05T10:04:58.149Z"
   },
   {
    "duration": 80,
    "start_time": "2023-05-05T10:04:58.242Z"
   },
   {
    "duration": 126,
    "start_time": "2023-05-05T10:04:58.324Z"
   },
   {
    "duration": 20,
    "start_time": "2023-05-05T10:04:58.452Z"
   },
   {
    "duration": 25,
    "start_time": "2023-05-05T10:04:58.474Z"
   },
   {
    "duration": 10,
    "start_time": "2023-05-05T10:04:58.501Z"
   },
   {
    "duration": 349,
    "start_time": "2023-05-05T10:04:58.512Z"
   },
   {
    "duration": 31,
    "start_time": "2023-05-05T10:04:58.863Z"
   },
   {
    "duration": 7,
    "start_time": "2023-05-05T10:04:58.896Z"
   },
   {
    "duration": 242,
    "start_time": "2023-05-05T10:04:58.905Z"
   },
   {
    "duration": 67,
    "start_time": "2023-05-05T10:04:59.149Z"
   },
   {
    "duration": 183,
    "start_time": "2023-05-05T10:04:59.218Z"
   },
   {
    "duration": 21,
    "start_time": "2023-05-05T10:04:59.403Z"
   },
   {
    "duration": 39,
    "start_time": "2023-05-05T10:04:59.426Z"
   },
   {
    "duration": 60,
    "start_time": "2023-05-05T10:04:59.467Z"
   },
   {
    "duration": 159,
    "start_time": "2023-05-05T10:04:59.529Z"
   },
   {
    "duration": 1182,
    "start_time": "2023-05-05T10:04:59.690Z"
   },
   {
    "duration": 34,
    "start_time": "2023-05-05T10:05:00.876Z"
   },
   {
    "duration": 278,
    "start_time": "2023-05-05T10:05:00.913Z"
   },
   {
    "duration": 272,
    "start_time": "2023-05-05T10:05:01.194Z"
   },
   {
    "duration": 9,
    "start_time": "2023-05-05T10:05:01.468Z"
   },
   {
    "duration": 313,
    "start_time": "2023-05-05T10:05:01.494Z"
   },
   {
    "duration": 240,
    "start_time": "2023-05-05T10:05:01.809Z"
   },
   {
    "duration": 297,
    "start_time": "2023-05-05T10:05:02.050Z"
   },
   {
    "duration": 281,
    "start_time": "2023-05-05T10:05:02.349Z"
   },
   {
    "duration": 6,
    "start_time": "2023-05-05T10:05:02.632Z"
   },
   {
    "duration": 17,
    "start_time": "2023-05-05T10:05:02.640Z"
   },
   {
    "duration": 37,
    "start_time": "2023-05-05T10:05:02.659Z"
   },
   {
    "duration": 28,
    "start_time": "2023-05-05T10:05:02.698Z"
   },
   {
    "duration": 14,
    "start_time": "2023-05-05T10:05:02.728Z"
   },
   {
    "duration": 14,
    "start_time": "2023-05-05T10:05:02.744Z"
   },
   {
    "duration": 1262,
    "start_time": "2023-05-06T16:35:08.634Z"
   },
   {
    "duration": 2,
    "start_time": "2023-05-06T16:35:09.898Z"
   },
   {
    "duration": 6,
    "start_time": "2023-05-06T16:35:09.902Z"
   },
   {
    "duration": 9,
    "start_time": "2023-05-06T16:35:09.909Z"
   },
   {
    "duration": 5,
    "start_time": "2023-05-06T16:35:09.919Z"
   },
   {
    "duration": 5,
    "start_time": "2023-05-06T16:35:09.925Z"
   },
   {
    "duration": 43,
    "start_time": "2023-05-06T16:35:09.934Z"
   },
   {
    "duration": 477,
    "start_time": "2023-05-06T16:35:09.978Z"
   },
   {
    "duration": 31,
    "start_time": "2023-05-06T16:35:10.457Z"
   },
   {
    "duration": 120,
    "start_time": "2023-05-06T16:35:10.491Z"
   },
   {
    "duration": 71,
    "start_time": "2023-05-06T16:35:10.612Z"
   },
   {
    "duration": 136,
    "start_time": "2023-05-06T16:35:10.684Z"
   },
   {
    "duration": 29,
    "start_time": "2023-05-06T16:35:10.822Z"
   },
   {
    "duration": 31,
    "start_time": "2023-05-06T16:35:10.852Z"
   },
   {
    "duration": 9,
    "start_time": "2023-05-06T16:35:10.885Z"
   },
   {
    "duration": 6,
    "start_time": "2023-05-06T16:35:10.895Z"
   },
   {
    "duration": 428,
    "start_time": "2023-05-06T16:35:10.902Z"
   },
   {
    "duration": 36,
    "start_time": "2023-05-06T16:35:11.339Z"
   },
   {
    "duration": 249,
    "start_time": "2023-05-06T16:35:11.377Z"
   },
   {
    "duration": 71,
    "start_time": "2023-05-06T16:35:11.627Z"
   },
   {
    "duration": 183,
    "start_time": "2023-05-06T16:35:11.699Z"
   },
   {
    "duration": 19,
    "start_time": "2023-05-06T16:35:11.883Z"
   },
   {
    "duration": 56,
    "start_time": "2023-05-06T16:35:11.903Z"
   },
   {
    "duration": 44,
    "start_time": "2023-05-06T16:35:11.961Z"
   },
   {
    "duration": 155,
    "start_time": "2023-05-06T16:35:12.007Z"
   },
   {
    "duration": 1042,
    "start_time": "2023-05-06T16:35:12.163Z"
   },
   {
    "duration": 14,
    "start_time": "2023-05-06T16:35:13.207Z"
   },
   {
    "duration": 237,
    "start_time": "2023-05-06T16:35:13.235Z"
   },
   {
    "duration": 251,
    "start_time": "2023-05-06T16:35:13.474Z"
   },
   {
    "duration": 26,
    "start_time": "2023-05-06T16:35:13.727Z"
   },
   {
    "duration": 291,
    "start_time": "2023-05-06T16:35:13.758Z"
   },
   {
    "duration": 69,
    "start_time": "2023-05-06T16:35:14.051Z"
   },
   {
    "duration": 326,
    "start_time": "2023-05-06T16:35:14.122Z"
   },
   {
    "duration": 305,
    "start_time": "2023-05-06T16:35:14.450Z"
   },
   {
    "duration": 8,
    "start_time": "2023-05-06T16:35:14.760Z"
   },
   {
    "duration": 42,
    "start_time": "2023-05-06T16:35:14.771Z"
   },
   {
    "duration": 39,
    "start_time": "2023-05-06T16:35:14.814Z"
   },
   {
    "duration": 53,
    "start_time": "2023-05-06T16:35:14.854Z"
   },
   {
    "duration": 87,
    "start_time": "2023-05-06T16:35:14.909Z"
   },
   {
    "duration": 51,
    "start_time": "2023-05-06T16:35:14.997Z"
   }
  ],
  "kernelspec": {
   "display_name": "Python 3 (ipykernel)",
   "language": "python",
   "name": "python3"
  },
  "language_info": {
   "codemirror_mode": {
    "name": "ipython",
    "version": 3
   },
   "file_extension": ".py",
   "mimetype": "text/x-python",
   "name": "python",
   "nbconvert_exporter": "python",
   "pygments_lexer": "ipython3",
   "version": "3.11.3"
  },
  "toc": {
   "base_numbering": 1,
   "nav_menu": {},
   "number_sections": false,
   "sideBar": true,
   "skip_h1_title": false,
   "title_cell": "Table of Contents",
   "title_sidebar": "Contents",
   "toc_cell": false,
   "toc_position": {
    "height": "calc(100% - 180px)",
    "left": "10px",
    "top": "150px",
    "width": "165px"
   },
   "toc_section_display": true,
   "toc_window_display": true
  }
 },
 "nbformat": 4,
 "nbformat_minor": 2
}
