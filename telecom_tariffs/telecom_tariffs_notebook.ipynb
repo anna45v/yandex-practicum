{
 "cells": [
  {
   "cell_type": "markdown",
   "metadata": {},
   "source": [
    "# 0. Импорты и определения"
   ]
  },
  {
   "cell_type": "code",
   "execution_count": 1,
   "metadata": {},
   "outputs": [],
   "source": [
    "import pandas as pd\n",
    "import numpy as np\n",
    "from matplotlib import pyplot as plt\n",
    "import seaborn as sns"
   ]
  },
  {
   "cell_type": "code",
   "execution_count": 3,
   "metadata": {},
   "outputs": [],
   "source": [
    "# Функция для создания боксплотов с разбивкой по категориям\n",
    "\n",
    "def create_boxplots(df, x, y, order=None, title='', xlabel='', ylabel='', figsize=(14, 6)):\n",
    "    sns.set_style('darkgrid')\n",
    "    fig, ax = plt.subplots(figsize=figsize)\n",
    "    sns.boxplot(data=df, \n",
    "                x=x, \n",
    "                y=y,\n",
    "                order=order,\n",
    "                color=single_color,\n",
    "                ax=ax)\n",
    "    ax.set(title=title, \n",
    "           xlabel=xlabel, \n",
    "           ylabel=ylabel)\n",
    "    plt.show();"
   ]
  },
  {
   "cell_type": "code",
   "execution_count": 4,
   "metadata": {},
   "outputs": [],
   "source": [
    "# Функция для создания гистограммы\n",
    "\n",
    "def create_histplot(df, x, bins=10, discrete=False, title='', xlabel='', ylabel='', figsize=(14, 6)):\n",
    "    sns.set_style('darkgrid')\n",
    "    fig, ax = plt.subplots(figsize=figsize)\n",
    "    sns.histplot(data=df, \n",
    "                 x=x, \n",
    "                 bins=bins, \n",
    "                 discrete=discrete,\n",
    "                 color=single_color,\n",
    "                 ax=ax)\n",
    "    ax.set(title=title, \n",
    "           xlabel=xlabel, \n",
    "           ylabel=ylabel)\n",
    "    plt.show();"
   ]
  },
  {
   "cell_type": "code",
   "execution_count": 5,
   "metadata": {},
   "outputs": [],
   "source": [
    "# Функция для создания барчарта\n",
    "\n",
    "def create_barchart(df, x, y, xlabel, ylabel, title, vline_x=0, figsize=(14, 6)): \n",
    "    sns.set_style('darkgrid')\n",
    "    fig, ax = plt.subplots(figsize=figsize)\n",
    "    sns.barplot(data=df, \n",
    "                x=x, \n",
    "                y=y,\n",
    "                color=single_color,\n",
    "                ax=ax)\n",
    "    ax.set(title=title, \n",
    "           xlabel=xlabel, \n",
    "           ylabel=ylabel)\n",
    "    if vline_x != 0:       \n",
    "        plt.axvline(x=vline_x, \n",
    "                    color = 'darkgrey', \n",
    "                    linewidth=2, \n",
    "                    linestyle='dotted')\n",
    "    plt.show();"
   ]
  },
  {
   "cell_type": "code",
   "execution_count": 6,
   "metadata": {},
   "outputs": [],
   "source": [
    "# Функция для расчета затрат клиентов\n",
    "\n",
    "def calculate_cost(calls_df, tariff_details):\n",
    "\n",
    "    # Считаем количество операторов у клиента в каждом месяце\n",
    "    operators_stat = (\n",
    "        calls_df.groupby(['user_id', 'month'],\n",
    "                     as_index=False)\n",
    "        .agg({'operator_id': pd.Series.nunique})\n",
    "        .rename(columns={'operator_id': 'operator_count'})\n",
    "    )\n",
    "    \n",
    "    # Считаем продолжительность звонков\n",
    "    calls_stat = (\n",
    "        calls_df.groupby(['tariff_plan',\n",
    "                          'user_id',\n",
    "                          'month',\n",
    "                          'direction',\n",
    "                          'internal'],\n",
    "                         as_index=False)\n",
    "        .agg({'total_call_duration_min': 'sum'})\n",
    "    )\n",
    "    \n",
    "    merged_df = operators_stat.merge(calls_stat, \n",
    "                                     on=['user_id', 'month'], \n",
    "                                     how='left')\n",
    "    # Количество минут сверх лимита\n",
    "    merged_df['over_limit_minutes'] = (\n",
    "        merged_df.loc[(merged_df['direction']=='out')\n",
    "                      & (merged_df['internal']==True),\n",
    "                      'total_call_duration_min'] -\n",
    "        tariff_details['outgoing_internal_limit']\n",
    "    )\n",
    "    \n",
    "    # Все, что меньше или равно 0 заменим на 0\n",
    "    merged_df.loc[(merged_df['over_limit_minutes']<=0)\n",
    "                  | (merged_df['over_limit_minutes'].isna()), \n",
    "                 'over_limit_minutes'] = 0\n",
    "    \n",
    "    # Плата за исходящие внутренние сверх лимита\n",
    "    merged_df['over_limit_cost'] = (\n",
    "        merged_df['over_limit_minutes'] * \n",
    "        tariff_details['outgoing_internal_price']\n",
    "    )\n",
    "    \n",
    "    # Плата за исходящие внешние\n",
    "    \n",
    "    merged_df['outgoing_external_cost'] = (\n",
    "        merged_df.loc[(merged_df['direction']=='out')\n",
    "                      & (merged_df['internal']==False),\n",
    "                      'total_call_duration_min'] *  \n",
    "        tariff_details['outgoing_external_price']\n",
    "    )\n",
    "    \n",
    "    # Все, что меньше или равно 0 заменим на 0\n",
    "    merged_df.loc[(merged_df['outgoing_external_cost']<=0)\n",
    "                  | (merged_df['outgoing_external_cost'].isna()), \n",
    "                 'outgoing_external_cost'] = 0\n",
    "    \n",
    "    # Плата за операторов\n",
    "    merged_df['operators_cost'] = (\n",
    "        merged_df['operator_count'] * tariff_details['operator_price']\n",
    "    )\n",
    "    \n",
    "    # Ежемесячная плата\n",
    "    merged_df['month_cost'] = tariff_details['price_month']\n",
    "    \n",
    "    # Результирующий датафрейм\n",
    "    result_df = (\n",
    "        merged_df.groupby(['user_id',\n",
    "                           'month'],\n",
    "                          as_index=False)\n",
    "        .agg({'over_limit_cost': 'max',\n",
    "              'outgoing_external_cost': 'max',\n",
    "              'operators_cost': 'max',\n",
    "              'month_cost': 'max'})\n",
    "    )\n",
    "    \n",
    "    #Полная стоимость\n",
    "    result_df['total_cost'] = (\n",
    "        result_df[['over_limit_cost',\n",
    "                   'outgoing_external_cost',\n",
    "                   'operators_cost',\n",
    "                   'month_cost']].sum(axis=1)\n",
    "        .astype(float)\n",
    "    )\n",
    "    \n",
    "    result_df['tariff_plan'] = tariff_details['tariff_plan']\n",
    "    \n",
    "    return result_df"
   ]
  },
  {
   "cell_type": "code",
   "execution_count": 7,
   "metadata": {},
   "outputs": [],
   "source": [
    "# Функция для подсчета статистики в разрезе измерений\n",
    "\n",
    "def get_stat(df, dimensions, values, aggfunc):\n",
    "    return df.groupby(by=dimensions, as_index=False).agg({values: aggfunc})"
   ]
  },
  {
   "cell_type": "code",
   "execution_count": 8,
   "metadata": {},
   "outputs": [],
   "source": [
    "single_color = '#1f78b4'\n",
    "sns.set_style('darkgrid')"
   ]
  },
  {
   "cell_type": "markdown",
   "metadata": {},
   "source": [
    "# 1. Загрузка и предобработка данных\n",
    "На этом этапе проекта выполним следующие шаги:\n",
    "- загрузим имеющиеся данные и изучим основную информацию о датасетах\n",
    "- проверим наличие пропусков и определим стратегию их обработки\n",
    "- проверим корректность типов данных\n",
    "- проверим наличие дубликатов\n",
    "- проверим наличие аномалий и определим стратегию их обработки\n",
    "\n",
    "## 1.1. Загрузка данных и основная информация"
   ]
  },
  {
   "cell_type": "code",
   "execution_count": 9,
   "metadata": {},
   "outputs": [],
   "source": [
    "calls_raw = pd.read_csv()\n",
    "clients_raw = pd.read_csv()"
   ]
  },
  {
   "cell_type": "code",
   "execution_count": 10,
   "metadata": {},
   "outputs": [
    {
     "name": "stdout",
     "output_type": "stream",
     "text": [
      "<class 'pandas.core.frame.DataFrame'>\n",
      "RangeIndex: 53902 entries, 0 to 53901\n",
      "Data columns (total 9 columns):\n",
      " #   Column               Non-Null Count  Dtype  \n",
      "---  ------               --------------  -----  \n",
      " 0   user_id              53902 non-null  int64  \n",
      " 1   date                 53902 non-null  object \n",
      " 2   direction            53902 non-null  object \n",
      " 3   internal             53785 non-null  object \n",
      " 4   operator_id          45730 non-null  float64\n",
      " 5   is_missed_call       53902 non-null  bool   \n",
      " 6   calls_count          53902 non-null  int64  \n",
      " 7   call_duration        53902 non-null  int64  \n",
      " 8   total_call_duration  53902 non-null  int64  \n",
      "dtypes: bool(1), float64(1), int64(4), object(3)\n",
      "memory usage: 3.3+ MB\n"
     ]
    }
   ],
   "source": [
    "calls_raw.info()"
   ]
  },
  {
   "cell_type": "code",
   "execution_count": 11,
   "metadata": {},
   "outputs": [
    {
     "data": {
      "text/html": [
       "<div>\n",
       "<style scoped>\n",
       "    .dataframe tbody tr th:only-of-type {\n",
       "        vertical-align: middle;\n",
       "    }\n",
       "\n",
       "    .dataframe tbody tr th {\n",
       "        vertical-align: top;\n",
       "    }\n",
       "\n",
       "    .dataframe thead th {\n",
       "        text-align: right;\n",
       "    }\n",
       "</style>\n",
       "<table border=\"1\" class=\"dataframe\">\n",
       "  <thead>\n",
       "    <tr style=\"text-align: right;\">\n",
       "      <th></th>\n",
       "      <th>user_id</th>\n",
       "      <th>date</th>\n",
       "      <th>direction</th>\n",
       "      <th>internal</th>\n",
       "      <th>operator_id</th>\n",
       "      <th>is_missed_call</th>\n",
       "      <th>calls_count</th>\n",
       "      <th>call_duration</th>\n",
       "      <th>total_call_duration</th>\n",
       "    </tr>\n",
       "  </thead>\n",
       "  <tbody>\n",
       "    <tr>\n",
       "      <th>0</th>\n",
       "      <td>166377</td>\n",
       "      <td>2019-08-04 00:00:00+03:00</td>\n",
       "      <td>in</td>\n",
       "      <td>False</td>\n",
       "      <td>NaN</td>\n",
       "      <td>True</td>\n",
       "      <td>2</td>\n",
       "      <td>0</td>\n",
       "      <td>4</td>\n",
       "    </tr>\n",
       "    <tr>\n",
       "      <th>1</th>\n",
       "      <td>166377</td>\n",
       "      <td>2019-08-05 00:00:00+03:00</td>\n",
       "      <td>out</td>\n",
       "      <td>True</td>\n",
       "      <td>880022.0</td>\n",
       "      <td>True</td>\n",
       "      <td>3</td>\n",
       "      <td>0</td>\n",
       "      <td>5</td>\n",
       "    </tr>\n",
       "    <tr>\n",
       "      <th>2</th>\n",
       "      <td>166377</td>\n",
       "      <td>2019-08-05 00:00:00+03:00</td>\n",
       "      <td>out</td>\n",
       "      <td>True</td>\n",
       "      <td>880020.0</td>\n",
       "      <td>True</td>\n",
       "      <td>1</td>\n",
       "      <td>0</td>\n",
       "      <td>1</td>\n",
       "    </tr>\n",
       "    <tr>\n",
       "      <th>3</th>\n",
       "      <td>166377</td>\n",
       "      <td>2019-08-05 00:00:00+03:00</td>\n",
       "      <td>out</td>\n",
       "      <td>True</td>\n",
       "      <td>880020.0</td>\n",
       "      <td>False</td>\n",
       "      <td>1</td>\n",
       "      <td>10</td>\n",
       "      <td>18</td>\n",
       "    </tr>\n",
       "    <tr>\n",
       "      <th>4</th>\n",
       "      <td>166377</td>\n",
       "      <td>2019-08-05 00:00:00+03:00</td>\n",
       "      <td>out</td>\n",
       "      <td>False</td>\n",
       "      <td>880022.0</td>\n",
       "      <td>True</td>\n",
       "      <td>3</td>\n",
       "      <td>0</td>\n",
       "      <td>25</td>\n",
       "    </tr>\n",
       "  </tbody>\n",
       "</table>\n",
       "</div>"
      ],
      "text/plain": [
       "   user_id                       date direction internal  operator_id   \n",
       "0   166377  2019-08-04 00:00:00+03:00        in    False          NaN  \\\n",
       "1   166377  2019-08-05 00:00:00+03:00       out     True     880022.0   \n",
       "2   166377  2019-08-05 00:00:00+03:00       out     True     880020.0   \n",
       "3   166377  2019-08-05 00:00:00+03:00       out     True     880020.0   \n",
       "4   166377  2019-08-05 00:00:00+03:00       out    False     880022.0   \n",
       "\n",
       "   is_missed_call  calls_count  call_duration  total_call_duration  \n",
       "0            True            2              0                    4  \n",
       "1            True            3              0                    5  \n",
       "2            True            1              0                    1  \n",
       "3           False            1             10                   18  \n",
       "4            True            3              0                   25  "
      ]
     },
     "execution_count": 11,
     "metadata": {},
     "output_type": "execute_result"
    }
   ],
   "source": [
    "calls_raw.head()"
   ]
  },
  {
   "cell_type": "markdown",
   "metadata": {},
   "source": [
    "Датасет с данными о звонках содержит 53902 записи. \n",
    "\n",
    "В столбцах `internal` и `operator_id` есть пропуски. \n",
    "\n",
    "Есть проблемы с типами данных:\n",
    "- столбец `date` имеет тип object, хотя хранит в себе дату\n",
    "- столбец `internal` имеет тип object, хотя хранит в себе булевы значения\n",
    "- столбец `operator_id` имеет тип float, хотя хранит в себе идентификаторы типа int"
   ]
  },
  {
   "cell_type": "code",
   "execution_count": 12,
   "metadata": {},
   "outputs": [
    {
     "name": "stdout",
     "output_type": "stream",
     "text": [
      "<class 'pandas.core.frame.DataFrame'>\n",
      "RangeIndex: 732 entries, 0 to 731\n",
      "Data columns (total 3 columns):\n",
      " #   Column       Non-Null Count  Dtype \n",
      "---  ------       --------------  ----- \n",
      " 0   user_id      732 non-null    int64 \n",
      " 1   tariff_plan  732 non-null    object\n",
      " 2   date_start   732 non-null    object\n",
      "dtypes: int64(1), object(2)\n",
      "memory usage: 17.3+ KB\n"
     ]
    }
   ],
   "source": [
    "clients_raw.info()"
   ]
  },
  {
   "cell_type": "code",
   "execution_count": 13,
   "metadata": {},
   "outputs": [
    {
     "data": {
      "text/html": [
       "<div>\n",
       "<style scoped>\n",
       "    .dataframe tbody tr th:only-of-type {\n",
       "        vertical-align: middle;\n",
       "    }\n",
       "\n",
       "    .dataframe tbody tr th {\n",
       "        vertical-align: top;\n",
       "    }\n",
       "\n",
       "    .dataframe thead th {\n",
       "        text-align: right;\n",
       "    }\n",
       "</style>\n",
       "<table border=\"1\" class=\"dataframe\">\n",
       "  <thead>\n",
       "    <tr style=\"text-align: right;\">\n",
       "      <th></th>\n",
       "      <th>user_id</th>\n",
       "      <th>tariff_plan</th>\n",
       "      <th>date_start</th>\n",
       "    </tr>\n",
       "  </thead>\n",
       "  <tbody>\n",
       "    <tr>\n",
       "      <th>0</th>\n",
       "      <td>166713</td>\n",
       "      <td>A</td>\n",
       "      <td>2019-08-15</td>\n",
       "    </tr>\n",
       "    <tr>\n",
       "      <th>1</th>\n",
       "      <td>166901</td>\n",
       "      <td>A</td>\n",
       "      <td>2019-08-23</td>\n",
       "    </tr>\n",
       "    <tr>\n",
       "      <th>2</th>\n",
       "      <td>168527</td>\n",
       "      <td>A</td>\n",
       "      <td>2019-10-29</td>\n",
       "    </tr>\n",
       "    <tr>\n",
       "      <th>3</th>\n",
       "      <td>167097</td>\n",
       "      <td>A</td>\n",
       "      <td>2019-09-01</td>\n",
       "    </tr>\n",
       "    <tr>\n",
       "      <th>4</th>\n",
       "      <td>168193</td>\n",
       "      <td>A</td>\n",
       "      <td>2019-10-16</td>\n",
       "    </tr>\n",
       "  </tbody>\n",
       "</table>\n",
       "</div>"
      ],
      "text/plain": [
       "   user_id tariff_plan  date_start\n",
       "0   166713           A  2019-08-15\n",
       "1   166901           A  2019-08-23\n",
       "2   168527           A  2019-10-29\n",
       "3   167097           A  2019-09-01\n",
       "4   168193           A  2019-10-16"
      ]
     },
     "execution_count": 13,
     "metadata": {},
     "output_type": "execute_result"
    }
   ],
   "source": [
    "clients_raw.head()"
   ]
  },
  {
   "cell_type": "markdown",
   "metadata": {},
   "source": [
    "Датасет с данными о клиентах содержит 732 записи. \n",
    "\n",
    "Пропусков нет. \n",
    "\n",
    "Есть проблемы с типами данных: столбец `date_start` имеет тип object, хотя хранит в себе дату. "
   ]
  },
  {
   "cell_type": "markdown",
   "metadata": {},
   "source": [
    "## 1.2. Обработка пропусков\n",
    "\n",
    "Выведем количество пропусков в столбцах `internal` и `operator_id` в процентном отношении."
   ]
  },
  {
   "cell_type": "code",
   "execution_count": 14,
   "metadata": {},
   "outputs": [
    {
     "data": {
      "text/plain": [
       "internal        0.22\n",
       "operator_id    15.16\n",
       "dtype: float64"
      ]
     },
     "execution_count": 14,
     "metadata": {},
     "output_type": "execute_result"
    }
   ],
   "source": [
    "round(100 * calls_raw[['internal', 'operator_id']].isna().mean(), 2)"
   ]
  },
  {
   "cell_type": "markdown",
   "metadata": {},
   "source": [
    "Доля пропусков в столбце `internal` составляет 0.22% от всех записей, а доля пропусков в `operator_id` равна 15.16% от всех записей.\n",
    "\n",
    "Учитывая специфику задачи, а именно то, что нам необходимо рассчитать затраты клиентов, и в этих расчетах нам необходимы столбцы `internal` и `operator_id`, мы не можем удалять строки с пропусками. Заполнять эти пропуски тоже не будем: восстановить корректные значения по другим столбцам сложно и может привести к ошибкам в последующих расчетах."
   ]
  },
  {
   "cell_type": "markdown",
   "metadata": {},
   "source": [
    "## 1.3. Корректировка типов данных"
   ]
  },
  {
   "cell_type": "code",
   "execution_count": 15,
   "metadata": {},
   "outputs": [],
   "source": [
    "calls = calls_raw.copy()\n",
    "clients = clients_raw.copy()"
   ]
  },
  {
   "cell_type": "code",
   "execution_count": 16,
   "metadata": {},
   "outputs": [],
   "source": [
    "calls['date'] = pd.to_datetime(calls['date']).dt.date.astype('datetime64[ns]')\n",
    "calls['internal'] = calls['internal'].astype('boolean')\n",
    "calls['operator_id'] = calls['operator_id'].astype('Int64')\n",
    "\n",
    "clients['date_start'] = pd.to_datetime(clients['date_start'])"
   ]
  },
  {
   "cell_type": "markdown",
   "metadata": {},
   "source": [
    "## 1.4. Обработка дубликатов\n",
    "\n",
    "Проверим на наличие полных дубликатов."
   ]
  },
  {
   "cell_type": "code",
   "execution_count": 18,
   "metadata": {},
   "outputs": [
    {
     "data": {
      "text/plain": [
       "sum     4900.000000\n",
       "mean       0.090906\n",
       "dtype: float64"
      ]
     },
     "execution_count": 18,
     "metadata": {},
     "output_type": "execute_result"
    }
   ],
   "source": [
    "calls.duplicated().agg(['sum','mean'])"
   ]
  },
  {
   "cell_type": "markdown",
   "metadata": {},
   "source": [
    "В датасете нашлось 4900 дублированных строк, это 9.09% всех данных. Дубликаты приведут к неправильным результатам расчетов, нам необходимо их удалить."
   ]
  },
  {
   "cell_type": "code",
   "execution_count": 19,
   "metadata": {},
   "outputs": [
    {
     "name": "stdout",
     "output_type": "stream",
     "text": [
      "<class 'pandas.core.frame.DataFrame'>\n",
      "RangeIndex: 49002 entries, 0 to 49001\n",
      "Data columns (total 9 columns):\n",
      " #   Column               Non-Null Count  Dtype         \n",
      "---  ------               --------------  -----         \n",
      " 0   user_id              49002 non-null  int64         \n",
      " 1   date                 49002 non-null  datetime64[ns]\n",
      " 2   direction            49002 non-null  object        \n",
      " 3   internal             48892 non-null  boolean       \n",
      " 4   operator_id          41546 non-null  Int64         \n",
      " 5   is_missed_call       49002 non-null  bool          \n",
      " 6   calls_count          49002 non-null  int64         \n",
      " 7   call_duration        49002 non-null  int64         \n",
      " 8   total_call_duration  49002 non-null  int64         \n",
      "dtypes: Int64(1), bool(1), boolean(1), datetime64[ns](1), int64(4), object(1)\n",
      "memory usage: 2.8+ MB\n"
     ]
    }
   ],
   "source": [
    "calls = calls.drop_duplicates().reset_index(drop=True)\n",
    "calls.info()"
   ]
  },
  {
   "cell_type": "markdown",
   "metadata": {},
   "source": [
    "После удаления дубликатов в датасете осталось 49002 записи."
   ]
  },
  {
   "cell_type": "code",
   "execution_count": 20,
   "metadata": {},
   "outputs": [
    {
     "data": {
      "text/html": [
       "<div>\n",
       "<style scoped>\n",
       "    .dataframe tbody tr th:only-of-type {\n",
       "        vertical-align: middle;\n",
       "    }\n",
       "\n",
       "    .dataframe tbody tr th {\n",
       "        vertical-align: top;\n",
       "    }\n",
       "\n",
       "    .dataframe thead th {\n",
       "        text-align: right;\n",
       "    }\n",
       "</style>\n",
       "<table border=\"1\" class=\"dataframe\">\n",
       "  <thead>\n",
       "    <tr style=\"text-align: right;\">\n",
       "      <th></th>\n",
       "      <th>user_id</th>\n",
       "      <th>tariff_plan</th>\n",
       "      <th>date_start</th>\n",
       "    </tr>\n",
       "  </thead>\n",
       "  <tbody>\n",
       "  </tbody>\n",
       "</table>\n",
       "</div>"
      ],
      "text/plain": [
       "Empty DataFrame\n",
       "Columns: [user_id, tariff_plan, date_start]\n",
       "Index: []"
      ]
     },
     "execution_count": 20,
     "metadata": {},
     "output_type": "execute_result"
    }
   ],
   "source": [
    "clients[clients.duplicated()]"
   ]
  },
  {
   "cell_type": "markdown",
   "metadata": {},
   "source": [
    "В датасете с данными о клиентах дубликатов нет."
   ]
  },
  {
   "cell_type": "markdown",
   "metadata": {},
   "source": [
    "## 1.5. Проверка на наличие аномалий в данных\n",
    "\n",
    "На этом этапе мы проверим, что данные согласуются со здравым смыслом и предметной областью:\n",
    "\n",
    "- проверим, что даты звонков согласуются с датами регистрации клиентов\n",
    "- проверим, что нет клиентов без операторов\n",
    "- что длительность звонков с учетом времени ожидания не меньше длительности звонка\n",
    "- проверим, что за сутки отдельный оператор не наговаривает больше 24 часов (учитываем, что `operator_id` - это необязательно физический отдельный человек, а просто рабочее место, на котором могут работать разные люди). \n",
    "\n",
    "### 1.5.1. Клиенты и даты регистрации\n",
    "\n",
    "Найдем для каждого клиента разницу между датой регистрации и датой первого звонка.\n",
    "\n",
    "Предвариательно объединим датафреймы в один, чтобы иметь в нем всю нужную для расчетов информацию."
   ]
  },
  {
   "cell_type": "code",
   "execution_count": 21,
   "metadata": {},
   "outputs": [],
   "source": [
    "data = calls.merge(clients, on='user_id', how='left')"
   ]
  },
  {
   "cell_type": "code",
   "execution_count": 22,
   "metadata": {},
   "outputs": [
    {
     "data": {
      "text/plain": [
       "Timedelta('0 days 00:00:00')"
      ]
     },
     "execution_count": 22,
     "metadata": {},
     "output_type": "execute_result"
    }
   ],
   "source": [
    "dates_check_df = (\n",
    "    data.groupby(['user_id', 'date_start'],\n",
    "                 as_index=False)['date']\n",
    "    .min()\n",
    "    .assign(date_diff=lambda x: x['date']-x['date_start'])\n",
    ")\n",
    "\n",
    "dates_check_df['date_diff'].min()"
   ]
  },
  {
   "cell_type": "markdown",
   "metadata": {},
   "source": [
    "Минимальная разница между датой регистрациии и датой звонка равна 0 дней, т.е. клиент начал пользоваться услугами сразу в день регистрации. Аномалий в датах не обнаружено."
   ]
  },
  {
   "cell_type": "markdown",
   "metadata": {},
   "source": [
    "### 1.5.2. Клиенты без операторов\n",
    "\n",
    "Подсчитаем количество операторов у каждого клиента и выделим тех, у кого это количество равно нулю."
   ]
  },
  {
   "cell_type": "code",
   "execution_count": 23,
   "metadata": {},
   "outputs": [],
   "source": [
    "operator_stat = (\n",
    "    data.groupby(['user_id'], as_index=False)['operator_id']\n",
    "    .nunique()\n",
    "    .rename(columns={'operator_id': 'operator_count'})\n",
    ")"
   ]
  },
  {
   "cell_type": "code",
   "execution_count": 24,
   "metadata": {},
   "outputs": [
    {
     "data": {
      "text/plain": [
       "17"
      ]
     },
     "execution_count": 24,
     "metadata": {},
     "output_type": "execute_result"
    }
   ],
   "source": [
    "users_wo_operators = operator_stat.loc[operator_stat['operator_count']==0, 'user_id']\n",
    "users_wo_operators.shape[0]"
   ]
  },
  {
   "cell_type": "markdown",
   "metadata": {},
   "source": [
    "Обнаружилось 17 клиентов без операторов. Посмотрим на их данные по звонкам."
   ]
  },
  {
   "cell_type": "code",
   "execution_count": 25,
   "metadata": {},
   "outputs": [
    {
     "data": {
      "text/html": [
       "<div>\n",
       "<style scoped>\n",
       "    .dataframe tbody tr th:only-of-type {\n",
       "        vertical-align: middle;\n",
       "    }\n",
       "\n",
       "    .dataframe tbody tr th {\n",
       "        vertical-align: top;\n",
       "    }\n",
       "\n",
       "    .dataframe thead th {\n",
       "        text-align: right;\n",
       "    }\n",
       "</style>\n",
       "<table border=\"1\" class=\"dataframe\">\n",
       "  <thead>\n",
       "    <tr style=\"text-align: right;\">\n",
       "      <th></th>\n",
       "      <th>user_id</th>\n",
       "      <th>date</th>\n",
       "      <th>direction</th>\n",
       "      <th>internal</th>\n",
       "      <th>operator_id</th>\n",
       "      <th>is_missed_call</th>\n",
       "      <th>calls_count</th>\n",
       "      <th>call_duration</th>\n",
       "      <th>total_call_duration</th>\n",
       "      <th>tariff_plan</th>\n",
       "      <th>date_start</th>\n",
       "    </tr>\n",
       "  </thead>\n",
       "  <tbody>\n",
       "    <tr>\n",
       "      <th>5973</th>\n",
       "      <td>166554</td>\n",
       "      <td>2019-08-09</td>\n",
       "      <td>in</td>\n",
       "      <td>True</td>\n",
       "      <td>&lt;NA&gt;</td>\n",
       "      <td>True</td>\n",
       "      <td>2</td>\n",
       "      <td>0</td>\n",
       "      <td>8</td>\n",
       "      <td>B</td>\n",
       "      <td>2019-08-08</td>\n",
       "    </tr>\n",
       "    <tr>\n",
       "      <th>6694</th>\n",
       "      <td>166584</td>\n",
       "      <td>2019-08-16</td>\n",
       "      <td>in</td>\n",
       "      <td>False</td>\n",
       "      <td>&lt;NA&gt;</td>\n",
       "      <td>True</td>\n",
       "      <td>2</td>\n",
       "      <td>0</td>\n",
       "      <td>4</td>\n",
       "      <td>C</td>\n",
       "      <td>2019-08-09</td>\n",
       "    </tr>\n",
       "    <tr>\n",
       "      <th>20924</th>\n",
       "      <td>167077</td>\n",
       "      <td>2019-09-06</td>\n",
       "      <td>in</td>\n",
       "      <td>False</td>\n",
       "      <td>&lt;NA&gt;</td>\n",
       "      <td>True</td>\n",
       "      <td>1</td>\n",
       "      <td>0</td>\n",
       "      <td>2</td>\n",
       "      <td>B</td>\n",
       "      <td>2019-08-30</td>\n",
       "    </tr>\n",
       "    <tr>\n",
       "      <th>20925</th>\n",
       "      <td>167077</td>\n",
       "      <td>2019-09-07</td>\n",
       "      <td>in</td>\n",
       "      <td>False</td>\n",
       "      <td>&lt;NA&gt;</td>\n",
       "      <td>True</td>\n",
       "      <td>1</td>\n",
       "      <td>0</td>\n",
       "      <td>1</td>\n",
       "      <td>B</td>\n",
       "      <td>2019-08-30</td>\n",
       "    </tr>\n",
       "    <tr>\n",
       "      <th>20926</th>\n",
       "      <td>167077</td>\n",
       "      <td>2019-09-09</td>\n",
       "      <td>in</td>\n",
       "      <td>False</td>\n",
       "      <td>&lt;NA&gt;</td>\n",
       "      <td>True</td>\n",
       "      <td>1</td>\n",
       "      <td>0</td>\n",
       "      <td>2</td>\n",
       "      <td>B</td>\n",
       "      <td>2019-08-30</td>\n",
       "    </tr>\n",
       "  </tbody>\n",
       "</table>\n",
       "</div>"
      ],
      "text/plain": [
       "       user_id       date direction  internal  operator_id  is_missed_call   \n",
       "5973    166554 2019-08-09        in      True         <NA>            True  \\\n",
       "6694    166584 2019-08-16        in     False         <NA>            True   \n",
       "20924   167077 2019-09-06        in     False         <NA>            True   \n",
       "20925   167077 2019-09-07        in     False         <NA>            True   \n",
       "20926   167077 2019-09-09        in     False         <NA>            True   \n",
       "\n",
       "       calls_count  call_duration  total_call_duration tariff_plan date_start  \n",
       "5973             2              0                    8           B 2019-08-08  \n",
       "6694             2              0                    4           C 2019-08-09  \n",
       "20924            1              0                    2           B 2019-08-30  \n",
       "20925            1              0                    1           B 2019-08-30  \n",
       "20926            1              0                    2           B 2019-08-30  "
      ]
     },
     "execution_count": 25,
     "metadata": {},
     "output_type": "execute_result"
    }
   ],
   "source": [
    "data.loc[data['user_id'].isin(users_wo_operators)].head()"
   ]
  },
  {
   "cell_type": "code",
   "execution_count": 26,
   "metadata": {},
   "outputs": [
    {
     "data": {
      "text/plain": [
       "0"
      ]
     },
     "execution_count": 26,
     "metadata": {},
     "output_type": "execute_result"
    }
   ],
   "source": [
    "data.loc[data['user_id'].isin(users_wo_operators), 'call_duration'].max()"
   ]
  },
  {
   "cell_type": "code",
   "execution_count": 27,
   "metadata": {},
   "outputs": [
    {
     "data": {
      "text/plain": [
       "array([ True])"
      ]
     },
     "execution_count": 27,
     "metadata": {},
     "output_type": "execute_result"
    }
   ],
   "source": [
    "data.loc[data['user_id'].isin(users_wo_operators), 'is_missed_call'].unique()"
   ]
  },
  {
   "cell_type": "markdown",
   "metadata": {},
   "source": [
    "Очевидно, что клиенты без операторов не отвечают на звонки, и для них `call_duration` будет равна нулю, а признак `is_missed_call` всегда True. \n",
    "\n",
    "Отсутствие операторов и отвеченных звонков будем считать одним из признаков неактивного клиента. Эти клиенты не удаляются, в расчете выручки они будут учитываться как неактивные. То есть, выручка с них посчитается, но они не попадут в список тех, кому мы будем оптимизировать тариф."
   ]
  },
  {
   "cell_type": "markdown",
   "metadata": {},
   "source": [
    "### 1.5.3. Если `call_duration` больше 0, то звонок засчитан в `calls_count`\n",
    "\n",
    "Проверим, что нет случаев, когда звонок есть (судя по `call_duration`, а в `calls_count` его не засчитали)."
   ]
  },
  {
   "cell_type": "code",
   "execution_count": 28,
   "metadata": {},
   "outputs": [
    {
     "data": {
      "text/plain": [
       "1"
      ]
     },
     "execution_count": 28,
     "metadata": {},
     "output_type": "execute_result"
    }
   ],
   "source": [
    "data.loc[data['call_duration'] > 0, 'calls_count'].min()"
   ]
  },
  {
   "cell_type": "markdown",
   "metadata": {},
   "source": [
    "Минимальное количество засчитанных звонков равно 1. Это верно."
   ]
  },
  {
   "cell_type": "markdown",
   "metadata": {},
   "source": [
    "### 1.5.4. Длительность звонков меньше, чем длительность со временем ожидания"
   ]
  },
  {
   "cell_type": "code",
   "execution_count": 29,
   "metadata": {},
   "outputs": [
    {
     "data": {
      "text/html": [
       "<div>\n",
       "<style scoped>\n",
       "    .dataframe tbody tr th:only-of-type {\n",
       "        vertical-align: middle;\n",
       "    }\n",
       "\n",
       "    .dataframe tbody tr th {\n",
       "        vertical-align: top;\n",
       "    }\n",
       "\n",
       "    .dataframe thead th {\n",
       "        text-align: right;\n",
       "    }\n",
       "</style>\n",
       "<table border=\"1\" class=\"dataframe\">\n",
       "  <thead>\n",
       "    <tr style=\"text-align: right;\">\n",
       "      <th></th>\n",
       "      <th>user_id</th>\n",
       "      <th>date</th>\n",
       "      <th>direction</th>\n",
       "      <th>internal</th>\n",
       "      <th>operator_id</th>\n",
       "      <th>is_missed_call</th>\n",
       "      <th>calls_count</th>\n",
       "      <th>call_duration</th>\n",
       "      <th>total_call_duration</th>\n",
       "      <th>tariff_plan</th>\n",
       "      <th>date_start</th>\n",
       "    </tr>\n",
       "  </thead>\n",
       "  <tbody>\n",
       "  </tbody>\n",
       "</table>\n",
       "</div>"
      ],
      "text/plain": [
       "Empty DataFrame\n",
       "Columns: [user_id, date, direction, internal, operator_id, is_missed_call, calls_count, call_duration, total_call_duration, tariff_plan, date_start]\n",
       "Index: []"
      ]
     },
     "execution_count": 29,
     "metadata": {},
     "output_type": "execute_result"
    }
   ],
   "source": [
    "data[data['total_call_duration'] < data['call_duration']]"
   ]
  },
  {
   "cell_type": "markdown",
   "metadata": {},
   "source": [
    "Здесь все верно."
   ]
  },
  {
   "cell_type": "markdown",
   "metadata": {},
   "source": [
    "### 1.5.5.  Длительность звонков одного оператора не превышает 1440 минут в день\n",
    "\n",
    "Рассчитаем длительность звонков в минутах и проверим, что для одного оператора суммарная дневная длительность не превышает 24\\*60 минут."
   ]
  },
  {
   "cell_type": "code",
   "execution_count": 30,
   "metadata": {},
   "outputs": [],
   "source": [
    "data['call_duration_min'] = data['call_duration'] / 60\n",
    "data['total_call_duration_min'] = data['total_call_duration'] / 60\n",
    "\n",
    "data.rename(columns={'call_duration': 'call_duration_sec', \n",
    "                     'total_call_duration': 'total_call_duration_sec'},\n",
    "           inplace=True)"
   ]
  },
  {
   "cell_type": "code",
   "execution_count": 31,
   "metadata": {},
   "outputs": [],
   "source": [
    "operator_calls_duration = (\n",
    "    data.groupby(['operator_id', 'date'], \n",
    "             as_index=False)\n",
    "    .agg({'call_duration_min': 'sum',\n",
    "          'total_call_duration_min': 'sum'})\n",
    ")"
   ]
  },
  {
   "cell_type": "code",
   "execution_count": 32,
   "metadata": {},
   "outputs": [
    {
     "data": {
      "text/html": [
       "<div>\n",
       "<style scoped>\n",
       "    .dataframe tbody tr th:only-of-type {\n",
       "        vertical-align: middle;\n",
       "    }\n",
       "\n",
       "    .dataframe tbody tr th {\n",
       "        vertical-align: top;\n",
       "    }\n",
       "\n",
       "    .dataframe thead th {\n",
       "        text-align: right;\n",
       "    }\n",
       "</style>\n",
       "<table border=\"1\" class=\"dataframe\">\n",
       "  <thead>\n",
       "    <tr style=\"text-align: right;\">\n",
       "      <th></th>\n",
       "      <th>operator_id</th>\n",
       "      <th>date</th>\n",
       "      <th>call_duration_min</th>\n",
       "      <th>total_call_duration_min</th>\n",
       "    </tr>\n",
       "  </thead>\n",
       "  <tbody>\n",
       "    <tr>\n",
       "      <th>824</th>\n",
       "      <td>885876</td>\n",
       "      <td>2019-09-02</td>\n",
       "      <td>1524.116667</td>\n",
       "      <td>2106.933333</td>\n",
       "    </tr>\n",
       "    <tr>\n",
       "      <th>825</th>\n",
       "      <td>885876</td>\n",
       "      <td>2019-09-03</td>\n",
       "      <td>1478.500000</td>\n",
       "      <td>2212.616667</td>\n",
       "    </tr>\n",
       "    <tr>\n",
       "      <th>826</th>\n",
       "      <td>885876</td>\n",
       "      <td>2019-09-04</td>\n",
       "      <td>1567.583333</td>\n",
       "      <td>2112.050000</td>\n",
       "    </tr>\n",
       "    <tr>\n",
       "      <th>827</th>\n",
       "      <td>885876</td>\n",
       "      <td>2019-09-05</td>\n",
       "      <td>1855.116667</td>\n",
       "      <td>2260.583333</td>\n",
       "    </tr>\n",
       "    <tr>\n",
       "      <th>828</th>\n",
       "      <td>885876</td>\n",
       "      <td>2019-09-06</td>\n",
       "      <td>1492.316667</td>\n",
       "      <td>1914.683333</td>\n",
       "    </tr>\n",
       "    <tr>\n",
       "      <th>831</th>\n",
       "      <td>885876</td>\n",
       "      <td>2019-09-09</td>\n",
       "      <td>2042.016667</td>\n",
       "      <td>2680.433333</td>\n",
       "    </tr>\n",
       "    <tr>\n",
       "      <th>833</th>\n",
       "      <td>885876</td>\n",
       "      <td>2019-09-11</td>\n",
       "      <td>1928.366667</td>\n",
       "      <td>2490.233333</td>\n",
       "    </tr>\n",
       "    <tr>\n",
       "      <th>834</th>\n",
       "      <td>885876</td>\n",
       "      <td>2019-09-12</td>\n",
       "      <td>2111.933333</td>\n",
       "      <td>2563.216667</td>\n",
       "    </tr>\n",
       "    <tr>\n",
       "      <th>835</th>\n",
       "      <td>885876</td>\n",
       "      <td>2019-09-13</td>\n",
       "      <td>1664.883333</td>\n",
       "      <td>2124.700000</td>\n",
       "    </tr>\n",
       "    <tr>\n",
       "      <th>839</th>\n",
       "      <td>885876</td>\n",
       "      <td>2019-09-17</td>\n",
       "      <td>1686.050000</td>\n",
       "      <td>2508.100000</td>\n",
       "    </tr>\n",
       "    <tr>\n",
       "      <th>840</th>\n",
       "      <td>885876</td>\n",
       "      <td>2019-09-18</td>\n",
       "      <td>2030.600000</td>\n",
       "      <td>2652.966667</td>\n",
       "    </tr>\n",
       "    <tr>\n",
       "      <th>841</th>\n",
       "      <td>885876</td>\n",
       "      <td>2019-09-19</td>\n",
       "      <td>1830.866667</td>\n",
       "      <td>2293.550000</td>\n",
       "    </tr>\n",
       "    <tr>\n",
       "      <th>842</th>\n",
       "      <td>885876</td>\n",
       "      <td>2019-09-20</td>\n",
       "      <td>1947.266667</td>\n",
       "      <td>2461.133333</td>\n",
       "    </tr>\n",
       "    <tr>\n",
       "      <th>845</th>\n",
       "      <td>885876</td>\n",
       "      <td>2019-09-23</td>\n",
       "      <td>1736.700000</td>\n",
       "      <td>2555.216667</td>\n",
       "    </tr>\n",
       "    <tr>\n",
       "      <th>847</th>\n",
       "      <td>885876</td>\n",
       "      <td>2019-09-25</td>\n",
       "      <td>2416.766667</td>\n",
       "      <td>3166.483333</td>\n",
       "    </tr>\n",
       "    <tr>\n",
       "      <th>848</th>\n",
       "      <td>885876</td>\n",
       "      <td>2019-09-26</td>\n",
       "      <td>2285.633333</td>\n",
       "      <td>2869.416667</td>\n",
       "    </tr>\n",
       "    <tr>\n",
       "      <th>849</th>\n",
       "      <td>885876</td>\n",
       "      <td>2019-09-27</td>\n",
       "      <td>1942.116667</td>\n",
       "      <td>2494.666667</td>\n",
       "    </tr>\n",
       "    <tr>\n",
       "      <th>852</th>\n",
       "      <td>885876</td>\n",
       "      <td>2019-09-30</td>\n",
       "      <td>1582.450000</td>\n",
       "      <td>2209.200000</td>\n",
       "    </tr>\n",
       "    <tr>\n",
       "      <th>853</th>\n",
       "      <td>885876</td>\n",
       "      <td>2019-10-01</td>\n",
       "      <td>1488.533333</td>\n",
       "      <td>2503.383333</td>\n",
       "    </tr>\n",
       "    <tr>\n",
       "      <th>854</th>\n",
       "      <td>885876</td>\n",
       "      <td>2019-10-02</td>\n",
       "      <td>2035.133333</td>\n",
       "      <td>2590.033333</td>\n",
       "    </tr>\n",
       "    <tr>\n",
       "      <th>855</th>\n",
       "      <td>885876</td>\n",
       "      <td>2019-10-03</td>\n",
       "      <td>1585.066667</td>\n",
       "      <td>1763.100000</td>\n",
       "    </tr>\n",
       "    <tr>\n",
       "      <th>861</th>\n",
       "      <td>885876</td>\n",
       "      <td>2019-10-09</td>\n",
       "      <td>2007.933333</td>\n",
       "      <td>2359.550000</td>\n",
       "    </tr>\n",
       "    <tr>\n",
       "      <th>862</th>\n",
       "      <td>885876</td>\n",
       "      <td>2019-10-10</td>\n",
       "      <td>1512.983333</td>\n",
       "      <td>1691.633333</td>\n",
       "    </tr>\n",
       "  </tbody>\n",
       "</table>\n",
       "</div>"
      ],
      "text/plain": [
       "     operator_id       date  call_duration_min  total_call_duration_min\n",
       "824       885876 2019-09-02        1524.116667              2106.933333\n",
       "825       885876 2019-09-03        1478.500000              2212.616667\n",
       "826       885876 2019-09-04        1567.583333              2112.050000\n",
       "827       885876 2019-09-05        1855.116667              2260.583333\n",
       "828       885876 2019-09-06        1492.316667              1914.683333\n",
       "831       885876 2019-09-09        2042.016667              2680.433333\n",
       "833       885876 2019-09-11        1928.366667              2490.233333\n",
       "834       885876 2019-09-12        2111.933333              2563.216667\n",
       "835       885876 2019-09-13        1664.883333              2124.700000\n",
       "839       885876 2019-09-17        1686.050000              2508.100000\n",
       "840       885876 2019-09-18        2030.600000              2652.966667\n",
       "841       885876 2019-09-19        1830.866667              2293.550000\n",
       "842       885876 2019-09-20        1947.266667              2461.133333\n",
       "845       885876 2019-09-23        1736.700000              2555.216667\n",
       "847       885876 2019-09-25        2416.766667              3166.483333\n",
       "848       885876 2019-09-26        2285.633333              2869.416667\n",
       "849       885876 2019-09-27        1942.116667              2494.666667\n",
       "852       885876 2019-09-30        1582.450000              2209.200000\n",
       "853       885876 2019-10-01        1488.533333              2503.383333\n",
       "854       885876 2019-10-02        2035.133333              2590.033333\n",
       "855       885876 2019-10-03        1585.066667              1763.100000\n",
       "861       885876 2019-10-09        2007.933333              2359.550000\n",
       "862       885876 2019-10-10        1512.983333              1691.633333"
      ]
     },
     "execution_count": 32,
     "metadata": {},
     "output_type": "execute_result"
    }
   ],
   "source": [
    "operator_calls_duration.query('call_duration_min > 1440')"
   ]
  },
  {
   "cell_type": "code",
   "execution_count": 33,
   "metadata": {},
   "outputs": [
    {
     "data": {
      "text/plain": [
       "array([166582])"
      ]
     },
     "execution_count": 33,
     "metadata": {},
     "output_type": "execute_result"
    }
   ],
   "source": [
    "data.query('operator_id == 885876')['user_id'].unique()"
   ]
  },
  {
   "cell_type": "markdown",
   "metadata": {},
   "source": [
    "Есть оператор, у которого длительность звонков за день превышает 24 часа. Посмотрим подробнее на данные по этому оператору."
   ]
  },
  {
   "cell_type": "code",
   "execution_count": 34,
   "metadata": {},
   "outputs": [
    {
     "data": {
      "text/plain": [
       "count      97.000000\n",
       "mean      749.820103\n",
       "std       706.120874\n",
       "min         0.000000\n",
       "25%        99.500000\n",
       "50%       521.283333\n",
       "75%      1353.950000\n",
       "max      2416.766667\n",
       "Name: call_duration_min, dtype: float64"
      ]
     },
     "execution_count": 34,
     "metadata": {},
     "output_type": "execute_result"
    }
   ],
   "source": [
    "operator_stat = (\n",
    "    data.query('operator_id == 885876').groupby('date', \n",
    "                                                as_index=False)['call_duration_min']\n",
    "    .sum()\n",
    ")\n",
    "operator_stat['call_duration_min'].describe()"
   ]
  },
  {
   "cell_type": "markdown",
   "metadata": {},
   "source": [
    "Для этого оператора нашлось 97 записей, в среднем он разговаривает 749 минут в день (медианное время 521, значительно ниже среднего). Максимальная дневная длительность звонка составила 2416 минут - это 40 с лишним часов.\n",
    "\n",
    "Выведем график зависимоти длительности звонков этого оператора от даты:"
   ]
  },
  {
   "cell_type": "code",
   "execution_count": 35,
   "metadata": {},
   "outputs": [
    {
     "data": {
      "image/png": "[encoded data removed]",
      "text/plain": [
       "<Figure size 1400x700 with 1 Axes>"
      ]
     },
     "metadata": {},
     "output_type": "display_data"
    }
   ],
   "source": [
    "fig, ax = plt.subplots(figsize=(14,7))\n",
    "\n",
    "sns.lineplot(data=operator_stat, \n",
    "             x='date', \n",
    "             y='call_duration_min',\n",
    "             ax=ax);"
   ]
  },
  {
   "cell_type": "markdown",
   "metadata": {},
   "source": [
    "Найдем клиента, у которого работает этот оператор и проверим остальных его операторов."
   ]
  },
  {
   "cell_type": "code",
   "execution_count": 36,
   "metadata": {},
   "outputs": [
    {
     "data": {
      "text/plain": [
       "array([166582])"
      ]
     },
     "execution_count": 36,
     "metadata": {},
     "output_type": "execute_result"
    }
   ],
   "source": [
    "data.query('operator_id == 885876')['user_id'].unique()"
   ]
  },
  {
   "cell_type": "code",
   "execution_count": 37,
   "metadata": {},
   "outputs": [],
   "source": [
    "anomaly_user_stat = (\n",
    "    data.query('user_id == 166582')\n",
    "    .groupby(['date', 'operator_id'], \n",
    "             as_index=False)['call_duration_min']\n",
    "    .sum()\n",
    ")\n",
    "anomaly_user_stat['operator_id'] = anomaly_user_stat['operator_id'].astype(str)"
   ]
  },
  {
   "cell_type": "code",
   "execution_count": 38,
   "metadata": {},
   "outputs": [
    {
     "data": {
      "image/png": "[encoded data removed]",
      "text/plain": [
       "<Figure size 1400x700 with 1 Axes>"
      ]
     },
     "metadata": {},
     "output_type": "display_data"
    }
   ],
   "source": [
    "fig, ax = plt.subplots(figsize=(14,7))\n",
    "sns.lineplot(data=anomaly_user_stat, \n",
    "             x='date', \n",
    "             y='call_duration_min', \n",
    "             hue='operator_id',\n",
    "             ax=ax);"
   ]
  },
  {
   "cell_type": "markdown",
   "metadata": {},
   "source": [
    "Кажется, что по остальным операторам такой проблемы нет, их звонки выглядят равномерными и не превышают разумных значений. Видимо, искажены только данные по оператору 885876 и только за сентябрь-октябрь. Возможно, произошел какой-то технический сбой и под одной учеткой работали несколько операторов.\n",
    "\n",
    "Мы не можем удалить только этого оператора для клиента, т.к. это исказит расчет стоимости связи. Поэтому из анализа придется исключить самого клиента."
   ]
  },
  {
   "cell_type": "code",
   "execution_count": 39,
   "metadata": {},
   "outputs": [
    {
     "data": {
      "text/plain": [
       "(48282, 13)"
      ]
     },
     "execution_count": 39,
     "metadata": {},
     "output_type": "execute_result"
    }
   ],
   "source": [
    "data = data.query('user_id != 166582')\n",
    "data.reset_index(drop=True, inplace=True)\n",
    "data.shape"
   ]
  },
  {
   "cell_type": "markdown",
   "metadata": {},
   "source": [
    "## 1.6. Дополнительные столбцы\n",
    "\n",
    "Здесь мы добавим столбцы, которые будут нам полезны в дальнейшем анализе и расчетах."
   ]
  },
  {
   "cell_type": "code",
   "execution_count": 40,
   "metadata": {},
   "outputs": [],
   "source": [
    "data['month'] = data['date'].dt.month\n",
    "data['month_name'] = data['date'].dt.month_name()"
   ]
  },
  {
   "cell_type": "code",
   "execution_count": 41,
   "metadata": {},
   "outputs": [
    {
     "data": {
      "text/plain": [
       "306"
      ]
     },
     "execution_count": 41,
     "metadata": {},
     "output_type": "execute_result"
    }
   ],
   "source": [
    "data['user_id'].nunique()"
   ]
  },
  {
   "cell_type": "markdown",
   "metadata": {},
   "source": [
    "# 2. Исследовательский анализ данных\n",
    "\n",
    "- анализ количества клиентов и их тарифов\n",
    "- анализ звонков клиентов: их количества в разных разрезах (тариф, внутренние/внешние, входящие/исходящие) и во времени\n",
    "- анализ звонков клиентов: их длительности в разных разрезах (тариф, внутренние/внешние, входящие/исходящие) и во времени\n",
    "- анализ количества операторов клиентов (по тарифам и по месяцам)\n",
    "- выделение группы активных клиентов\n",
    "\n",
    "## 2.1. Анализ количества клиентов\n",
    "\n",
    "### 2.1.1 По тарифам\n",
    " \n",
    " Посчитаем, сколько у нас клиентов на каждом из тарифов."
   ]
  },
  {
   "cell_type": "code",
   "execution_count": 42,
   "metadata": {},
   "outputs": [],
   "source": [
    "tariffs_stat = data.groupby('tariff_plan', as_index=False)['user_id'].nunique()"
   ]
  },
  {
   "cell_type": "code",
   "execution_count": 43,
   "metadata": {},
   "outputs": [
    {
     "data": {
      "image/png": "[encoded data removed]",
      "text/plain": [
       "<Figure size 1200x600 with 1 Axes>"
      ]
     },
     "metadata": {},
     "output_type": "display_data"
    }
   ],
   "source": [
    "create_barchart(tariffs_stat, \n",
    "                x='tariff_plan', \n",
    "                y='user_id', \n",
    "                xlabel='', \n",
    "                ylabel='', \n",
    "                title='Количество клиентов на разных тарифных планах',\n",
    "                figsize=(12,6))"
   ]
  },
  {
   "cell_type": "markdown",
   "metadata": {},
   "source": [
    "Самый популярный тариф - тариф C, на нем 161 клиент. Дальше идет тариф B со 112 клиентами. Наименее популярен тариф A, на нем всего 33 клиента."
   ]
  },
  {
   "cell_type": "markdown",
   "metadata": {},
   "source": [
    "### 2.1.2. По количеству активных месяцев работы"
   ]
  },
  {
   "cell_type": "code",
   "execution_count": 44,
   "metadata": {},
   "outputs": [
    {
     "data": {
      "text/html": [
       "<div>\n",
       "<style scoped>\n",
       "    .dataframe tbody tr th:only-of-type {\n",
       "        vertical-align: middle;\n",
       "    }\n",
       "\n",
       "    .dataframe tbody tr th {\n",
       "        vertical-align: top;\n",
       "    }\n",
       "\n",
       "    .dataframe thead th {\n",
       "        text-align: right;\n",
       "    }\n",
       "</style>\n",
       "<table border=\"1\" class=\"dataframe\">\n",
       "  <thead>\n",
       "    <tr style=\"text-align: right;\">\n",
       "      <th></th>\n",
       "      <th>months_count</th>\n",
       "      <th>users_count</th>\n",
       "    </tr>\n",
       "  </thead>\n",
       "  <tbody>\n",
       "    <tr>\n",
       "      <th>0</th>\n",
       "      <td>1</td>\n",
       "      <td>39</td>\n",
       "    </tr>\n",
       "    <tr>\n",
       "      <th>1</th>\n",
       "      <td>2</td>\n",
       "      <td>117</td>\n",
       "    </tr>\n",
       "    <tr>\n",
       "      <th>2</th>\n",
       "      <td>3</td>\n",
       "      <td>85</td>\n",
       "    </tr>\n",
       "    <tr>\n",
       "      <th>3</th>\n",
       "      <td>4</td>\n",
       "      <td>65</td>\n",
       "    </tr>\n",
       "  </tbody>\n",
       "</table>\n",
       "</div>"
      ],
      "text/plain": [
       "   months_count  users_count\n",
       "0             1           39\n",
       "1             2          117\n",
       "2             3           85\n",
       "3             4           65"
      ]
     },
     "execution_count": 44,
     "metadata": {},
     "output_type": "execute_result"
    }
   ],
   "source": [
    "month_stat = get_stat(get_stat(data, \n",
    "                               'user_id', \n",
    "                               'month', \n",
    "                               pd.Series.nunique), \n",
    "                      'month', \n",
    "                      'user_id', \n",
    "                      'count')\n",
    "month_stat.rename(columns={'month': 'months_count',\n",
    "                           'user_id': 'users_count'},\n",
    "                 inplace=True)\n",
    "month_stat"
   ]
  },
  {
   "cell_type": "code",
   "execution_count": 45,
   "metadata": {},
   "outputs": [
    {
     "data": {
      "image/png": "[encoded data removed]",
      "text/plain": [
       "<Figure size 1200x600 with 1 Axes>"
      ]
     },
     "metadata": {},
     "output_type": "display_data"
    }
   ],
   "source": [
    "create_barchart(month_stat, \n",
    "                x='months_count', \n",
    "                y='users_count', \n",
    "                xlabel='Количество активных месяцев', \n",
    "                ylabel='', \n",
    "                title='Количество клиентов по активным месяцам работы',\n",
    "                figsize=(12,6))"
   ]
  },
  {
   "cell_type": "markdown",
   "metadata": {},
   "source": [
    "Видим, что самое большое количество клиентов (117) активно пользовалось услугами в течение 2 из 4 прошедших месяцев. Всего 65 клиентов были активны на протяжении всех 4 месяцев, 85 клиентов - на протяжении 3 месяцев.\n",
    "39 клиентов работают с заказчиком лишь 1 месяц.\n",
    "\n",
    "В дальнейшем при анализе расходов, будет разумно не учитывать клиентов, которые работают 1 или 2 месяца, т.к. мы не сможем достоверно понять, переплачивают они или нет, слишком мало данных."
   ]
  },
  {
   "cell_type": "markdown",
   "metadata": {},
   "source": [
    "## 2.2. Анализ количества звонков клиентов\n",
    "\n",
    "Здесь мы агрегируем данные за месяц и посмотрим на них в целом, а также в следующих разрезах:\n",
    "\n",
    "- тариф\n",
    "- внутренние/внешние звонки\n",
    "- входящие/исходящие звонки\n",
    "- различия по месяцам\n",
    "\n",
    "### 2.2.1. Общая статистика"
   ]
  },
  {
   "cell_type": "code",
   "execution_count": 46,
   "metadata": {},
   "outputs": [
    {
     "data": {
      "text/plain": [
       "count      788.000000\n",
       "mean       840.366751\n",
       "std       4074.355821\n",
       "min          1.000000\n",
       "25%         12.750000\n",
       "50%         66.000000\n",
       "75%        408.000000\n",
       "max      71222.000000\n",
       "Name: calls_count, dtype: float64"
      ]
     },
     "execution_count": 46,
     "metadata": {},
     "output_type": "execute_result"
    }
   ],
   "source": [
    "calls_stat = get_stat(data, \n",
    "                      ['user_id', 'tariff_plan', 'month_name'], \n",
    "                      'calls_count', \n",
    "                      'sum')\n",
    "calls_stat['calls_count'].describe()"
   ]
  },
  {
   "cell_type": "markdown",
   "metadata": {},
   "source": [
    "Выведем распредление в виде гистограммы. Ограничим количество звонков 1000, чтобы выбросы не искажали картину."
   ]
  },
  {
   "cell_type": "code",
   "execution_count": 47,
   "metadata": {},
   "outputs": [
    {
     "data": {
      "image/png": "[encoded data removed]",
      "text/plain": [
       "<Figure size 1200x500 with 1 Axes>"
      ]
     },
     "metadata": {},
     "output_type": "display_data"
    }
   ],
   "source": [
    "create_histplot(calls_stat.query('calls_count<1000'), \n",
    "                x='calls_count', \n",
    "                bins=30, \n",
    "                title='Количество звонков в месяц у клиентов', \n",
    "                xlabel='', \n",
    "                ylabel='', \n",
    "                figsize=(12, 5))"
   ]
  },
  {
   "cell_type": "markdown",
   "metadata": {},
   "source": [
    "Видим, что в распределении количества звонков много выбросов, среднее значение (840) сильно отличается от медианы (66). Большинство клиентов укладываются в 408 звонков в месяц, но есть длинный хвост с количеством звонков вплоть до 71222 в месяц."
   ]
  },
  {
   "cell_type": "markdown",
   "metadata": {},
   "source": [
    "### 2.2.2. Статистика по тарифам\n",
    "\n",
    "Посмотрим на распределение количества звонков на разных тарифах."
   ]
  },
  {
   "cell_type": "code",
   "execution_count": 48,
   "metadata": {},
   "outputs": [
    {
     "data": {
      "image/png": "[encoded data removed]",
      "text/plain": [
       "<Figure size 1200x500 with 1 Axes>"
      ]
     },
     "metadata": {},
     "output_type": "display_data"
    }
   ],
   "source": [
    "create_boxplots(calls_stat.query('calls_count<1000'), \n",
    "                x='calls_count', \n",
    "                y='tariff_plan', \n",
    "                order=['A', 'B', 'C'],\n",
    "                title='Количество звонков в месяц у клиентов разных тарифов', \n",
    "                xlabel='', \n",
    "                ylabel='', \n",
    "                figsize=(12, 5))"
   ]
  },
  {
   "cell_type": "markdown",
   "metadata": {},
   "source": [
    "На тарифе A среднее количество звонков составляет 3316, а медиана 150. На тарифе B среднее количество звонков составляет 565, медиана 96. На тарифе C среднее 496, медиана 38. Получается, что клиенты тарифа звонят чаще, чем клиенты тарифов B и C.\n",
    "\n",
    "Для всех тарифов разница между средним и медианой велика, и на боксплотах мы видим, как много выбросов в распределениях."
   ]
  },
  {
   "cell_type": "markdown",
   "metadata": {},
   "source": [
    "### 2.2.3. Статистика по внутренним и внешним звонкам\n",
    "\n",
    "Посмотрим на распределение количества внутренних и внешних звонков."
   ]
  },
  {
   "cell_type": "code",
   "execution_count": 49,
   "metadata": {
    "scrolled": false
   },
   "outputs": [],
   "source": [
    "internal_calls_stat = get_stat(data[data['internal'].notna()],\n",
    "                               ['user_id', 'month_name', 'internal'],\n",
    "                               'calls_count',\n",
    "                               'sum')\n",
    "\n",
    "internal_calls_stat['internal'] = (\n",
    "    internal_calls_stat['internal'].astype(bool)\n",
    "    .replace({True: 'Internal',\n",
    "              False: 'External'})\n",
    ")"
   ]
  },
  {
   "cell_type": "code",
   "execution_count": 50,
   "metadata": {},
   "outputs": [
    {
     "data": {
      "image/png": "[encoded data removed]",
      "text/plain": [
       "<Figure size 1200x500 with 1 Axes>"
      ]
     },
     "metadata": {},
     "output_type": "display_data"
    }
   ],
   "source": [
    "create_boxplots(internal_calls_stat.query('calls_count<1000'), \n",
    "                x='calls_count', \n",
    "                y='internal', \n",
    "                title='Количество внутренних и внешних звонков в месяц у клиентов', \n",
    "                xlabel='', \n",
    "                ylabel='', \n",
    "                figsize=(12, 5))"
   ]
  },
  {
   "cell_type": "markdown",
   "metadata": {},
   "source": [
    "По внутренним звонкам среднее значение равно 44, медиана 5. По внешним звонкам среднее значение равно 822, а медиана 61. Очевидно, клиенты чаще звонят за пределы компании, чем пользуются внутренней связью. "
   ]
  },
  {
   "cell_type": "markdown",
   "metadata": {},
   "source": [
    "### 2.2.4. Статистика по входящим и исходящим звонкам\n",
    "\n",
    "Посмотрим на распределение количества входящих и исходящих звонков."
   ]
  },
  {
   "cell_type": "code",
   "execution_count": 51,
   "metadata": {},
   "outputs": [],
   "source": [
    "direction_calls_stat = get_stat(data,\n",
    "                               ['user_id', 'month_name', 'direction'],\n",
    "                               'calls_count',\n",
    "                               'sum')"
   ]
  },
  {
   "cell_type": "code",
   "execution_count": 52,
   "metadata": {},
   "outputs": [
    {
     "data": {
      "image/png": "[encoded data removed]",
      "text/plain": [
       "<Figure size 1200x500 with 1 Axes>"
      ]
     },
     "metadata": {},
     "output_type": "display_data"
    }
   ],
   "source": [
    "create_boxplots(direction_calls_stat.query('calls_count<1000'), \n",
    "                x='calls_count', \n",
    "                y='direction', \n",
    "                title='Количество входящих и исходящих звонков в месяц у клиентов', \n",
    "                xlabel='', \n",
    "                ylabel='', \n",
    "                figsize=(12, 5))"
   ]
  },
  {
   "cell_type": "markdown",
   "metadata": {},
   "source": [
    "По входящим звонкам среднее значение 244, медиана 28. По исходящим звонкам среднее значение 921, медиана 96. Чаще операторы сами звонят, чем принимают входящие звонки."
   ]
  },
  {
   "cell_type": "markdown",
   "metadata": {},
   "source": [
    "### 2.2.6. Динамика по месяцам"
   ]
  },
  {
   "cell_type": "code",
   "execution_count": 53,
   "metadata": {},
   "outputs": [
    {
     "data": {
      "image/png": "[encoded data removed]",
      "text/plain": [
       "<Figure size 1200x500 with 1 Axes>"
      ]
     },
     "metadata": {},
     "output_type": "display_data"
    }
   ],
   "source": [
    "create_boxplots(calls_stat.query('calls_count<1000'), \n",
    "                x='calls_count', \n",
    "                y='month_name',\n",
    "                order=['August', 'September', 'October', 'November'],\n",
    "                title='Количество звонков в разные месяцы', \n",
    "                xlabel='', \n",
    "                ylabel='', \n",
    "                figsize=(12, 5))"
   ]
  },
  {
   "cell_type": "markdown",
   "metadata": {},
   "source": [
    "В разбивке по месяцам видно, что наибольшее количество звонков пришлось на ноябрь (медиана 93 звонка на клиента), меньше всего их было в августе (медиана 19 звонков на клиента). "
   ]
  },
  {
   "cell_type": "markdown",
   "metadata": {},
   "source": [
    "## 2.3. Анализ длительности звонков клиентов\n",
    "\n",
    "Здесь мы агрегируем длительности звонков за месяц, и посмотрим на их распределение в целом и в разрезах:\n",
    "- тарифа\n",
    "- внутренние/внешние\n",
    "- входящие/исходящие\n",
    "- динамика по месяцам\n",
    "\n",
    "### 2.3.1. Общая статистика"
   ]
  },
  {
   "cell_type": "code",
   "execution_count": 54,
   "metadata": {},
   "outputs": [],
   "source": [
    "duration_stat = get_stat(data,\n",
    "                        ['user_id', 'tariff_plan', 'month_name'],\n",
    "                        'total_call_duration_min',\n",
    "                        'sum')"
   ]
  },
  {
   "cell_type": "code",
   "execution_count": 55,
   "metadata": {},
   "outputs": [
    {
     "data": {
      "image/png": "[encoded data removed]",
      "text/plain": [
       "<Figure size 1200x500 with 1 Axes>"
      ]
     },
     "metadata": {},
     "output_type": "display_data"
    }
   ],
   "source": [
    "create_histplot(duration_stat.query('total_call_duration_min<1000'), \n",
    "                x='total_call_duration_min', \n",
    "                bins=30, \n",
    "                title='Длительность звонков в месяц у клиентов', \n",
    "                xlabel='', \n",
    "                ylabel='', \n",
    "                figsize=(12, 5))"
   ]
  },
  {
   "cell_type": "markdown",
   "metadata": {},
   "source": [
    "В распределении длительности звонков, как и в распределении количества, много выбросов. Средняя месячная длительность звонков клиента равна 948 минут, а медианная - 59 минут. Максимальная месячная длительность звонков почти 73 тысячи минут, также есть клиенты с нулевой длительностью."
   ]
  },
  {
   "cell_type": "markdown",
   "metadata": {},
   "source": [
    "### 2.3.2. Длительность звонков на разных тарифах"
   ]
  },
  {
   "cell_type": "code",
   "execution_count": 56,
   "metadata": {},
   "outputs": [
    {
     "data": {
      "image/png": "[encoded data removed]",
      "text/plain": [
       "<Figure size 1200x500 with 1 Axes>"
      ]
     },
     "metadata": {},
     "output_type": "display_data"
    }
   ],
   "source": [
    "create_boxplots(duration_stat.query('total_call_duration_min<1000'), \n",
    "                x='total_call_duration_min', \n",
    "                y='tariff_plan', \n",
    "                order=['A', 'B', 'C'],\n",
    "                title='Длительность звонков в месяц у клиентов разных тарифов', \n",
    "                xlabel='', \n",
    "                ylabel='', \n",
    "                figsize=(12, 5))"
   ]
  },
  {
   "cell_type": "markdown",
   "metadata": {},
   "source": [
    "На тарифе A клиенты в среднем наговаривают 3390 минут в месяц, медиана равна 172 минуты. На тарифе B средняя месяная длительность 759 минут, медианная 87 минут. На тарифе C средняя месяная длительность 550 минут, медианная 39 минут.\n",
    "\n",
    "Клиенты тарифа A разговаривают дольше, чем клиенты тарифов B и C, это согласуется и с данными по количеству звонков."
   ]
  },
  {
   "cell_type": "markdown",
   "metadata": {},
   "source": [
    "### 2.3.3. Длительность внутренних и внешних звонков"
   ]
  },
  {
   "cell_type": "code",
   "execution_count": 57,
   "metadata": {},
   "outputs": [],
   "source": [
    "internal_duration_stat = get_stat(data[data['internal'].notna()],\n",
    "                                  ['user_id', 'month', 'internal'],\n",
    "                                  'total_call_duration_min',\n",
    "                                  'sum')\n",
    "\n",
    "internal_duration_stat['internal'] = (\n",
    "    internal_duration_stat['internal'].astype(bool)\n",
    "    .replace({True: 'Internal',\n",
    "              False: 'External'})\n",
    ")"
   ]
  },
  {
   "cell_type": "code",
   "execution_count": 58,
   "metadata": {},
   "outputs": [
    {
     "data": {
      "image/png": "[encoded data removed]",
      "text/plain": [
       "<Figure size 1200x500 with 1 Axes>"
      ]
     },
     "metadata": {},
     "output_type": "display_data"
    }
   ],
   "source": [
    "create_boxplots(internal_duration_stat.query('total_call_duration_min<1000'), \n",
    "                x='total_call_duration_min', \n",
    "                y='internal', \n",
    "                title='Длительность внутренних и внешних звонков в месяц', \n",
    "                xlabel='', \n",
    "                ylabel='', \n",
    "                figsize=(12, 5))"
   ]
  },
  {
   "cell_type": "markdown",
   "metadata": {},
   "source": [
    "По внутренним звонкам средняя длительность составляет 36 минут в месяц, медианная всего 0.91 минуты. По внешним звонкам средняя длительность 934 минуты в месяц, а медианная 58 минуты."
   ]
  },
  {
   "cell_type": "markdown",
   "metadata": {},
   "source": [
    "### 2.3.4. Длительность входящих и исходящих звонков за месяц"
   ]
  },
  {
   "cell_type": "code",
   "execution_count": 59,
   "metadata": {},
   "outputs": [],
   "source": [
    "direction_duration_stat = get_stat(data,\n",
    "                                   ['user_id', 'month', 'direction'],\n",
    "                                   'total_call_duration_min',\n",
    "                                   'sum')"
   ]
  },
  {
   "cell_type": "code",
   "execution_count": 60,
   "metadata": {},
   "outputs": [
    {
     "data": {
      "image/png": "[encoded data removed]",
      "text/plain": [
       "<Figure size 1200x500 with 1 Axes>"
      ]
     },
     "metadata": {},
     "output_type": "display_data"
    }
   ],
   "source": [
    "create_boxplots(direction_duration_stat.query('total_call_duration_min<1000'), \n",
    "                x='total_call_duration_min', \n",
    "                y='direction', \n",
    "                title='Длительность входящих и исходящих звонков в месяц', \n",
    "                xlabel='', \n",
    "                ylabel='', \n",
    "                figsize=(12, 5))"
   ]
  },
  {
   "cell_type": "markdown",
   "metadata": {},
   "source": [
    "Средняя месячная длительность входящих звонков составляет 258 минут, медианная 21 минута. По исходящим звонкам средняя длительность 1066 миунт в месяц, медианная 127 минут в месяц."
   ]
  },
  {
   "cell_type": "markdown",
   "metadata": {},
   "source": [
    "### 2.3.6. По месяцам"
   ]
  },
  {
   "cell_type": "code",
   "execution_count": 61,
   "metadata": {},
   "outputs": [
    {
     "data": {
      "image/png": "[encoded data removed]",
      "text/plain": [
       "<Figure size 1200x500 with 1 Axes>"
      ]
     },
     "metadata": {},
     "output_type": "display_data"
    }
   ],
   "source": [
    "create_boxplots(duration_stat.query('total_call_duration_min<1000'), \n",
    "                x='total_call_duration_min', \n",
    "                y='month_name', \n",
    "                order=['August', 'September', 'October', 'November'],\n",
    "                title='Длительность звонков в разные месяцы', \n",
    "                xlabel='', \n",
    "                ylabel='', \n",
    "                figsize=(12, 5))"
   ]
  },
  {
   "cell_type": "markdown",
   "metadata": {},
   "source": [
    "Самая большая длительность звонков набежала за ноябрь (медиана 102 минуты), меньше всего за август (медиана 8 минут)."
   ]
  },
  {
   "cell_type": "markdown",
   "metadata": {},
   "source": [
    "## 2.4. Анализ количества операторов\n",
    "\n",
    "Здесь мы агрегируем число операторов за месяц и посмотрим на распределение в целом и в разрезах:\n",
    "- тарифов\n",
    "- месяцев"
   ]
  },
  {
   "cell_type": "code",
   "execution_count": 62,
   "metadata": {},
   "outputs": [
    {
     "data": {
      "text/plain": [
       "count    788.000000\n",
       "mean       2.677665\n",
       "std        4.325118\n",
       "min        0.000000\n",
       "25%        1.000000\n",
       "50%        2.000000\n",
       "75%        3.000000\n",
       "max       48.000000\n",
       "Name: operators_count, dtype: float64"
      ]
     },
     "execution_count": 62,
     "metadata": {},
     "output_type": "execute_result"
    }
   ],
   "source": [
    "operators_stat = get_stat(data,\n",
    "                          ['user_id', 'month_name', 'tariff_plan'],\n",
    "                          'operator_id',\n",
    "                          pd.Series.nunique)\n",
    "\n",
    "operators_stat.rename(columns={'operator_id': 'operators_count'},\n",
    "                     inplace=True)\n",
    "\n",
    "operators_stat['operators_count'] = operators_stat['operators_count'].astype(int)\n",
    "\n",
    "operators_stat['operators_count'].describe()"
   ]
  },
  {
   "cell_type": "markdown",
   "metadata": {},
   "source": [
    "### 2.4.1. Общая статистика"
   ]
  },
  {
   "cell_type": "code",
   "execution_count": 63,
   "metadata": {},
   "outputs": [
    {
     "data": {
      "image/png": "[encoded data removed]",
      "text/plain": [
       "<Figure size 1200x500 with 1 Axes>"
      ]
     },
     "metadata": {},
     "output_type": "display_data"
    }
   ],
   "source": [
    "create_histplot(operators_stat, \n",
    "                x='operators_count', \n",
    "                bins=30, \n",
    "                title='Количество операторов у клиентов', \n",
    "                xlabel='', \n",
    "                ylabel='', \n",
    "                figsize=(12, 5))"
   ]
  },
  {
   "cell_type": "markdown",
   "metadata": {},
   "source": [
    "Среднее количество операторов у клиента равно 3, медианное 2. Есть клиенты, у которых за месяц не работал ни один оператор, а есть крупные клиенты с 48 операторами."
   ]
  },
  {
   "cell_type": "markdown",
   "metadata": {},
   "source": [
    "### 2.4.2. Статистика по тарифам"
   ]
  },
  {
   "cell_type": "code",
   "execution_count": 64,
   "metadata": {},
   "outputs": [
    {
     "data": {
      "image/png": "[encoded data removed]",
      "text/plain": [
       "<Figure size 1200x500 with 1 Axes>"
      ]
     },
     "metadata": {},
     "output_type": "display_data"
    }
   ],
   "source": [
    "create_boxplots(operators_stat, \n",
    "                x='operators_count', \n",
    "                y='tariff_plan',\n",
    "                order=['A', 'B', 'C'],\n",
    "                title='Количество операторов у клиентов на разных тарифных планах', \n",
    "                xlabel='', \n",
    "                ylabel='', \n",
    "                figsize=(12, 5))"
   ]
  },
  {
   "cell_type": "markdown",
   "metadata": {},
   "source": [
    "На тарифе A у клиентов в среднем 6 операторов в месяц (медиана 2 оператора), на тарифе B в среднем 3 оператора в месяц (медиана 2 оператора), на тарифе C в среднем 2 оператора в месяц (медиана 1 оператор).\n",
    "\n",
    "Если не считать крупных клиентов, у которых очень много операторов (в основном это клиенты тарифа А), количество операторов в месяц у клиентов разных тарифов не сильно отличается."
   ]
  },
  {
   "cell_type": "markdown",
   "metadata": {},
   "source": [
    "### 2.4.3. Статистика по месяцам"
   ]
  },
  {
   "cell_type": "code",
   "execution_count": 65,
   "metadata": {},
   "outputs": [
    {
     "data": {
      "image/png": "[encoded data removed]",
      "text/plain": [
       "<Figure size 1200x500 with 1 Axes>"
      ]
     },
     "metadata": {},
     "output_type": "display_data"
    }
   ],
   "source": [
    "create_boxplots(operators_stat, \n",
    "                x='operators_count', \n",
    "                y='month_name', \n",
    "                order=['August', 'September', 'October', 'November'],\n",
    "                title='Количество операторов у клиентов в разные месяцы', \n",
    "                xlabel='', \n",
    "                ylabel='', \n",
    "                figsize=(12, 5))"
   ]
  },
  {
   "cell_type": "markdown",
   "metadata": {},
   "source": [
    "За август, сентябрь, октябрь, ноябрь среднее количество операторов колеблетсе от 2 до 3, медианное значение от 1 до 2. В целом, зависимости от месяца не наблюдается, распределения очень похожи, разве что в октябре и ноябре больше выбросов. Вероятно, в эти месяцы клиенты набирали дополнительных людей."
   ]
  },
  {
   "cell_type": "markdown",
   "metadata": {},
   "source": [
    "## 2.6. Активные клиенты\n",
    "\n",
    "После проведенного исследовательского анализа мы можем выделить следующие критерии активных клиентов:\n",
    "- клиент пользуется услугами провайдера минимум 3 месяца за исследуемый период, в том числе в последний месяц периода\n",
    "- у клиента есть работающие операторы (мы видели, что это не всегда так)\n",
    "- количество и длительность звонков выше медианных показателей"
   ]
  },
  {
   "cell_type": "code",
   "execution_count": 66,
   "metadata": {},
   "outputs": [],
   "source": [
    "# Подсчет пользователей, которые пользуются услугами 3 месяца\n",
    "users_months_count = get_stat(data, 'user_id', 'month', pd.Series.nunique)\n",
    "\n",
    "users_3months= users_months_count.query('month >= 3')['user_id']"
   ]
  },
  {
   "cell_type": "code",
   "execution_count": 67,
   "metadata": {},
   "outputs": [],
   "source": [
    "# Выделение пользователей, у которых последняя дата использования услуг - ноябрь\n",
    "users_last_month = get_stat(data, 'user_id', 'month', 'max')\n",
    "\n",
    "users_november = users_last_month.query('month == 11')['user_id']"
   ]
  },
  {
   "cell_type": "code",
   "execution_count": 68,
   "metadata": {},
   "outputs": [],
   "source": [
    "# Подсчет медиан количества и длительности звонков\n",
    "calls_count_median = calls_stat['calls_count'].median()\n",
    "total_call_duration_median = duration_stat['total_call_duration_min'].median()\n",
    "\n",
    "users_median_calls = (\n",
    "    calls_stat.query('calls_count >= @calls_count_median')['user_id']\n",
    "    .unique()\n",
    ")\n",
    "users_median_dur = (\n",
    "    duration_stat.query('total_call_duration_min >= @total_call_duration_median')['user_id']\n",
    "    .unique()\n",
    ")"
   ]
  },
  {
   "cell_type": "code",
   "execution_count": 69,
   "metadata": {},
   "outputs": [],
   "source": [
    "# Пересечение всех найденных пользователей\n",
    "active_users_ids = np.intersect1d(\n",
    "    np.intersect1d(\n",
    "        np.intersect1d(\n",
    "            users_3months,\n",
    "            users_median_calls),\n",
    "        users_median_dur),\n",
    "    users_november)"
   ]
  },
  {
   "cell_type": "code",
   "execution_count": 70,
   "metadata": {},
   "outputs": [
    {
     "name": "stdout",
     "output_type": "stream",
     "text": [
      "Количество активных пользователей: 100\n"
     ]
    }
   ],
   "source": [
    "print('Количество активных пользователей: {}'.format(len(active_users_ids)))"
   ]
  },
  {
   "cell_type": "code",
   "execution_count": 71,
   "metadata": {},
   "outputs": [
    {
     "name": "stdout",
     "output_type": "stream",
     "text": [
      "Доля активных пользователей от общего числа: 32.68\n"
     ]
    }
   ],
   "source": [
    "print(\n",
    "    'Доля активных пользователей от общего числа: {}'.format(\n",
    "        round(\n",
    "            100 * len(active_users_ids) / data['user_id'].nunique(), \n",
    "            2)\n",
    "    )\n",
    ")"
   ]
  },
  {
   "cell_type": "markdown",
   "metadata": {},
   "source": [
    "Из всех клиентов 100 будут считаться активными, это 32.68% от общего числа клиентов."
   ]
  },
  {
   "cell_type": "markdown",
   "metadata": {},
   "source": [
    "# 3. Анализ расходов\n",
    "\n",
    "Перейдем к анализу расходов клиентов. Для всех клиентов мы рассчитаем сумму расходов за каждый месяц по каждому из существующих тарифов.\n",
    "\n",
    "Для активных клиентов мы также определим:\n",
    "- оптимальный тариф\n",
    "- подсчитаем разницу между оптимальным и реальным тарифом\n",
    "\n",
    "На основе расчетов определим, как изменится выручка заказчика.\n",
    "\n",
    "## 3.1. Расчет затрат клиентов"
   ]
  },
  {
   "cell_type": "code",
   "execution_count": 72,
   "metadata": {},
   "outputs": [],
   "source": [
    "# Составим датафрейм с тарифной сеткой\n",
    "\n",
    "tariffs_dict = {\n",
    "    'tariff_plan': ['A', 'B', 'C'],\n",
    "    'price_month': [4000, 2000, 1000],\n",
    "    'incoming_price': [0, 0, 0],\n",
    "    'outgoing_external_price': [0.3, 0.5, 0.7],\n",
    "    'outgoing_internal_limit': [2000, 500, 0],\n",
    "    'outgoing_internal_price': [0.1, 0.15, 0.3],\n",
    "    'operator_price': [50, 150, 300]\n",
    "}\n",
    "\n",
    "tariffs = pd.DataFrame(tariffs_dict)"
   ]
  },
  {
   "cell_type": "markdown",
   "metadata": {},
   "source": [
    "Агрегируем данные клиентов по месяцам, затем для каждого месяца рассчитаем, во сколько обойдется каждый из тарифов. Данные сохраним в датафреймах."
   ]
  },
  {
   "cell_type": "code",
   "execution_count": 73,
   "metadata": {},
   "outputs": [],
   "source": [
    "costs_a = calculate_cost(calls_df=data, tariff_details=tariffs.loc[0, :])\n",
    "costs_b = calculate_cost(calls_df=data, tariff_details=tariffs.loc[1, :])\n",
    "costs_c = calculate_cost(calls_df=data, tariff_details=tariffs.loc[2, :])"
   ]
  },
  {
   "cell_type": "markdown",
   "metadata": {},
   "source": [
    "Объединим получившиеся расчеты в один датафрейм для удобства сравнения."
   ]
  },
  {
   "cell_type": "code",
   "execution_count": 74,
   "metadata": {},
   "outputs": [],
   "source": [
    "# Объединяем датафреймы\n",
    "costs_full = (\n",
    "    costs_a.merge(costs_b, on=['user_id', 'month'], suffixes=['_A', '_B'])\n",
    "    .merge(costs_c, on=['user_id', 'month'])\n",
    "    .merge(clients, on='user_id', suffixes=['', '_actual'])\n",
    "    .rename(columns={'total_cost': 'total_cost_C'})\n",
    ")\n",
    "\n",
    "# Оставим только нужные для сравнения столбцы\n",
    "costs_full = costs_full[['user_id', \n",
    "                         'month', \n",
    "                         'total_cost_A', \n",
    "                         'total_cost_B', \n",
    "                         'total_cost_C',\n",
    "                         'tariff_plan_actual']]"
   ]
  },
  {
   "cell_type": "markdown",
   "metadata": {},
   "source": [
    "## 3.2. Определение оптимальных тарифов"
   ]
  },
  {
   "cell_type": "code",
   "execution_count": 75,
   "metadata": {},
   "outputs": [],
   "source": [
    "# Выбираем среди трех стоимостей наименьшую - оптимальную\n",
    "costs_full['tariff_plan_optimal'] = (\n",
    "    costs_full[['total_cost_A', 'total_cost_B', 'total_cost_C']].idxmin(axis='columns')\n",
    "    .str[-1]\n",
    ")\n",
    "\n",
    "costs_full['cost_optimal'] = (\n",
    "    costs_full[['total_cost_A', 'total_cost_B', 'total_cost_C']].min(axis='columns')\n",
    ")\n",
    "\n",
    "# Добавляем флаг того, совпадает ли реальный тарифный план с оптимальным\n",
    "costs_full['plans_match'] = (\n",
    "    costs_full['tariff_plan_actual'] == costs_full['tariff_plan_optimal']\n",
    ")"
   ]
  },
  {
   "cell_type": "markdown",
   "metadata": {},
   "source": [
    "## 3.3. Анализ переплат активных клиентов\n",
    "\n",
    "Для активных клиентов можем подсчитать:\n",
    "- сколько раз его реальный тариф совпадал с оптимальным\n",
    "- насколько много клиент переплачивает"
   ]
  },
  {
   "cell_type": "code",
   "execution_count": 76,
   "metadata": {},
   "outputs": [
    {
     "data": {
      "text/plain": [
       "plans_match\n",
       "0.00      49\n",
       "100.00    35\n",
       "66.67      8\n",
       "75.00      3\n",
       "50.00      2\n",
       "33.33      2\n",
       "25.00      1\n",
       "Name: count, dtype: int64"
      ]
     },
     "execution_count": 76,
     "metadata": {},
     "output_type": "execute_result"
    }
   ],
   "source": [
    "users_match_plan_count = get_stat(costs_full.query('user_id in @active_users_ids'), \n",
    "                                  'user_id', \n",
    "                                  'plans_match', \n",
    "                                  'mean')\n",
    "\n",
    "users_match_plan_count['plans_match'] = round(100 * users_match_plan_count['plans_match'], 2)\n",
    "\n",
    "users_match_plan_count['plans_match'].value_counts()"
   ]
  },
  {
   "cell_type": "markdown",
   "metadata": {},
   "source": [
    "Видим, что многие активные клиенты дейстивительно переплачивают: у 49 оптимальный тариф не совпал с реальным ни разу за весь период. \n",
    "\n",
    "При этом также 35 клиентов получили 100% совпадение: все месяцы, что они работают, они используют оптимальные для себя условия.\n",
    "\n",
    "Добавим столбец с ценой, которую клиент заплатит в реальности в соответствии со своим тарифом, и подсчитаем разницу."
   ]
  },
  {
   "cell_type": "code",
   "execution_count": 77,
   "metadata": {},
   "outputs": [],
   "source": [
    "costs_full['cost_actual'] = 0\n",
    "\n",
    "costs_full.loc[costs_full['tariff_plan_actual'] == 'A', \n",
    "               'cost_actual'] = costs_full['total_cost_A']\n",
    "costs_full.loc[costs_full['tariff_plan_actual'] == 'B', \n",
    "               'cost_actual'] = costs_full['total_cost_B']\n",
    "costs_full.loc[costs_full['tariff_plan_actual'] == 'C', \n",
    "               'cost_actual'] = costs_full['total_cost_C']\n",
    "\n",
    "costs_full['overpaid'] = costs_full['cost_actual'] - costs_full['cost_optimal']"
   ]
  },
  {
   "cell_type": "code",
   "execution_count": 78,
   "metadata": {},
   "outputs": [
    {
     "data": {
      "text/plain": [
       "count     197.000000\n",
       "mean      946.122394\n",
       "std       770.093364\n",
       "min         5.616667\n",
       "25%       464.550000\n",
       "50%       699.996667\n",
       "75%      1000.000000\n",
       "max      3000.000000\n",
       "Name: overpaid, dtype: float64"
      ]
     },
     "execution_count": 78,
     "metadata": {},
     "output_type": "execute_result"
    }
   ],
   "source": [
    "costs_full.query('user_id in @active_users_ids and overpaid > 0')['overpaid'].describe()"
   ]
  },
  {
   "cell_type": "code",
   "execution_count": 79,
   "metadata": {},
   "outputs": [
    {
     "data": {
      "image/png": "[encoded data removed]",
      "text/plain": [
       "<Figure size 1200x500 with 1 Axes>"
      ]
     },
     "metadata": {},
     "output_type": "display_data"
    }
   ],
   "source": [
    "create_histplot(costs_full.query('user_id in @active_users_ids'), \n",
    "                x='overpaid', \n",
    "                bins=30, \n",
    "                title='Сумма переплаты клиентов', \n",
    "                xlabel='', \n",
    "                ylabel='', \n",
    "                figsize=(12, 5))"
   ]
  },
  {
   "cell_type": "markdown",
   "metadata": {},
   "source": [
    "Максимальная сумма переплаты клиента составила 3000 рублей, минимальная (не считая нуля) 5 рублей, медианная - 770 рублей. Очевидно, что все клиенты переплачивают по-разному, кто-то довольно существенно, а кто-то совсем чуть-чуть. Это необходимо помнить, если мы будем предлагать клиентам переход. Возможно, в случаях когда переплата мала или редка, лучше оставить клиентов как есть."
   ]
  },
  {
   "cell_type": "code",
   "execution_count": 80,
   "metadata": {},
   "outputs": [
    {
     "data": {
      "image/png": "[encoded data removed]",
      "text/plain": [
       "<Figure size 1200x500 with 1 Axes>"
      ]
     },
     "metadata": {},
     "output_type": "display_data"
    }
   ],
   "source": [
    "create_boxplots(costs_full.query('user_id in @active_users_ids'), \n",
    "                x='overpaid', \n",
    "                y='tariff_plan_actual', \n",
    "                order=['A', 'B', 'C'],\n",
    "                title='Месячная переплата у клиентов разных тарифов', \n",
    "                xlabel='', \n",
    "                ylabel='', \n",
    "                figsize=(12, 5))"
   ]
  },
  {
   "cell_type": "markdown",
   "metadata": {},
   "source": [
    "В разбивке по тарифам видно, что клиенты тарифа A переплачивают значительно больше, чем клиенты тарифов B и C."
   ]
  },
  {
   "cell_type": "markdown",
   "metadata": {},
   "source": [
    "# 4. Анализ выручки\n",
    "\n",
    "На основе расчетов из предыдущего пункта, мы можем посчитать, как изменится выручка заказчика, если клиенты примут решение об изменении тарифа.\n",
    "\n",
    "Также попробуем найти пути оптимизации потерь выручки.\n",
    "\n",
    "## 4.1. Подсчет текущей выручки\n",
    "\n",
    "Для подсчета текущей выручки мы сложим реальные затраты всех клиентов: активных и неактивных. Выручку будем считать за последние три месяца."
   ]
  },
  {
   "cell_type": "code",
   "execution_count": 81,
   "metadata": {},
   "outputs": [
    {
     "name": "stdout",
     "output_type": "stream",
     "text": [
      "Текущая выручка за 3 месяца составит 1786275.9 рублей\n"
     ]
    }
   ],
   "source": [
    "revenue_actual = round(costs_full.query('month > 8')['cost_actual'].sum(), 2)\n",
    "\n",
    "print('Текущая выручка за 3 месяца составит {} рублей'.format(revenue_actual))"
   ]
  },
  {
   "cell_type": "markdown",
   "metadata": {},
   "source": [
    "## 4.2. Подсчет потенциальной выручки (после перехода клиентов)\n",
    "\n",
    "Здесь мы для подсчета выручки с активных клиентов возьмем показатель оптимальных затрат (тех, что будут после перехода на новый тариф), а для подсчета выручки с неактивных клиентов возьмем реальные их затраты."
   ]
  },
  {
   "cell_type": "code",
   "execution_count": 82,
   "metadata": {},
   "outputs": [
    {
     "name": "stdout",
     "output_type": "stream",
     "text": [
      "Потенциальная выручка за 3 месяца составит 1633827.4300000002 рублей\n"
     ]
    }
   ],
   "source": [
    "revenue_basic = (\n",
    "    round(costs_full.query('month > 8 and user_id not in @active_users_ids')['cost_actual']\n",
    "          .sum(), 2)\n",
    ")\n",
    "\n",
    "revenue_transfered = (\n",
    "    round(costs_full.query('month > 8 and user_id in @active_users_ids')['cost_optimal'])\n",
    "    .sum()\n",
    ")\n",
    "\n",
    "revenue_opt = revenue_basic + revenue_transfered\n",
    "\n",
    "print('Потенциальная выручка за 3 месяца составит {} рублей'.format(revenue_opt))"
   ]
  },
  {
   "cell_type": "code",
   "execution_count": 83,
   "metadata": {},
   "outputs": [
    {
     "name": "stdout",
     "output_type": "stream",
     "text": [
      "Выручка упадет на 152448.47 рублей\n"
     ]
    }
   ],
   "source": [
    "revenue_loss = round(abs(revenue_opt - revenue_actual), 2)\n",
    "\n",
    "print('Выручка упадет на {} рублей'.format(revenue_loss))"
   ]
  },
  {
   "cell_type": "markdown",
   "metadata": {},
   "source": [
    "Видим, что после перехода выручка за три месяца упадет на 152 тысячи рублей. "
   ]
  },
  {
   "cell_type": "markdown",
   "metadata": {},
   "source": [
    "## 4.3. Оптимизация потерь выручки\n",
    "\n",
    "Если все клиенты перейдут на оптимальные для себя тарифы, то провайдер потеряет 155 тысяч рублей выручки.\n",
    "\n",
    "Так как мы помним, что есть клиенты, которые переплачивают редко или немного, то мы можем не переводить их на другие тарифы. Разница для них будет незначительна, и не подтолкнет их к уходу к конкурентам.\n",
    "\n",
    "Посмотрим, как изменится потеря выручки в случае, если лишь часть активных клиентов перейдет на другие условия. Попробуем два подхода:\n",
    "- перевод клиентов на новый тариф только если они переплачивают более чем в 50% случаев\n",
    "- перевод клиентов на новый тариф только если они хоть раз переплачивали сумму выше медианной\n",
    "\n",
    "А затем сравним показатели выручки."
   ]
  },
  {
   "cell_type": "code",
   "execution_count": 84,
   "metadata": {},
   "outputs": [],
   "source": [
    "users_to_transfer_1 = users_match_plan_count.query('plans_match < 50')['user_id']\n",
    "\n",
    "overpay_median = (\n",
    "    costs_full.query('user_id in @active_users_ids and overpaid > 0')['overpaid']\n",
    "    .median()\n",
    ")\n",
    "\n",
    "users_to_transfer_2 = (\n",
    "    costs_full.query('overpaid > @overpay_median and user_id in @active_users_ids')['user_id']\n",
    "    .unique()\n",
    ")"
   ]
  },
  {
   "cell_type": "code",
   "execution_count": 85,
   "metadata": {},
   "outputs": [
    {
     "data": {
      "text/plain": [
       "(52, 42)"
      ]
     },
     "execution_count": 85,
     "metadata": {},
     "output_type": "execute_result"
    }
   ],
   "source": [
    "len(users_to_transfer_1), len(users_to_transfer_2) "
   ]
  },
  {
   "cell_type": "markdown",
   "metadata": {},
   "source": [
    "С первым подходом мы затронем 54 пользователей, а со вторым - 42."
   ]
  },
  {
   "cell_type": "markdown",
   "metadata": {},
   "source": [
    "### 4.3.1. Перевод клиентов, переплачивающих часто (больше, чем в половине случаев)"
   ]
  },
  {
   "cell_type": "code",
   "execution_count": 86,
   "metadata": {},
   "outputs": [
    {
     "name": "stdout",
     "output_type": "stream",
     "text": [
      "Потенциальная выручка за 3 месяца составит 1638846.63 рублей\n"
     ]
    }
   ],
   "source": [
    "revenue_basic = (\n",
    "    round(costs_full.query('month > 8 and user_id not in @users_to_transfer_1')['cost_actual']\n",
    "          .sum(), 2)\n",
    ")\n",
    "\n",
    "revenue_transfered = (\n",
    "    round(costs_full.query('month > 8 and user_id in @users_to_transfer_1')['cost_optimal'])\n",
    "    .sum()\n",
    ")\n",
    "\n",
    "revenue_opt1 = revenue_basic + revenue_transfered\n",
    "\n",
    "print('Потенциальная выручка за 3 месяца составит {} рублей'.format(revenue_opt1))"
   ]
  },
  {
   "cell_type": "markdown",
   "metadata": {},
   "source": [
    "### 4.3.2. Перевод клиентов, переплачивающих много (больше медианного значения)"
   ]
  },
  {
   "cell_type": "code",
   "execution_count": 87,
   "metadata": {},
   "outputs": [
    {
     "name": "stdout",
     "output_type": "stream",
     "text": [
      "Потенциальная выручка за 3 месяца составит 1651475.63 рублей\n"
     ]
    }
   ],
   "source": [
    "revenue_basic = (\n",
    "    round(costs_full.query('month > 8 and user_id not in @users_to_transfer_2')['cost_actual']\n",
    "          .sum(), 2)\n",
    ")\n",
    "\n",
    "revenue_transfered = (\n",
    "    round(costs_full.query('month > 8 and user_id in @users_to_transfer_2')['cost_optimal'])\n",
    "    .sum()\n",
    ")\n",
    "\n",
    "revenue_opt2 = revenue_basic + revenue_transfered\n",
    "\n",
    "print('Потенциальная выручка за 3 месяца составит {} рублей'.format(revenue_opt2))"
   ]
  },
  {
   "cell_type": "markdown",
   "metadata": {},
   "source": [
    "В обоих вариантах мы немного сокращаем потери выручки."
   ]
  },
  {
   "cell_type": "markdown",
   "metadata": {},
   "source": [
    "## 4.4. Сравнение показателей выручки\n",
    "\n",
    "Соберем все полученные показатели выручки в один датафрейм и сравним их."
   ]
  },
  {
   "cell_type": "code",
   "execution_count": 88,
   "metadata": {},
   "outputs": [
    {
     "data": {
      "text/html": [
       "<div>\n",
       "<style scoped>\n",
       "    .dataframe tbody tr th:only-of-type {\n",
       "        vertical-align: middle;\n",
       "    }\n",
       "\n",
       "    .dataframe tbody tr th {\n",
       "        vertical-align: top;\n",
       "    }\n",
       "\n",
       "    .dataframe thead th {\n",
       "        text-align: right;\n",
       "    }\n",
       "</style>\n",
       "<table border=\"1\" class=\"dataframe\">\n",
       "  <thead>\n",
       "    <tr style=\"text-align: right;\">\n",
       "      <th></th>\n",
       "      <th>actual</th>\n",
       "      <th>optimal_full</th>\n",
       "      <th>optimal_by_months</th>\n",
       "      <th>optimal_by_overpay</th>\n",
       "    </tr>\n",
       "  </thead>\n",
       "  <tbody>\n",
       "    <tr>\n",
       "      <th>value</th>\n",
       "      <td>1786275.9</td>\n",
       "      <td>1633827.43</td>\n",
       "      <td>1638846.63</td>\n",
       "      <td>1651475.63</td>\n",
       "    </tr>\n",
       "    <tr>\n",
       "      <th>loss_abs</th>\n",
       "      <td>0.0</td>\n",
       "      <td>-152448.47</td>\n",
       "      <td>-147429.27</td>\n",
       "      <td>-134800.27</td>\n",
       "    </tr>\n",
       "    <tr>\n",
       "      <th>loss_pct</th>\n",
       "      <td>0.0</td>\n",
       "      <td>-8.53</td>\n",
       "      <td>-8.25</td>\n",
       "      <td>-7.55</td>\n",
       "    </tr>\n",
       "  </tbody>\n",
       "</table>\n",
       "</div>"
      ],
      "text/plain": [
       "             actual  optimal_full  optimal_by_months  optimal_by_overpay\n",
       "value     1786275.9    1633827.43         1638846.63          1651475.63\n",
       "loss_abs        0.0    -152448.47         -147429.27          -134800.27\n",
       "loss_pct        0.0         -8.53              -8.25               -7.55"
      ]
     },
     "execution_count": 88,
     "metadata": {},
     "output_type": "execute_result"
    }
   ],
   "source": [
    "revenue_dict = {'actual': [revenue_actual, \n",
    "                           revenue_actual-revenue_actual,\n",
    "                           round(100*(revenue_actual-revenue_actual)/revenue_actual, \n",
    "                                 2)],\n",
    "                'optimal_full': [revenue_opt, \n",
    "                                 revenue_opt-revenue_actual,\n",
    "                                 round(100*(revenue_opt-revenue_actual)/revenue_actual, \n",
    "                                       2)],\n",
    "                'optimal_by_months': [revenue_opt1, \n",
    "                                      revenue_opt1-revenue_actual,\n",
    "                                      round(100*(revenue_opt1-revenue_actual)/revenue_actual, \n",
    "                                            2)],\n",
    "                'optimal_by_overpay': [revenue_opt2, \n",
    "                                       revenue_opt2-revenue_actual,\n",
    "                                       round(100*(revenue_opt2-revenue_actual)/revenue_actual,\n",
    "                                             2)]}\n",
    "\n",
    "revenue = pd.DataFrame(revenue_dict, index=['value', 'loss_abs', 'loss_pct'])\n",
    "\n",
    "revenue"
   ]
  },
  {
   "cell_type": "markdown",
   "metadata": {},
   "source": [
    "Если мы не будем никак оптимизировать затраты клиентов, то наша базовая выручка за три месяца составит 1.79 млн.рублей.\n",
    "\n",
    "Если мы переведем на оптимальные тарифы всех активных клиентов, то наша выручка за три месяца составит 1.63 млн.рублей, на 8.53% меньше базовой.\n",
    "\n",
    "Если мы переведем на оптимальные тарифы только тех клиентов, которые переплачивали в 50% всего периода работы или чаще, то наша выручка за три месяца составит 1.64 млн.рублей, на 8.25% меньше базовой.\n",
    "\n",
    "Если мы переведем на оптимальные тарифы пользователей, которые переплачивали много, выше медианного показателя, то наша выручка за три месяца составит 1.65 млн.рублей, на 7.55% меньше от базовой.\n",
    "\n",
    "Если сравнивать вышеперечисленные подходы, то последний кажется более выигрышным для нас."
   ]
  },
  {
   "cell_type": "markdown",
   "metadata": {},
   "source": [
    "# 5. Выводы и предложения\n",
    "\n",
    "В ходе проекта были исследованы данные об использовании услуг телефонии за период со 2 августа до 28 ноября 2019 года.\n",
    "\n",
    "Согласно данным самый популярный у клиентов тариф - это тариф C, им пользуется 161 клиент. Второй по популярности тариф B, им пользуются 112 человек. Тариф A на последнем месте, им пользуются 33 клиента.\n",
    "\n",
    "Профили пользователей и их статистика использования услуг отличаются по тарифам. Пользователи тарифа A в среднем (в качестве среднего здесь используем медианное значение) совершают звонков 150 в месяц, пользователи тарифа B - 96 звонков в месяц. Пользователи тарифа C - 38 звонков в месяц.\n",
    "\n",
    "Медианная месячная длительность звонков на тарифе A равна 172 минуты, на тарифе B - 87 минуты, на тарифе C - 39 минут.\n",
    "\n",
    "Таким образом, клиенты тарифа A пользуются услугами гораздо активнее клиентов других тарифов.\n",
    "\n",
    "После исследовательского анализа данных были сформированы критерии активных клиентов:\n",
    "- клиент пользуется услугами провайдера минимум 3 месяца за исследуемый период, в том числе последний месяц\n",
    "- у клиента есть работающие операторы (мы видели, что это не всегда так)\n",
    "- количество и длительность звонков выше медианных показателей\n",
    "\n",
    "По этим критериям мы получили выборку из 100 активных клиентов. Для них был проведен анализ оптимальности их затрат. По итогам выяснилось, что клиенты используют тарифную сетку неоптимально:\n",
    "- 49 клиентов (почти половина всех активных) переплачивал каждый месяц использования услуг\n",
    "- медианная сумма переплаты составила 770 рублей в месяц\n",
    "\n",
    "После расчета оптимальных затрат была также пересчитана суммарная выручка провайдера за 3 месяца:\n",
    "- посчитана базовая выручка (в случае, когда клиенты остаются на своих текущих тарифах)\n",
    "- посчитана выручка на случай, если все активные клиенты сменят тариф на оптимальный\n",
    "- посчитана выручка на случай, если только те активные клиенты, которые переплачивают часто, сменят тариф на оптимальный\n",
    "- посчитана выручка на случай, если только те активные клиенты, которые переплачивают много, сменят тариф на оптимальный\n",
    "\n",
    "В результате сравнения этих четырех показателей, получилась такая таблица:\n",
    "\n",
    "||Показатель, руб.|Потеря, руб.|Потеря, % от Базовой выручки|\n",
    "|---|---|---|---|\n",
    "|Базовая выручка|1.79 млн.|0|0|\n",
    "|Выручка, полный перевод|1.63 млн.|155 тыс.|8.53|\n",
    "|Выручка, перевод на основе частоты переплат|1.64 млн.|150 тыс.|8.25|\n",
    "|**Выручка, перевод на основе суммы переплат**|**1.65 млн.**|**136 тыс.**|**7.55**|\n",
    "\n",
    "Если сравнивать вышеперечисленные подходы, то последний кажется более выигрышным для нас."
   ]
  },
  {
   "cell_type": "code",
   "execution_count": null,
   "metadata": {},
   "outputs": [],
   "source": []
  }
 ],
 "metadata": {
  "ExecuteTimeLog": [
   {
    "duration": 1519,
    "start_time": "2023-06-19T11:56:11.216Z"
   },
   {
    "duration": 182,
    "start_time": "2023-06-19T12:10:34.140Z"
   },
   {
    "duration": 4,
    "start_time": "2023-06-19T12:21:19.088Z"
   },
   {
    "duration": 6,
    "start_time": "2023-06-19T12:21:19.095Z"
   },
   {
    "duration": 11,
    "start_time": "2023-06-19T12:21:19.103Z"
   },
   {
    "duration": 10,
    "start_time": "2023-06-19T12:21:19.117Z"
   },
   {
    "duration": 16,
    "start_time": "2023-06-19T12:21:19.131Z"
   },
   {
    "duration": 43,
    "start_time": "2023-06-19T12:21:19.149Z"
   },
   {
    "duration": 20,
    "start_time": "2023-06-19T12:21:19.194Z"
   },
   {
    "duration": 26,
    "start_time": "2023-06-19T12:21:19.216Z"
   },
   {
    "duration": 467,
    "start_time": "2023-06-19T12:21:19.244Z"
   },
   {
    "duration": 19,
    "start_time": "2023-06-19T12:21:19.712Z"
   },
   {
    "duration": 18,
    "start_time": "2023-06-19T12:21:19.735Z"
   },
   {
    "duration": 26,
    "start_time": "2023-06-19T12:21:19.755Z"
   },
   {
    "duration": 9,
    "start_time": "2023-06-19T12:21:19.783Z"
   },
   {
    "duration": 38,
    "start_time": "2023-06-19T12:21:19.794Z"
   },
   {
    "duration": 6,
    "start_time": "2023-06-19T12:21:19.835Z"
   },
   {
    "duration": 62,
    "start_time": "2023-06-19T12:21:19.842Z"
   },
   {
    "duration": 31,
    "start_time": "2023-06-19T12:21:19.905Z"
   },
   {
    "duration": 52,
    "start_time": "2023-06-19T12:21:19.937Z"
   },
   {
    "duration": 9,
    "start_time": "2023-06-19T12:21:19.990Z"
   },
   {
    "duration": 17,
    "start_time": "2023-06-19T12:21:20.000Z"
   },
   {
    "duration": 25,
    "start_time": "2023-06-19T12:21:20.018Z"
   },
   {
    "duration": 16,
    "start_time": "2023-06-19T12:21:20.045Z"
   },
   {
    "duration": 6,
    "start_time": "2023-06-19T12:21:20.063Z"
   },
   {
    "duration": 17,
    "start_time": "2023-06-19T12:21:20.071Z"
   },
   {
    "duration": 6,
    "start_time": "2023-06-19T12:21:20.090Z"
   },
   {
    "duration": 10,
    "start_time": "2023-06-19T12:21:20.098Z"
   },
   {
    "duration": 20,
    "start_time": "2023-06-19T12:21:20.109Z"
   },
   {
    "duration": 25,
    "start_time": "2023-06-19T12:21:20.162Z"
   },
   {
    "duration": 6,
    "start_time": "2023-06-19T12:21:20.190Z"
   },
   {
    "duration": 23,
    "start_time": "2023-06-19T12:21:20.198Z"
   },
   {
    "duration": 17,
    "start_time": "2023-06-19T12:21:20.223Z"
   },
   {
    "duration": 34,
    "start_time": "2023-06-19T12:21:20.242Z"
   },
   {
    "duration": 15,
    "start_time": "2023-06-19T12:21:20.282Z"
   },
   {
    "duration": 208,
    "start_time": "2023-06-19T12:21:20.299Z"
   },
   {
    "duration": 0,
    "start_time": "2023-06-19T12:21:20.509Z"
   },
   {
    "duration": 0,
    "start_time": "2023-06-19T12:21:20.511Z"
   },
   {
    "duration": 0,
    "start_time": "2023-06-19T12:21:20.512Z"
   },
   {
    "duration": 0,
    "start_time": "2023-06-19T12:21:20.513Z"
   },
   {
    "duration": 0,
    "start_time": "2023-06-19T12:21:20.515Z"
   },
   {
    "duration": 0,
    "start_time": "2023-06-19T12:21:20.516Z"
   },
   {
    "duration": 1,
    "start_time": "2023-06-19T12:21:20.517Z"
   },
   {
    "duration": 0,
    "start_time": "2023-06-19T12:21:20.518Z"
   },
   {
    "duration": 0,
    "start_time": "2023-06-19T12:21:20.520Z"
   },
   {
    "duration": 0,
    "start_time": "2023-06-19T12:21:20.520Z"
   },
   {
    "duration": 0,
    "start_time": "2023-06-19T12:21:20.521Z"
   },
   {
    "duration": 0,
    "start_time": "2023-06-19T12:21:20.522Z"
   },
   {
    "duration": 0,
    "start_time": "2023-06-19T12:21:20.523Z"
   },
   {
    "duration": 0,
    "start_time": "2023-06-19T12:21:20.524Z"
   },
   {
    "duration": 0,
    "start_time": "2023-06-19T12:21:20.525Z"
   },
   {
    "duration": 0,
    "start_time": "2023-06-19T12:21:20.526Z"
   },
   {
    "duration": 0,
    "start_time": "2023-06-19T12:21:20.561Z"
   },
   {
    "duration": 0,
    "start_time": "2023-06-19T12:21:20.561Z"
   },
   {
    "duration": 0,
    "start_time": "2023-06-19T12:21:20.562Z"
   },
   {
    "duration": 0,
    "start_time": "2023-06-19T12:21:20.563Z"
   },
   {
    "duration": 0,
    "start_time": "2023-06-19T12:21:20.566Z"
   },
   {
    "duration": 0,
    "start_time": "2023-06-19T12:21:20.566Z"
   },
   {
    "duration": 0,
    "start_time": "2023-06-19T12:21:20.567Z"
   },
   {
    "duration": 0,
    "start_time": "2023-06-19T12:21:20.568Z"
   },
   {
    "duration": 0,
    "start_time": "2023-06-19T12:21:20.569Z"
   },
   {
    "duration": 0,
    "start_time": "2023-06-19T12:21:20.570Z"
   },
   {
    "duration": 0,
    "start_time": "2023-06-19T12:21:20.570Z"
   },
   {
    "duration": 0,
    "start_time": "2023-06-19T12:21:20.571Z"
   },
   {
    "duration": 0,
    "start_time": "2023-06-19T12:21:20.572Z"
   },
   {
    "duration": 0,
    "start_time": "2023-06-19T12:21:20.573Z"
   },
   {
    "duration": 0,
    "start_time": "2023-06-19T12:21:20.573Z"
   },
   {
    "duration": 0,
    "start_time": "2023-06-19T12:21:20.574Z"
   },
   {
    "duration": 0,
    "start_time": "2023-06-19T12:21:20.578Z"
   },
   {
    "duration": 0,
    "start_time": "2023-06-19T12:21:20.579Z"
   },
   {
    "duration": 0,
    "start_time": "2023-06-19T12:21:20.580Z"
   },
   {
    "duration": 0,
    "start_time": "2023-06-19T12:21:20.581Z"
   },
   {
    "duration": 0,
    "start_time": "2023-06-19T12:21:20.581Z"
   },
   {
    "duration": 0,
    "start_time": "2023-06-19T12:21:20.582Z"
   },
   {
    "duration": 0,
    "start_time": "2023-06-19T12:21:20.583Z"
   },
   {
    "duration": 0,
    "start_time": "2023-06-19T12:21:20.584Z"
   },
   {
    "duration": 0,
    "start_time": "2023-06-19T12:21:20.585Z"
   },
   {
    "duration": 0,
    "start_time": "2023-06-19T12:21:20.586Z"
   },
   {
    "duration": 0,
    "start_time": "2023-06-19T12:21:20.586Z"
   },
   {
    "duration": 0,
    "start_time": "2023-06-19T12:21:20.588Z"
   },
   {
    "duration": 0,
    "start_time": "2023-06-19T12:21:20.589Z"
   },
   {
    "duration": 0,
    "start_time": "2023-06-19T12:21:20.589Z"
   },
   {
    "duration": 0,
    "start_time": "2023-06-19T12:21:20.591Z"
   },
   {
    "duration": 0,
    "start_time": "2023-06-19T12:21:20.592Z"
   },
   {
    "duration": 0,
    "start_time": "2023-06-19T12:21:20.593Z"
   },
   {
    "duration": 0,
    "start_time": "2023-06-19T12:21:20.594Z"
   },
   {
    "duration": 0,
    "start_time": "2023-06-19T12:21:20.595Z"
   },
   {
    "duration": 444,
    "start_time": "2023-06-19T12:22:25.986Z"
   },
   {
    "duration": 1227,
    "start_time": "2023-06-19T12:22:41.681Z"
   },
   {
    "duration": 3,
    "start_time": "2023-06-19T12:22:42.910Z"
   },
   {
    "duration": 26,
    "start_time": "2023-06-19T12:22:42.915Z"
   },
   {
    "duration": 22,
    "start_time": "2023-06-19T12:22:42.943Z"
   },
   {
    "duration": 12,
    "start_time": "2023-06-19T12:22:42.972Z"
   },
   {
    "duration": 15,
    "start_time": "2023-06-19T12:22:42.986Z"
   },
   {
    "duration": 14,
    "start_time": "2023-06-19T12:22:43.003Z"
   },
   {
    "duration": 32,
    "start_time": "2023-06-19T12:22:43.019Z"
   },
   {
    "duration": 357,
    "start_time": "2023-06-19T12:22:43.053Z"
   },
   {
    "duration": 18,
    "start_time": "2023-06-19T12:22:43.412Z"
   },
   {
    "duration": 14,
    "start_time": "2023-06-19T12:22:43.432Z"
   },
   {
    "duration": 22,
    "start_time": "2023-06-19T12:22:43.448Z"
   },
   {
    "duration": 20,
    "start_time": "2023-06-19T12:22:43.473Z"
   },
   {
    "duration": 12,
    "start_time": "2023-06-19T12:22:43.496Z"
   },
   {
    "duration": 6,
    "start_time": "2023-06-19T12:22:43.510Z"
   },
   {
    "duration": 69,
    "start_time": "2023-06-19T12:22:43.518Z"
   },
   {
    "duration": 31,
    "start_time": "2023-06-19T12:22:43.589Z"
   },
   {
    "duration": 43,
    "start_time": "2023-06-19T12:22:43.621Z"
   },
   {
    "duration": 18,
    "start_time": "2023-06-19T12:22:43.666Z"
   },
   {
    "duration": 17,
    "start_time": "2023-06-19T12:22:43.685Z"
   },
   {
    "duration": 17,
    "start_time": "2023-06-19T12:22:43.703Z"
   },
   {
    "duration": 9,
    "start_time": "2023-06-19T12:22:43.722Z"
   },
   {
    "duration": 41,
    "start_time": "2023-06-19T12:22:43.733Z"
   },
   {
    "duration": 17,
    "start_time": "2023-06-19T12:22:43.783Z"
   },
   {
    "duration": 10,
    "start_time": "2023-06-19T12:22:43.801Z"
   },
   {
    "duration": 6,
    "start_time": "2023-06-19T12:22:43.813Z"
   },
   {
    "duration": 7,
    "start_time": "2023-06-19T12:22:43.821Z"
   },
   {
    "duration": 9,
    "start_time": "2023-06-19T12:22:43.830Z"
   },
   {
    "duration": 24,
    "start_time": "2023-06-19T12:22:43.841Z"
   },
   {
    "duration": 25,
    "start_time": "2023-06-19T12:22:43.879Z"
   },
   {
    "duration": 13,
    "start_time": "2023-06-19T12:22:43.906Z"
   },
   {
    "duration": 15,
    "start_time": "2023-06-19T12:22:43.921Z"
   },
   {
    "duration": 39,
    "start_time": "2023-06-19T12:22:43.938Z"
   },
   {
    "duration": 427,
    "start_time": "2023-06-19T12:22:43.986Z"
   },
   {
    "duration": 9,
    "start_time": "2023-06-19T12:22:44.415Z"
   },
   {
    "duration": 39,
    "start_time": "2023-06-19T12:22:44.426Z"
   },
   {
    "duration": 291,
    "start_time": "2023-06-19T12:22:44.468Z"
   },
   {
    "duration": 0,
    "start_time": "2023-06-19T12:22:44.763Z"
   },
   {
    "duration": 0,
    "start_time": "2023-06-19T12:22:44.764Z"
   },
   {
    "duration": 0,
    "start_time": "2023-06-19T12:22:44.765Z"
   },
   {
    "duration": 0,
    "start_time": "2023-06-19T12:22:44.766Z"
   },
   {
    "duration": 0,
    "start_time": "2023-06-19T12:22:44.767Z"
   },
   {
    "duration": 0,
    "start_time": "2023-06-19T12:22:44.768Z"
   },
   {
    "duration": 0,
    "start_time": "2023-06-19T12:22:44.769Z"
   },
   {
    "duration": 0,
    "start_time": "2023-06-19T12:22:44.770Z"
   },
   {
    "duration": 0,
    "start_time": "2023-06-19T12:22:44.771Z"
   },
   {
    "duration": 0,
    "start_time": "2023-06-19T12:22:44.772Z"
   },
   {
    "duration": 0,
    "start_time": "2023-06-19T12:22:44.772Z"
   },
   {
    "duration": 0,
    "start_time": "2023-06-19T12:22:44.773Z"
   },
   {
    "duration": 0,
    "start_time": "2023-06-19T12:22:44.774Z"
   },
   {
    "duration": 0,
    "start_time": "2023-06-19T12:22:44.775Z"
   },
   {
    "duration": 0,
    "start_time": "2023-06-19T12:22:44.776Z"
   },
   {
    "duration": 0,
    "start_time": "2023-06-19T12:22:44.776Z"
   },
   {
    "duration": 0,
    "start_time": "2023-06-19T12:22:44.777Z"
   },
   {
    "duration": 0,
    "start_time": "2023-06-19T12:22:44.778Z"
   },
   {
    "duration": 0,
    "start_time": "2023-06-19T12:22:44.784Z"
   },
   {
    "duration": 0,
    "start_time": "2023-06-19T12:22:44.784Z"
   },
   {
    "duration": 0,
    "start_time": "2023-06-19T12:22:44.785Z"
   },
   {
    "duration": 0,
    "start_time": "2023-06-19T12:22:44.786Z"
   },
   {
    "duration": 0,
    "start_time": "2023-06-19T12:22:44.787Z"
   },
   {
    "duration": 0,
    "start_time": "2023-06-19T12:22:44.787Z"
   },
   {
    "duration": 0,
    "start_time": "2023-06-19T12:22:44.790Z"
   },
   {
    "duration": 0,
    "start_time": "2023-06-19T12:22:44.791Z"
   },
   {
    "duration": 0,
    "start_time": "2023-06-19T12:22:44.792Z"
   },
   {
    "duration": 0,
    "start_time": "2023-06-19T12:22:44.794Z"
   },
   {
    "duration": 0,
    "start_time": "2023-06-19T12:22:44.794Z"
   },
   {
    "duration": 0,
    "start_time": "2023-06-19T12:22:44.795Z"
   },
   {
    "duration": 0,
    "start_time": "2023-06-19T12:22:44.796Z"
   },
   {
    "duration": 0,
    "start_time": "2023-06-19T12:22:44.797Z"
   },
   {
    "duration": 0,
    "start_time": "2023-06-19T12:22:44.798Z"
   },
   {
    "duration": 0,
    "start_time": "2023-06-19T12:22:44.799Z"
   },
   {
    "duration": 0,
    "start_time": "2023-06-19T12:22:44.800Z"
   },
   {
    "duration": 0,
    "start_time": "2023-06-19T12:22:44.801Z"
   },
   {
    "duration": 0,
    "start_time": "2023-06-19T12:22:44.802Z"
   },
   {
    "duration": 0,
    "start_time": "2023-06-19T12:22:44.803Z"
   },
   {
    "duration": 0,
    "start_time": "2023-06-19T12:22:44.804Z"
   },
   {
    "duration": 0,
    "start_time": "2023-06-19T12:22:44.805Z"
   },
   {
    "duration": 0,
    "start_time": "2023-06-19T12:22:44.806Z"
   },
   {
    "duration": 0,
    "start_time": "2023-06-19T12:22:44.808Z"
   },
   {
    "duration": 0,
    "start_time": "2023-06-19T12:22:44.862Z"
   },
   {
    "duration": 0,
    "start_time": "2023-06-19T12:22:44.866Z"
   },
   {
    "duration": 0,
    "start_time": "2023-06-19T12:22:44.867Z"
   },
   {
    "duration": 0,
    "start_time": "2023-06-19T12:22:44.868Z"
   },
   {
    "duration": 0,
    "start_time": "2023-06-19T12:22:44.869Z"
   },
   {
    "duration": 0,
    "start_time": "2023-06-19T12:22:44.869Z"
   },
   {
    "duration": 1257,
    "start_time": "2023-06-19T12:23:09.423Z"
   },
   {
    "duration": 3,
    "start_time": "2023-06-19T12:23:10.682Z"
   },
   {
    "duration": 16,
    "start_time": "2023-06-19T12:23:10.687Z"
   },
   {
    "duration": 9,
    "start_time": "2023-06-19T12:23:10.705Z"
   },
   {
    "duration": 13,
    "start_time": "2023-06-19T12:23:10.716Z"
   },
   {
    "duration": 9,
    "start_time": "2023-06-19T12:23:10.731Z"
   },
   {
    "duration": 20,
    "start_time": "2023-06-19T12:23:10.756Z"
   },
   {
    "duration": 6,
    "start_time": "2023-06-19T12:23:10.778Z"
   },
   {
    "duration": 394,
    "start_time": "2023-06-19T12:23:10.785Z"
   },
   {
    "duration": 27,
    "start_time": "2023-06-19T12:23:11.183Z"
   },
   {
    "duration": 20,
    "start_time": "2023-06-19T12:23:11.212Z"
   },
   {
    "duration": 25,
    "start_time": "2023-06-19T12:23:11.234Z"
   },
   {
    "duration": 10,
    "start_time": "2023-06-19T12:23:11.267Z"
   },
   {
    "duration": 16,
    "start_time": "2023-06-19T12:23:11.279Z"
   },
   {
    "duration": 7,
    "start_time": "2023-06-19T12:23:11.298Z"
   },
   {
    "duration": 109,
    "start_time": "2023-06-19T12:23:11.308Z"
   },
   {
    "duration": 65,
    "start_time": "2023-06-19T12:23:11.420Z"
   },
   {
    "duration": 28,
    "start_time": "2023-06-19T12:23:11.487Z"
   },
   {
    "duration": 12,
    "start_time": "2023-06-19T12:23:11.517Z"
   },
   {
    "duration": 44,
    "start_time": "2023-06-19T12:23:11.532Z"
   },
   {
    "duration": 18,
    "start_time": "2023-06-19T12:23:11.578Z"
   },
   {
    "duration": 11,
    "start_time": "2023-06-19T12:23:11.598Z"
   },
   {
    "duration": 5,
    "start_time": "2023-06-19T12:23:11.611Z"
   },
   {
    "duration": 56,
    "start_time": "2023-06-19T12:23:11.618Z"
   },
   {
    "duration": 7,
    "start_time": "2023-06-19T12:23:11.679Z"
   },
   {
    "duration": 11,
    "start_time": "2023-06-19T12:23:11.688Z"
   },
   {
    "duration": 16,
    "start_time": "2023-06-19T12:23:11.701Z"
   },
   {
    "duration": 12,
    "start_time": "2023-06-19T12:23:11.723Z"
   },
   {
    "duration": 7,
    "start_time": "2023-06-19T12:23:11.736Z"
   },
   {
    "duration": 26,
    "start_time": "2023-06-19T12:23:11.759Z"
   },
   {
    "duration": 15,
    "start_time": "2023-06-19T12:23:11.787Z"
   },
   {
    "duration": 12,
    "start_time": "2023-06-19T12:23:11.804Z"
   },
   {
    "duration": 55,
    "start_time": "2023-06-19T12:23:11.818Z"
   },
   {
    "duration": 411,
    "start_time": "2023-06-19T12:23:11.875Z"
   },
   {
    "duration": 8,
    "start_time": "2023-06-19T12:23:12.288Z"
   },
   {
    "duration": 15,
    "start_time": "2023-06-19T12:23:12.298Z"
   },
   {
    "duration": 494,
    "start_time": "2023-06-19T12:23:12.315Z"
   },
   {
    "duration": 12,
    "start_time": "2023-06-19T12:23:12.812Z"
   },
   {
    "duration": 44,
    "start_time": "2023-06-19T12:23:12.826Z"
   },
   {
    "duration": 20,
    "start_time": "2023-06-19T12:23:12.871Z"
   },
   {
    "duration": 285,
    "start_time": "2023-06-19T12:23:12.893Z"
   },
   {
    "duration": 0,
    "start_time": "2023-06-19T12:23:13.181Z"
   },
   {
    "duration": 0,
    "start_time": "2023-06-19T12:23:13.182Z"
   },
   {
    "duration": 0,
    "start_time": "2023-06-19T12:23:13.184Z"
   },
   {
    "duration": 0,
    "start_time": "2023-06-19T12:23:13.185Z"
   },
   {
    "duration": 0,
    "start_time": "2023-06-19T12:23:13.186Z"
   },
   {
    "duration": 0,
    "start_time": "2023-06-19T12:23:13.187Z"
   },
   {
    "duration": 0,
    "start_time": "2023-06-19T12:23:13.189Z"
   },
   {
    "duration": 0,
    "start_time": "2023-06-19T12:23:13.190Z"
   },
   {
    "duration": 0,
    "start_time": "2023-06-19T12:23:13.191Z"
   },
   {
    "duration": 0,
    "start_time": "2023-06-19T12:23:13.192Z"
   },
   {
    "duration": 0,
    "start_time": "2023-06-19T12:23:13.193Z"
   },
   {
    "duration": 0,
    "start_time": "2023-06-19T12:23:13.194Z"
   },
   {
    "duration": 0,
    "start_time": "2023-06-19T12:23:13.195Z"
   },
   {
    "duration": 0,
    "start_time": "2023-06-19T12:23:13.196Z"
   },
   {
    "duration": 0,
    "start_time": "2023-06-19T12:23:13.197Z"
   },
   {
    "duration": 0,
    "start_time": "2023-06-19T12:23:13.198Z"
   },
   {
    "duration": 0,
    "start_time": "2023-06-19T12:23:13.199Z"
   },
   {
    "duration": 0,
    "start_time": "2023-06-19T12:23:13.200Z"
   },
   {
    "duration": 0,
    "start_time": "2023-06-19T12:23:13.201Z"
   },
   {
    "duration": 0,
    "start_time": "2023-06-19T12:23:13.202Z"
   },
   {
    "duration": 0,
    "start_time": "2023-06-19T12:23:13.204Z"
   },
   {
    "duration": 0,
    "start_time": "2023-06-19T12:23:13.206Z"
   },
   {
    "duration": 0,
    "start_time": "2023-06-19T12:23:13.207Z"
   },
   {
    "duration": 0,
    "start_time": "2023-06-19T12:23:13.208Z"
   },
   {
    "duration": 0,
    "start_time": "2023-06-19T12:23:13.259Z"
   },
   {
    "duration": 0,
    "start_time": "2023-06-19T12:23:13.259Z"
   },
   {
    "duration": 0,
    "start_time": "2023-06-19T12:23:13.260Z"
   },
   {
    "duration": 0,
    "start_time": "2023-06-19T12:23:13.261Z"
   },
   {
    "duration": 0,
    "start_time": "2023-06-19T12:23:13.262Z"
   },
   {
    "duration": 0,
    "start_time": "2023-06-19T12:23:13.263Z"
   },
   {
    "duration": 0,
    "start_time": "2023-06-19T12:23:13.278Z"
   },
   {
    "duration": 0,
    "start_time": "2023-06-19T12:23:13.278Z"
   },
   {
    "duration": 0,
    "start_time": "2023-06-19T12:23:13.279Z"
   },
   {
    "duration": 0,
    "start_time": "2023-06-19T12:23:13.280Z"
   },
   {
    "duration": 0,
    "start_time": "2023-06-19T12:23:13.280Z"
   },
   {
    "duration": 0,
    "start_time": "2023-06-19T12:23:13.281Z"
   },
   {
    "duration": 0,
    "start_time": "2023-06-19T12:23:13.282Z"
   },
   {
    "duration": 0,
    "start_time": "2023-06-19T12:23:13.282Z"
   },
   {
    "duration": 0,
    "start_time": "2023-06-19T12:23:13.283Z"
   },
   {
    "duration": 0,
    "start_time": "2023-06-19T12:23:13.286Z"
   },
   {
    "duration": 0,
    "start_time": "2023-06-19T12:23:13.286Z"
   },
   {
    "duration": 0,
    "start_time": "2023-06-19T12:23:13.288Z"
   },
   {
    "duration": 0,
    "start_time": "2023-06-19T12:23:13.289Z"
   },
   {
    "duration": 0,
    "start_time": "2023-06-19T12:23:13.290Z"
   },
   {
    "duration": 1971,
    "start_time": "2023-06-19T12:25:51.210Z"
   },
   {
    "duration": 772,
    "start_time": "2023-06-19T12:26:04.750Z"
   },
   {
    "duration": 7,
    "start_time": "2023-06-19T12:27:36.139Z"
   },
   {
    "duration": 20,
    "start_time": "2023-06-19T12:27:42.515Z"
   },
   {
    "duration": 1301,
    "start_time": "2023-06-19T12:27:45.114Z"
   },
   {
    "duration": 5,
    "start_time": "2023-06-19T12:27:46.418Z"
   },
   {
    "duration": 14,
    "start_time": "2023-06-19T12:27:46.425Z"
   },
   {
    "duration": 8,
    "start_time": "2023-06-19T12:27:46.441Z"
   },
   {
    "duration": 19,
    "start_time": "2023-06-19T12:27:46.452Z"
   },
   {
    "duration": 31,
    "start_time": "2023-06-19T12:27:46.474Z"
   },
   {
    "duration": 17,
    "start_time": "2023-06-19T12:27:46.508Z"
   },
   {
    "duration": 13,
    "start_time": "2023-06-19T12:27:46.527Z"
   },
   {
    "duration": 409,
    "start_time": "2023-06-19T12:27:46.542Z"
   },
   {
    "duration": 25,
    "start_time": "2023-06-19T12:27:46.953Z"
   },
   {
    "duration": 28,
    "start_time": "2023-06-19T12:27:46.980Z"
   },
   {
    "duration": 12,
    "start_time": "2023-06-19T12:27:47.010Z"
   },
   {
    "duration": 14,
    "start_time": "2023-06-19T12:27:47.024Z"
   },
   {
    "duration": 53,
    "start_time": "2023-06-19T12:27:47.043Z"
   },
   {
    "duration": 19,
    "start_time": "2023-06-19T12:27:47.098Z"
   },
   {
    "duration": 71,
    "start_time": "2023-06-19T12:27:47.119Z"
   },
   {
    "duration": 39,
    "start_time": "2023-06-19T12:27:47.193Z"
   },
   {
    "duration": 40,
    "start_time": "2023-06-19T12:27:47.234Z"
   },
   {
    "duration": 10,
    "start_time": "2023-06-19T12:27:47.276Z"
   },
   {
    "duration": 32,
    "start_time": "2023-06-19T12:27:47.288Z"
   },
   {
    "duration": 24,
    "start_time": "2023-06-19T12:27:47.322Z"
   },
   {
    "duration": 38,
    "start_time": "2023-06-19T12:27:47.348Z"
   },
   {
    "duration": 23,
    "start_time": "2023-06-19T12:27:47.391Z"
   },
   {
    "duration": 21,
    "start_time": "2023-06-19T12:27:47.416Z"
   },
   {
    "duration": 9,
    "start_time": "2023-06-19T12:27:47.439Z"
   },
   {
    "duration": 13,
    "start_time": "2023-06-19T12:27:47.450Z"
   },
   {
    "duration": 13,
    "start_time": "2023-06-19T12:27:47.465Z"
   },
   {
    "duration": 29,
    "start_time": "2023-06-19T12:27:47.481Z"
   },
   {
    "duration": 9,
    "start_time": "2023-06-19T12:27:47.514Z"
   },
   {
    "duration": 59,
    "start_time": "2023-06-19T12:27:47.525Z"
   },
   {
    "duration": 21,
    "start_time": "2023-06-19T12:27:47.586Z"
   },
   {
    "duration": 10,
    "start_time": "2023-06-19T12:27:47.609Z"
   },
   {
    "duration": 19,
    "start_time": "2023-06-19T12:27:47.621Z"
   },
   {
    "duration": 502,
    "start_time": "2023-06-19T12:27:47.641Z"
   },
   {
    "duration": 24,
    "start_time": "2023-06-19T12:27:48.156Z"
   },
   {
    "duration": 22,
    "start_time": "2023-06-19T12:27:48.188Z"
   },
   {
    "duration": 550,
    "start_time": "2023-06-19T12:27:48.212Z"
   },
   {
    "duration": 20,
    "start_time": "2023-06-19T12:27:48.763Z"
   },
   {
    "duration": 40,
    "start_time": "2023-06-19T12:27:48.785Z"
   },
   {
    "duration": 21,
    "start_time": "2023-06-19T12:27:48.827Z"
   },
   {
    "duration": 212,
    "start_time": "2023-06-19T12:27:48.855Z"
   },
   {
    "duration": 108,
    "start_time": "2023-06-19T12:27:49.069Z"
   },
   {
    "duration": 213,
    "start_time": "2023-06-19T12:27:49.180Z"
   },
   {
    "duration": 34,
    "start_time": "2023-06-19T12:27:49.395Z"
   },
   {
    "duration": 348,
    "start_time": "2023-06-19T12:27:49.432Z"
   },
   {
    "duration": 229,
    "start_time": "2023-06-19T12:27:49.789Z"
   },
   {
    "duration": 23,
    "start_time": "2023-06-19T12:27:50.020Z"
   },
   {
    "duration": 221,
    "start_time": "2023-06-19T12:27:50.046Z"
   },
   {
    "duration": 25,
    "start_time": "2023-06-19T12:27:50.273Z"
   },
   {
    "duration": 235,
    "start_time": "2023-06-19T12:27:50.301Z"
   },
   {
    "duration": 339,
    "start_time": "2023-06-19T12:27:50.538Z"
   },
   {
    "duration": 25,
    "start_time": "2023-06-19T12:27:50.879Z"
   },
   {
    "duration": 265,
    "start_time": "2023-06-19T12:27:50.906Z"
   },
   {
    "duration": 238,
    "start_time": "2023-06-19T12:27:51.173Z"
   },
   {
    "duration": 11,
    "start_time": "2023-06-19T12:27:51.414Z"
   },
   {
    "duration": 206,
    "start_time": "2023-06-19T12:27:51.427Z"
   },
   {
    "duration": 25,
    "start_time": "2023-06-19T12:27:51.635Z"
   },
   {
    "duration": 182,
    "start_time": "2023-06-19T12:27:51.661Z"
   },
   {
    "duration": 230,
    "start_time": "2023-06-19T12:27:51.845Z"
   },
   {
    "duration": 1121,
    "start_time": "2023-06-19T12:27:52.079Z"
   },
   {
    "duration": 319,
    "start_time": "2023-06-19T12:27:53.206Z"
   },
   {
    "duration": 254,
    "start_time": "2023-06-19T12:27:53.528Z"
   },
   {
    "duration": 280,
    "start_time": "2023-06-19T12:27:53.784Z"
   },
   {
    "duration": 63,
    "start_time": "2023-06-19T12:27:54.069Z"
   },
   {
    "duration": 13,
    "start_time": "2023-06-19T12:27:54.134Z"
   },
   {
    "duration": 26,
    "start_time": "2023-06-19T12:27:54.149Z"
   },
   {
    "duration": 19,
    "start_time": "2023-06-19T12:27:54.179Z"
   },
   {
    "duration": 1296,
    "start_time": "2023-06-19T12:27:54.200Z"
   },
   {
    "duration": 25,
    "start_time": "2023-06-19T12:27:55.498Z"
   },
   {
    "duration": 15,
    "start_time": "2023-06-19T12:27:55.527Z"
   },
   {
    "duration": 37,
    "start_time": "2023-06-19T12:27:55.564Z"
   },
   {
    "duration": 12,
    "start_time": "2023-06-19T12:27:55.605Z"
   },
   {
    "duration": 22,
    "start_time": "2023-06-19T12:27:55.620Z"
   },
   {
    "duration": 360,
    "start_time": "2023-06-19T12:27:55.644Z"
   },
   {
    "duration": 329,
    "start_time": "2023-06-19T12:27:56.007Z"
   },
   {
    "duration": 20,
    "start_time": "2023-06-19T12:27:56.339Z"
   },
   {
    "duration": 22,
    "start_time": "2023-06-19T12:27:56.369Z"
   },
   {
    "duration": 6,
    "start_time": "2023-06-19T12:27:56.393Z"
   },
   {
    "duration": 15,
    "start_time": "2023-06-19T12:27:56.401Z"
   },
   {
    "duration": 5,
    "start_time": "2023-06-19T12:27:56.418Z"
   },
   {
    "duration": 17,
    "start_time": "2023-06-19T12:27:56.425Z"
   },
   {
    "duration": 23,
    "start_time": "2023-06-19T12:27:56.444Z"
   },
   {
    "duration": 41,
    "start_time": "2023-06-19T12:27:56.469Z"
   },
   {
    "duration": 15,
    "start_time": "2023-06-19T12:27:56.512Z"
   },
   {
    "duration": 14,
    "start_time": "2023-06-19T12:27:56.529Z"
   },
   {
    "duration": 1637,
    "start_time": "2023-06-19T12:34:44.018Z"
   },
   {
    "duration": 11,
    "start_time": "2023-06-19T12:34:45.659Z"
   },
   {
    "duration": 9,
    "start_time": "2023-06-19T12:34:45.671Z"
   },
   {
    "duration": 9,
    "start_time": "2023-06-19T12:34:45.686Z"
   },
   {
    "duration": 9,
    "start_time": "2023-06-19T12:34:45.697Z"
   },
   {
    "duration": 22,
    "start_time": "2023-06-19T12:34:45.708Z"
   },
   {
    "duration": 17,
    "start_time": "2023-06-19T12:34:45.733Z"
   },
   {
    "duration": 7,
    "start_time": "2023-06-19T12:34:45.759Z"
   },
   {
    "duration": 422,
    "start_time": "2023-06-19T12:34:45.768Z"
   },
   {
    "duration": 29,
    "start_time": "2023-06-19T12:34:46.194Z"
   },
   {
    "duration": 23,
    "start_time": "2023-06-19T12:34:46.225Z"
   },
   {
    "duration": 28,
    "start_time": "2023-06-19T12:34:46.251Z"
   },
   {
    "duration": 11,
    "start_time": "2023-06-19T12:34:46.281Z"
   },
   {
    "duration": 17,
    "start_time": "2023-06-19T12:34:46.294Z"
   },
   {
    "duration": 15,
    "start_time": "2023-06-19T12:34:46.313Z"
   },
   {
    "duration": 86,
    "start_time": "2023-06-19T12:34:46.331Z"
   },
   {
    "duration": 62,
    "start_time": "2023-06-19T12:34:46.420Z"
   },
   {
    "duration": 42,
    "start_time": "2023-06-19T12:34:46.488Z"
   },
   {
    "duration": 14,
    "start_time": "2023-06-19T12:34:46.533Z"
   },
   {
    "duration": 40,
    "start_time": "2023-06-19T12:34:46.549Z"
   },
   {
    "duration": 38,
    "start_time": "2023-06-19T12:34:46.593Z"
   },
   {
    "duration": 14,
    "start_time": "2023-06-19T12:34:46.633Z"
   },
   {
    "duration": 16,
    "start_time": "2023-06-19T12:34:46.649Z"
   },
   {
    "duration": 40,
    "start_time": "2023-06-19T12:34:46.674Z"
   },
   {
    "duration": 9,
    "start_time": "2023-06-19T12:34:46.717Z"
   },
   {
    "duration": 26,
    "start_time": "2023-06-19T12:34:46.728Z"
   },
   {
    "duration": 26,
    "start_time": "2023-06-19T12:34:46.761Z"
   },
   {
    "duration": 23,
    "start_time": "2023-06-19T12:34:46.796Z"
   },
   {
    "duration": 18,
    "start_time": "2023-06-19T12:34:46.822Z"
   },
   {
    "duration": 36,
    "start_time": "2023-06-19T12:34:46.843Z"
   },
   {
    "duration": 18,
    "start_time": "2023-06-19T12:34:46.881Z"
   },
   {
    "duration": 13,
    "start_time": "2023-06-19T12:34:46.901Z"
   },
   {
    "duration": 18,
    "start_time": "2023-06-19T12:34:46.916Z"
   },
   {
    "duration": 575,
    "start_time": "2023-06-19T12:34:46.962Z"
   },
   {
    "duration": 11,
    "start_time": "2023-06-19T12:34:47.539Z"
   },
   {
    "duration": 25,
    "start_time": "2023-06-19T12:34:47.565Z"
   },
   {
    "duration": 589,
    "start_time": "2023-06-19T12:34:47.592Z"
   },
   {
    "duration": 13,
    "start_time": "2023-06-19T12:34:48.186Z"
   },
   {
    "duration": 48,
    "start_time": "2023-06-19T12:34:48.201Z"
   },
   {
    "duration": 30,
    "start_time": "2023-06-19T12:34:48.251Z"
   },
   {
    "duration": 208,
    "start_time": "2023-06-19T12:34:48.283Z"
   },
   {
    "duration": 87,
    "start_time": "2023-06-19T12:34:48.493Z"
   },
   {
    "duration": 221,
    "start_time": "2023-06-19T12:34:48.583Z"
   },
   {
    "duration": 30,
    "start_time": "2023-06-19T12:34:48.806Z"
   },
   {
    "duration": 371,
    "start_time": "2023-06-19T12:34:48.838Z"
   },
   {
    "duration": 251,
    "start_time": "2023-06-19T12:34:49.212Z"
   },
   {
    "duration": 30,
    "start_time": "2023-06-19T12:34:49.465Z"
   },
   {
    "duration": 262,
    "start_time": "2023-06-19T12:34:49.501Z"
   },
   {
    "duration": 23,
    "start_time": "2023-06-19T12:34:49.768Z"
   },
   {
    "duration": 261,
    "start_time": "2023-06-19T12:34:49.793Z"
   },
   {
    "duration": 382,
    "start_time": "2023-06-19T12:34:50.069Z"
   },
   {
    "duration": 22,
    "start_time": "2023-06-19T12:34:50.457Z"
   },
   {
    "duration": 330,
    "start_time": "2023-06-19T12:34:50.492Z"
   },
   {
    "duration": 276,
    "start_time": "2023-06-19T12:34:50.824Z"
   },
   {
    "duration": 17,
    "start_time": "2023-06-19T12:34:51.102Z"
   },
   {
    "duration": 276,
    "start_time": "2023-06-19T12:34:51.122Z"
   },
   {
    "duration": 21,
    "start_time": "2023-06-19T12:34:51.401Z"
   },
   {
    "duration": 274,
    "start_time": "2023-06-19T12:34:51.425Z"
   },
   {
    "duration": 323,
    "start_time": "2023-06-19T12:34:51.702Z"
   },
   {
    "duration": 652,
    "start_time": "2023-06-19T12:34:52.027Z"
   },
   {
    "duration": 298,
    "start_time": "2023-06-19T12:34:52.681Z"
   },
   {
    "duration": 218,
    "start_time": "2023-06-19T12:34:52.980Z"
   },
   {
    "duration": 222,
    "start_time": "2023-06-19T12:34:53.201Z"
   },
   {
    "duration": 72,
    "start_time": "2023-06-19T12:34:53.425Z"
   },
   {
    "duration": 13,
    "start_time": "2023-06-19T12:34:53.499Z"
   },
   {
    "duration": 16,
    "start_time": "2023-06-19T12:34:53.514Z"
   },
   {
    "duration": 33,
    "start_time": "2023-06-19T12:34:53.532Z"
   },
   {
    "duration": 1354,
    "start_time": "2023-06-19T12:34:53.568Z"
   },
   {
    "duration": 43,
    "start_time": "2023-06-19T12:34:54.924Z"
   },
   {
    "duration": 14,
    "start_time": "2023-06-19T12:34:54.976Z"
   },
   {
    "duration": 20,
    "start_time": "2023-06-19T12:34:54.993Z"
   },
   {
    "duration": 11,
    "start_time": "2023-06-19T12:34:55.016Z"
   },
   {
    "duration": 44,
    "start_time": "2023-06-19T12:34:55.029Z"
   },
   {
    "duration": 357,
    "start_time": "2023-06-19T12:34:55.081Z"
   },
   {
    "duration": 382,
    "start_time": "2023-06-19T12:34:55.440Z"
   },
   {
    "duration": 9,
    "start_time": "2023-06-19T12:34:55.824Z"
   },
   {
    "duration": 32,
    "start_time": "2023-06-19T12:34:55.835Z"
   },
   {
    "duration": 8,
    "start_time": "2023-06-19T12:34:55.870Z"
   },
   {
    "duration": 29,
    "start_time": "2023-06-19T12:34:55.880Z"
   },
   {
    "duration": 5,
    "start_time": "2023-06-19T12:34:55.915Z"
   },
   {
    "duration": 17,
    "start_time": "2023-06-19T12:34:55.923Z"
   },
   {
    "duration": 16,
    "start_time": "2023-06-19T12:34:55.947Z"
   },
   {
    "duration": 23,
    "start_time": "2023-06-19T12:34:55.966Z"
   },
   {
    "duration": 14,
    "start_time": "2023-06-19T12:34:55.994Z"
   },
   {
    "duration": 18,
    "start_time": "2023-06-19T12:34:56.010Z"
   },
   {
    "duration": 1245,
    "start_time": "2023-06-19T15:39:06.467Z"
   },
   {
    "duration": 4,
    "start_time": "2023-06-19T15:39:07.714Z"
   },
   {
    "duration": 7,
    "start_time": "2023-06-19T15:39:07.719Z"
   },
   {
    "duration": 6,
    "start_time": "2023-06-19T15:39:07.727Z"
   },
   {
    "duration": 19,
    "start_time": "2023-06-19T15:39:07.735Z"
   },
   {
    "duration": 10,
    "start_time": "2023-06-19T15:39:07.756Z"
   },
   {
    "duration": 8,
    "start_time": "2023-06-19T15:39:07.768Z"
   },
   {
    "duration": 11,
    "start_time": "2023-06-19T15:39:07.778Z"
   },
   {
    "duration": 620,
    "start_time": "2023-06-19T15:39:07.790Z"
   },
   {
    "duration": 22,
    "start_time": "2023-06-19T15:39:08.412Z"
   },
   {
    "duration": 18,
    "start_time": "2023-06-19T15:39:08.436Z"
   },
   {
    "duration": 11,
    "start_time": "2023-06-19T15:39:08.456Z"
   },
   {
    "duration": 13,
    "start_time": "2023-06-19T15:39:08.468Z"
   },
   {
    "duration": 18,
    "start_time": "2023-06-19T15:39:08.485Z"
   },
   {
    "duration": 5,
    "start_time": "2023-06-19T15:39:08.504Z"
   },
   {
    "duration": 56,
    "start_time": "2023-06-19T15:39:08.511Z"
   },
   {
    "duration": 28,
    "start_time": "2023-06-19T15:39:08.569Z"
   },
   {
    "duration": 22,
    "start_time": "2023-06-19T15:39:08.598Z"
   },
   {
    "duration": 34,
    "start_time": "2023-06-19T15:39:08.621Z"
   },
   {
    "duration": 15,
    "start_time": "2023-06-19T15:39:08.656Z"
   },
   {
    "duration": 20,
    "start_time": "2023-06-19T15:39:08.672Z"
   },
   {
    "duration": 8,
    "start_time": "2023-06-19T15:39:08.693Z"
   },
   {
    "duration": 7,
    "start_time": "2023-06-19T15:39:08.703Z"
   },
   {
    "duration": 14,
    "start_time": "2023-06-19T15:39:08.711Z"
   },
   {
    "duration": 29,
    "start_time": "2023-06-19T15:39:08.726Z"
   },
   {
    "duration": 16,
    "start_time": "2023-06-19T15:39:08.757Z"
   },
   {
    "duration": 6,
    "start_time": "2023-06-19T15:39:08.775Z"
   },
   {
    "duration": 10,
    "start_time": "2023-06-19T15:39:08.782Z"
   },
   {
    "duration": 9,
    "start_time": "2023-06-19T15:39:08.794Z"
   },
   {
    "duration": 24,
    "start_time": "2023-06-19T15:39:08.804Z"
   },
   {
    "duration": 33,
    "start_time": "2023-06-19T15:39:08.830Z"
   },
   {
    "duration": 8,
    "start_time": "2023-06-19T15:39:08.864Z"
   },
   {
    "duration": 13,
    "start_time": "2023-06-19T15:39:08.873Z"
   },
   {
    "duration": 395,
    "start_time": "2023-06-19T15:39:08.888Z"
   },
   {
    "duration": 8,
    "start_time": "2023-06-19T15:39:09.284Z"
   },
   {
    "duration": 15,
    "start_time": "2023-06-19T15:39:09.293Z"
   },
   {
    "duration": 404,
    "start_time": "2023-06-19T15:39:09.310Z"
   },
   {
    "duration": 10,
    "start_time": "2023-06-19T15:39:09.716Z"
   },
   {
    "duration": 20,
    "start_time": "2023-06-19T15:39:09.728Z"
   },
   {
    "duration": 13,
    "start_time": "2023-06-19T15:39:09.750Z"
   },
   {
    "duration": 141,
    "start_time": "2023-06-19T15:39:09.767Z"
   },
   {
    "duration": 56,
    "start_time": "2023-06-19T15:39:09.909Z"
   },
   {
    "duration": 144,
    "start_time": "2023-06-19T15:39:09.967Z"
   },
   {
    "duration": 20,
    "start_time": "2023-06-19T15:39:10.113Z"
   },
   {
    "duration": 219,
    "start_time": "2023-06-19T15:39:10.136Z"
   },
   {
    "duration": 181,
    "start_time": "2023-06-19T15:39:10.357Z"
   },
   {
    "duration": 21,
    "start_time": "2023-06-19T15:39:10.540Z"
   },
   {
    "duration": 145,
    "start_time": "2023-06-19T15:39:10.562Z"
   },
   {
    "duration": 15,
    "start_time": "2023-06-19T15:39:10.709Z"
   },
   {
    "duration": 160,
    "start_time": "2023-06-19T15:39:10.726Z"
   },
   {
    "duration": 255,
    "start_time": "2023-06-19T15:39:10.887Z"
   },
   {
    "duration": 19,
    "start_time": "2023-06-19T15:39:11.144Z"
   },
   {
    "duration": 200,
    "start_time": "2023-06-19T15:39:11.165Z"
   },
   {
    "duration": 156,
    "start_time": "2023-06-19T15:39:11.367Z"
   },
   {
    "duration": 10,
    "start_time": "2023-06-19T15:39:11.525Z"
   },
   {
    "duration": 147,
    "start_time": "2023-06-19T15:39:11.537Z"
   },
   {
    "duration": 12,
    "start_time": "2023-06-19T15:39:11.686Z"
   },
   {
    "duration": 167,
    "start_time": "2023-06-19T15:39:11.700Z"
   },
   {
    "duration": 170,
    "start_time": "2023-06-19T15:39:11.869Z"
   },
   {
    "duration": 958,
    "start_time": "2023-06-19T15:39:12.041Z"
   },
   {
    "duration": 199,
    "start_time": "2023-06-19T15:39:13.001Z"
   },
   {
    "duration": 168,
    "start_time": "2023-06-19T15:39:13.201Z"
   },
   {
    "duration": 169,
    "start_time": "2023-06-19T15:39:13.370Z"
   },
   {
    "duration": 46,
    "start_time": "2023-06-19T15:39:13.541Z"
   },
   {
    "duration": 10,
    "start_time": "2023-06-19T15:39:13.588Z"
   },
   {
    "duration": 7,
    "start_time": "2023-06-19T15:39:13.600Z"
   },
   {
    "duration": 6,
    "start_time": "2023-06-19T15:39:13.609Z"
   },
   {
    "duration": 1120,
    "start_time": "2023-06-19T15:39:13.616Z"
   },
   {
    "duration": 26,
    "start_time": "2023-06-19T15:39:14.738Z"
   },
   {
    "duration": 11,
    "start_time": "2023-06-19T15:39:14.765Z"
   },
   {
    "duration": 13,
    "start_time": "2023-06-19T15:39:14.778Z"
   },
   {
    "duration": 8,
    "start_time": "2023-06-19T15:39:14.793Z"
   },
   {
    "duration": 11,
    "start_time": "2023-06-19T15:39:14.803Z"
   },
   {
    "duration": 258,
    "start_time": "2023-06-19T15:39:14.816Z"
   },
   {
    "duration": 285,
    "start_time": "2023-06-19T15:39:15.077Z"
   },
   {
    "duration": 8,
    "start_time": "2023-06-19T15:39:15.364Z"
   },
   {
    "duration": 22,
    "start_time": "2023-06-19T15:39:15.374Z"
   },
   {
    "duration": 7,
    "start_time": "2023-06-19T15:39:15.398Z"
   },
   {
    "duration": 12,
    "start_time": "2023-06-19T15:39:15.407Z"
   },
   {
    "duration": 5,
    "start_time": "2023-06-19T15:39:15.421Z"
   },
   {
    "duration": 29,
    "start_time": "2023-06-19T15:39:15.428Z"
   },
   {
    "duration": 10,
    "start_time": "2023-06-19T15:39:15.458Z"
   },
   {
    "duration": 30,
    "start_time": "2023-06-19T15:39:15.470Z"
   },
   {
    "duration": 22,
    "start_time": "2023-06-19T15:39:15.502Z"
   },
   {
    "duration": 20,
    "start_time": "2023-06-19T15:39:15.526Z"
   },
   {
    "duration": 1117,
    "start_time": "2023-06-19T17:53:34.794Z"
   },
   {
    "duration": 4,
    "start_time": "2023-06-19T17:53:35.913Z"
   },
   {
    "duration": 50,
    "start_time": "2023-06-19T17:53:35.918Z"
   },
   {
    "duration": 19,
    "start_time": "2023-06-19T17:53:35.970Z"
   },
   {
    "duration": 11,
    "start_time": "2023-06-19T17:53:35.991Z"
   },
   {
    "duration": 14,
    "start_time": "2023-06-19T17:53:36.004Z"
   },
   {
    "duration": 21,
    "start_time": "2023-06-19T17:53:36.020Z"
   },
   {
    "duration": 11,
    "start_time": "2023-06-19T17:53:36.042Z"
   },
   {
    "duration": 160,
    "start_time": "2023-06-19T17:53:36.055Z"
   },
   {
    "duration": 17,
    "start_time": "2023-06-19T17:53:36.218Z"
   },
   {
    "duration": 14,
    "start_time": "2023-06-19T17:53:36.236Z"
   },
   {
    "duration": 17,
    "start_time": "2023-06-19T17:53:36.253Z"
   },
   {
    "duration": 15,
    "start_time": "2023-06-19T17:53:36.272Z"
   },
   {
    "duration": 19,
    "start_time": "2023-06-19T17:53:36.289Z"
   },
   {
    "duration": 6,
    "start_time": "2023-06-19T17:53:36.310Z"
   },
   {
    "duration": 67,
    "start_time": "2023-06-19T17:53:36.318Z"
   },
   {
    "duration": 29,
    "start_time": "2023-06-19T17:53:36.386Z"
   },
   {
    "duration": 39,
    "start_time": "2023-06-19T17:53:36.417Z"
   },
   {
    "duration": 8,
    "start_time": "2023-06-19T17:53:36.458Z"
   },
   {
    "duration": 18,
    "start_time": "2023-06-19T17:53:36.468Z"
   },
   {
    "duration": 19,
    "start_time": "2023-06-19T17:53:36.488Z"
   },
   {
    "duration": 11,
    "start_time": "2023-06-19T17:53:36.509Z"
   },
   {
    "duration": 33,
    "start_time": "2023-06-19T17:53:36.522Z"
   },
   {
    "duration": 19,
    "start_time": "2023-06-19T17:53:36.557Z"
   },
   {
    "duration": 6,
    "start_time": "2023-06-19T17:53:36.578Z"
   },
   {
    "duration": 9,
    "start_time": "2023-06-19T17:53:36.586Z"
   },
   {
    "duration": 7,
    "start_time": "2023-06-19T17:53:36.597Z"
   },
   {
    "duration": 43,
    "start_time": "2023-06-19T17:53:36.609Z"
   },
   {
    "duration": 7,
    "start_time": "2023-06-19T17:53:36.654Z"
   },
   {
    "duration": 23,
    "start_time": "2023-06-19T17:53:36.662Z"
   },
   {
    "duration": 24,
    "start_time": "2023-06-19T17:53:36.687Z"
   },
   {
    "duration": 11,
    "start_time": "2023-06-19T17:53:36.712Z"
   },
   {
    "duration": 28,
    "start_time": "2023-06-19T17:53:36.729Z"
   },
   {
    "duration": 388,
    "start_time": "2023-06-19T17:53:36.759Z"
   },
   {
    "duration": 7,
    "start_time": "2023-06-19T17:53:37.151Z"
   },
   {
    "duration": 11,
    "start_time": "2023-06-19T17:53:37.160Z"
   },
   {
    "duration": 419,
    "start_time": "2023-06-19T17:53:37.172Z"
   },
   {
    "duration": 10,
    "start_time": "2023-06-19T17:53:37.593Z"
   },
   {
    "duration": 21,
    "start_time": "2023-06-19T17:53:37.605Z"
   },
   {
    "duration": 13,
    "start_time": "2023-06-19T17:53:37.628Z"
   },
   {
    "duration": 140,
    "start_time": "2023-06-19T17:53:37.642Z"
   },
   {
    "duration": 50,
    "start_time": "2023-06-19T17:53:37.784Z"
   },
   {
    "duration": 174,
    "start_time": "2023-06-19T17:53:37.835Z"
   },
   {
    "duration": 27,
    "start_time": "2023-06-19T17:53:38.011Z"
   },
   {
    "duration": 266,
    "start_time": "2023-06-19T17:53:38.040Z"
   },
   {
    "duration": 225,
    "start_time": "2023-06-19T17:53:38.308Z"
   },
   {
    "duration": 23,
    "start_time": "2023-06-19T17:53:38.536Z"
   },
   {
    "duration": 166,
    "start_time": "2023-06-19T17:53:38.561Z"
   },
   {
    "duration": 33,
    "start_time": "2023-06-19T17:53:38.728Z"
   },
   {
    "duration": 183,
    "start_time": "2023-06-19T17:53:38.763Z"
   },
   {
    "duration": 313,
    "start_time": "2023-06-19T17:53:38.947Z"
   },
   {
    "duration": 17,
    "start_time": "2023-06-19T17:53:39.262Z"
   },
   {
    "duration": 255,
    "start_time": "2023-06-19T17:53:39.281Z"
   },
   {
    "duration": 189,
    "start_time": "2023-06-19T17:53:39.538Z"
   },
   {
    "duration": 23,
    "start_time": "2023-06-19T17:53:39.729Z"
   },
   {
    "duration": 167,
    "start_time": "2023-06-19T17:53:39.754Z"
   },
   {
    "duration": 13,
    "start_time": "2023-06-19T17:53:39.924Z"
   },
   {
    "duration": 208,
    "start_time": "2023-06-19T17:53:39.939Z"
   },
   {
    "duration": 201,
    "start_time": "2023-06-19T17:53:40.152Z"
   },
   {
    "duration": 429,
    "start_time": "2023-06-19T17:53:40.355Z"
   },
   {
    "duration": 218,
    "start_time": "2023-06-19T17:53:40.785Z"
   },
   {
    "duration": 195,
    "start_time": "2023-06-19T17:53:41.004Z"
   },
   {
    "duration": 197,
    "start_time": "2023-06-19T17:53:41.201Z"
   },
   {
    "duration": 55,
    "start_time": "2023-06-19T17:53:41.400Z"
   },
   {
    "duration": 10,
    "start_time": "2023-06-19T17:53:41.457Z"
   },
   {
    "duration": 17,
    "start_time": "2023-06-19T17:53:41.468Z"
   },
   {
    "duration": 7,
    "start_time": "2023-06-19T17:53:41.487Z"
   },
   {
    "duration": 1138,
    "start_time": "2023-06-19T17:53:41.496Z"
   },
   {
    "duration": 26,
    "start_time": "2023-06-19T17:53:42.636Z"
   },
   {
    "duration": 11,
    "start_time": "2023-06-19T17:53:42.663Z"
   },
   {
    "duration": 27,
    "start_time": "2023-06-19T17:53:42.675Z"
   },
   {
    "duration": 18,
    "start_time": "2023-06-19T17:53:42.704Z"
   },
   {
    "duration": 25,
    "start_time": "2023-06-19T17:53:42.723Z"
   },
   {
    "duration": 229,
    "start_time": "2023-06-19T17:53:42.750Z"
   },
   {
    "duration": 300,
    "start_time": "2023-06-19T17:53:42.981Z"
   },
   {
    "duration": 7,
    "start_time": "2023-06-19T17:53:43.283Z"
   },
   {
    "duration": 16,
    "start_time": "2023-06-19T17:53:43.292Z"
   },
   {
    "duration": 16,
    "start_time": "2023-06-19T17:53:43.310Z"
   },
   {
    "duration": 21,
    "start_time": "2023-06-19T17:53:43.328Z"
   },
   {
    "duration": 15,
    "start_time": "2023-06-19T17:53:43.352Z"
   },
   {
    "duration": 15,
    "start_time": "2023-06-19T17:53:43.369Z"
   },
   {
    "duration": 8,
    "start_time": "2023-06-19T17:53:43.390Z"
   },
   {
    "duration": 11,
    "start_time": "2023-06-19T17:53:43.400Z"
   },
   {
    "duration": 14,
    "start_time": "2023-06-19T17:53:43.413Z"
   },
   {
    "duration": 32,
    "start_time": "2023-06-19T17:53:43.429Z"
   },
   {
    "duration": 614,
    "start_time": "2023-06-19T18:13:09.435Z"
   },
   {
    "duration": 124,
    "start_time": "2023-06-19T18:15:43.355Z"
   },
   {
    "duration": 28,
    "start_time": "2023-06-19T18:15:46.217Z"
   },
   {
    "duration": 21,
    "start_time": "2023-06-19T18:15:48.113Z"
   },
   {
    "duration": 29,
    "start_time": "2023-06-19T18:15:53.193Z"
   },
   {
    "duration": 17,
    "start_time": "2023-06-19T18:15:58.415Z"
   },
   {
    "duration": 20,
    "start_time": "2023-06-19T18:49:59.495Z"
   }
  ],
  "kernelspec": {
   "display_name": "Python 3 (ipykernel)",
   "language": "python",
   "name": "python3"
  },
  "language_info": {
   "codemirror_mode": {
    "name": "ipython",
    "version": 3
   },
   "file_extension": ".py",
   "mimetype": "text/x-python",
   "name": "python",
   "nbconvert_exporter": "python",
   "pygments_lexer": "ipython3",
   "version": "3.11.3"
  },
  "toc": {
   "base_numbering": 1,
   "nav_menu": {},
   "number_sections": false,
   "sideBar": true,
   "skip_h1_title": true,
   "title_cell": "Table of Contents",
   "title_sidebar": "Contents",
   "toc_cell": false,
   "toc_position": {
    "height": "calc(100% - 180px)",
    "left": "10px",
    "top": "150px",
    "width": "165px"
   },
   "toc_section_display": true,
   "toc_window_display": false
  }
 },
 "nbformat": 4,
 "nbformat_minor": 2
}
